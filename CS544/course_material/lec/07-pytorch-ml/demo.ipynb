{
 "cells": [
  {
   "cell_type": "code",
   "execution_count": 1,
   "id": "b9e04e51-70a2-4a18-81a3-5399dd5553da",
   "metadata": {},
   "outputs": [
    {
     "name": "stderr",
     "output_type": "stream",
     "text": [
      "/tmp/ipykernel_7646/1724107054.py:4: DtypeWarning: Columns (5) have mixed types. Specify dtype option on import or set low_memory=False.\n",
      "  df = pd.read_csv(path, names=[\"station\", \"date\", \"element\", \"value\", \"m\", \"q\", \"s\", \"obs\"])\n"
     ]
    }
   ],
   "source": [
    "import torch\n",
    "import pandas as pd\n",
    "path = \"https://pages.cs.wisc.edu/~harter/cs639/data/wi-stations/USW00014837.csv.gz\"\n",
    "df = pd.read_csv(path, names=[\"station\", \"date\", \"element\", \"value\", \"m\", \"q\", \"s\", \"obs\"])\n",
    "\n",
    "#https://pages.cs.wisc.edu/~harter/cs639/data/wi-stations/USW00014839.csv.gz"
   ]
  },
  {
   "cell_type": "code",
   "execution_count": 2,
   "id": "67e47a26-5855-42e6-bf16-0e66270c439c",
   "metadata": {},
   "outputs": [
    {
     "data": {
      "text/plain": [
       "0          True\n",
       "1          True\n",
       "2          True\n",
       "3          True\n",
       "4          True\n",
       "          ...  \n",
       "409846    False\n",
       "409847    False\n",
       "409848    False\n",
       "409849    False\n",
       "409850    False\n",
       "Name: element, Length: 409851, dtype: bool"
      ]
     },
     "execution_count": 2,
     "metadata": {},
     "output_type": "execute_result"
    }
   ],
   "source": [
    "df[\"element\"].isin([\"TMIN\", \"TMAX\"])"
   ]
  },
  {
   "cell_type": "code",
   "execution_count": 3,
   "id": "fb08b24b-bc7c-4899-b847-963633ba0614",
   "metadata": {},
   "outputs": [
    {
     "data": {
      "text/html": [
       "<div>\n",
       "<style scoped>\n",
       "    .dataframe tbody tr th:only-of-type {\n",
       "        vertical-align: middle;\n",
       "    }\n",
       "\n",
       "    .dataframe tbody tr th {\n",
       "        vertical-align: top;\n",
       "    }\n",
       "\n",
       "    .dataframe thead th {\n",
       "        text-align: right;\n",
       "    }\n",
       "</style>\n",
       "<table border=\"1\" class=\"dataframe\">\n",
       "  <thead>\n",
       "    <tr style=\"text-align: right;\">\n",
       "      <th></th>\n",
       "      <th>station</th>\n",
       "      <th>date</th>\n",
       "      <th>element</th>\n",
       "      <th>value</th>\n",
       "      <th>m</th>\n",
       "      <th>q</th>\n",
       "      <th>s</th>\n",
       "      <th>obs</th>\n",
       "    </tr>\n",
       "  </thead>\n",
       "  <tbody>\n",
       "    <tr>\n",
       "      <th>0</th>\n",
       "      <td>USW00014837</td>\n",
       "      <td>19391001</td>\n",
       "      <td>TMAX</td>\n",
       "      <td>194</td>\n",
       "      <td>NaN</td>\n",
       "      <td>NaN</td>\n",
       "      <td>X</td>\n",
       "      <td>NaN</td>\n",
       "    </tr>\n",
       "    <tr>\n",
       "      <th>1</th>\n",
       "      <td>USW00014837</td>\n",
       "      <td>19391002</td>\n",
       "      <td>TMAX</td>\n",
       "      <td>211</td>\n",
       "      <td>NaN</td>\n",
       "      <td>NaN</td>\n",
       "      <td>X</td>\n",
       "      <td>NaN</td>\n",
       "    </tr>\n",
       "    <tr>\n",
       "      <th>2</th>\n",
       "      <td>USW00014837</td>\n",
       "      <td>19391003</td>\n",
       "      <td>TMAX</td>\n",
       "      <td>233</td>\n",
       "      <td>NaN</td>\n",
       "      <td>NaN</td>\n",
       "      <td>X</td>\n",
       "      <td>NaN</td>\n",
       "    </tr>\n",
       "    <tr>\n",
       "      <th>3</th>\n",
       "      <td>USW00014837</td>\n",
       "      <td>19391004</td>\n",
       "      <td>TMAX</td>\n",
       "      <td>272</td>\n",
       "      <td>NaN</td>\n",
       "      <td>NaN</td>\n",
       "      <td>X</td>\n",
       "      <td>NaN</td>\n",
       "    </tr>\n",
       "    <tr>\n",
       "      <th>4</th>\n",
       "      <td>USW00014837</td>\n",
       "      <td>19391005</td>\n",
       "      <td>TMAX</td>\n",
       "      <td>211</td>\n",
       "      <td>NaN</td>\n",
       "      <td>NaN</td>\n",
       "      <td>X</td>\n",
       "      <td>NaN</td>\n",
       "    </tr>\n",
       "  </tbody>\n",
       "</table>\n",
       "</div>"
      ],
      "text/plain": [
       "       station      date element  value    m    q  s  obs\n",
       "0  USW00014837  19391001    TMAX    194  NaN  NaN  X  NaN\n",
       "1  USW00014837  19391002    TMAX    211  NaN  NaN  X  NaN\n",
       "2  USW00014837  19391003    TMAX    233  NaN  NaN  X  NaN\n",
       "3  USW00014837  19391004    TMAX    272  NaN  NaN  X  NaN\n",
       "4  USW00014837  19391005    TMAX    211  NaN  NaN  X  NaN"
      ]
     },
     "execution_count": 3,
     "metadata": {},
     "output_type": "execute_result"
    }
   ],
   "source": [
    "df2 = df[df[\"element\"].isin([\"TMIN\", \"TMAX\"])]\n",
    "df2.head()"
   ]
  },
  {
   "cell_type": "code",
   "execution_count": 4,
   "id": "24e41262-be4b-42cf-9c5a-1c4442e03bf6",
   "metadata": {},
   "outputs": [
    {
     "data": {
      "text/html": [
       "<div>\n",
       "<style scoped>\n",
       "    .dataframe tbody tr th:only-of-type {\n",
       "        vertical-align: middle;\n",
       "    }\n",
       "\n",
       "    .dataframe tbody tr th {\n",
       "        vertical-align: top;\n",
       "    }\n",
       "\n",
       "    .dataframe thead th {\n",
       "        text-align: right;\n",
       "    }\n",
       "</style>\n",
       "<table border=\"1\" class=\"dataframe\">\n",
       "  <thead>\n",
       "    <tr style=\"text-align: right;\">\n",
       "      <th>element</th>\n",
       "      <th>TMAX</th>\n",
       "      <th>TMIN</th>\n",
       "    </tr>\n",
       "    <tr>\n",
       "      <th>date</th>\n",
       "      <th></th>\n",
       "      <th></th>\n",
       "    </tr>\n",
       "  </thead>\n",
       "  <tbody>\n",
       "    <tr>\n",
       "      <th>19391001</th>\n",
       "      <td>194</td>\n",
       "      <td>6</td>\n",
       "    </tr>\n",
       "    <tr>\n",
       "      <th>19391002</th>\n",
       "      <td>211</td>\n",
       "      <td>33</td>\n",
       "    </tr>\n",
       "    <tr>\n",
       "      <th>19391003</th>\n",
       "      <td>233</td>\n",
       "      <td>89</td>\n",
       "    </tr>\n",
       "    <tr>\n",
       "      <th>19391004</th>\n",
       "      <td>272</td>\n",
       "      <td>106</td>\n",
       "    </tr>\n",
       "    <tr>\n",
       "      <th>19391005</th>\n",
       "      <td>211</td>\n",
       "      <td>133</td>\n",
       "    </tr>\n",
       "  </tbody>\n",
       "</table>\n",
       "</div>"
      ],
      "text/plain": [
       "element   TMAX  TMIN\n",
       "date                \n",
       "19391001   194     6\n",
       "19391002   211    33\n",
       "19391003   233    89\n",
       "19391004   272   106\n",
       "19391005   211   133"
      ]
     },
     "execution_count": 4,
     "metadata": {},
     "output_type": "execute_result"
    }
   ],
   "source": [
    "# GOAL: predict TMAX given TMIN\n",
    "temps = df2.pivot(index=\"date\", columns=\"element\", values=\"value\")\n",
    "temps.head()"
   ]
  },
  {
   "cell_type": "code",
   "execution_count": 5,
   "id": "28e05421-2f05-4899-9f95-23d279a5c42e",
   "metadata": {},
   "outputs": [
    {
     "data": {
      "text/plain": [
       "<AxesSubplot: xlabel='TMIN', ylabel='TMAX'>"
      ]
     },
     "execution_count": 5,
     "metadata": {},
     "output_type": "execute_result"
    },
    {
     "data": {
      "image/png": "[encoded data removed]",
      "text/plain": [
       "<Figure size 640x480 with 1 Axes>"
      ]
     },
     "metadata": {},
     "output_type": "display_data"
    }
   ],
   "source": [
    "temps.plot.scatter(x=\"TMIN\", y=\"TMAX\")"
   ]
  },
  {
   "cell_type": "code",
   "execution_count": 6,
   "id": "6a62a6cd-a47e-46f5-8b7c-d19f599f7e57",
   "metadata": {},
   "outputs": [],
   "source": [
    "# PyTorch Data:\n",
    "# 1. Dataset\n",
    "# 2. DataLoader: use DataSet, but provide shuffling and batching"
   ]
  },
  {
   "cell_type": "code",
   "execution_count": 7,
   "id": "de072068-ac72-40f3-98b6-b4a3cf12992c",
   "metadata": {},
   "outputs": [
    {
     "data": {
      "text/plain": [
       "tensor([[194.],\n",
       "        [211.],\n",
       "        [233.],\n",
       "        ...,\n",
       "        [ 28.],\n",
       "        [ 22.],\n",
       "        [  0.]])"
      ]
     },
     "execution_count": 7,
     "metadata": {},
     "output_type": "execute_result"
    }
   ],
   "source": [
    "import torch\n",
    "torch.tensor(temps[[\"TMAX\"]].values, dtype=torch.float32)"
   ]
  },
  {
   "cell_type": "code",
   "execution_count": 8,
   "id": "36e0b480-e67e-4f8f-b05c-e1ee960155eb",
   "metadata": {},
   "outputs": [],
   "source": [
    "# all data is in memory at the same time\n",
    "ds = torch.utils.data.TensorDataset(\n",
    "    torch.tensor(temps[[\"TMIN\"]].values, dtype=torch.float32),\n",
    "    torch.tensor(temps[[\"TMAX\"]].values, dtype=torch.float32))"
   ]
  },
  {
   "cell_type": "code",
   "execution_count": 9,
   "id": "765160a6-04dd-4332-acd0-6053869de090",
   "metadata": {},
   "outputs": [
    {
     "data": {
      "text/plain": [
       "(tensor([33.]), tensor([211.]))"
      ]
     },
     "execution_count": 9,
     "metadata": {},
     "output_type": "execute_result"
    }
   ],
   "source": [
    "ds[1]"
   ]
  },
  {
   "cell_type": "code",
   "execution_count": 10,
   "id": "f3119eda-d88f-4392-bd9c-de3448b6e0cf",
   "metadata": {},
   "outputs": [
    {
     "data": {
      "text/plain": [
       "(torch.utils.data.dataset.TensorDataset,\n",
       " torch.utils.data.dataset.Dataset,\n",
       " typing.Generic,\n",
       " object)"
      ]
     },
     "execution_count": 10,
     "metadata": {},
     "output_type": "execute_result"
    }
   ],
   "source": [
    "type(ds).__mro__"
   ]
  },
  {
   "cell_type": "code",
   "execution_count": 11,
   "id": "81f25163-c457-45d7-abe0-cf9381273dc7",
   "metadata": {},
   "outputs": [
    {
     "name": "stderr",
     "output_type": "stream",
     "text": [
      "/tmp/ipykernel_7646/841781102.py:3: DtypeWarning: Columns (5) have mixed types. Specify dtype option on import or set low_memory=False.\n",
      "  df = pd.read_csv(path, names=[\"station\", \"date\", \"element\", \"value\", \"m\", \"q\", \"s\", \"obs\"])\n"
     ]
    }
   ],
   "source": [
    "class TempDS(torch.utils.data.dataset.Dataset):\n",
    "    def __init__(self, path):\n",
    "        df = pd.read_csv(path, names=[\"station\", \"date\", \"element\", \"value\", \"m\", \"q\", \"s\", \"obs\"])\n",
    "        df2 = df[df[\"element\"].isin([\"TMIN\", \"TMAX\"])]\n",
    "        temps = df2.pivot(index=\"date\", columns=\"element\", values=\"value\")\n",
    "        self.X = torch.tensor(temps[[\"TMIN\"]].values, dtype=torch.float32)\n",
    "        self.Y = torch.tensor(temps[[\"TMAX\"]].values, dtype=torch.float32)\n",
    "        \n",
    "    def __getitem__(self, index):\n",
    "        return self.X[index], self.Y[index]\n",
    "    \n",
    "    def __len__(self):\n",
    "        return len(self.X)\n",
    "\n",
    "ds = TempDS(\"https://pages.cs.wisc.edu/~harter/cs639/data/wi-stations/USW00014837.csv.gz\")"
   ]
  },
  {
   "cell_type": "code",
   "execution_count": 12,
   "id": "02bbdbcf-f629-461d-aae8-8316824503f3",
   "metadata": {},
   "outputs": [
    {
     "data": {
      "text/plain": [
       "(tensor([33.]), tensor([211.]))"
      ]
     },
     "execution_count": 12,
     "metadata": {},
     "output_type": "execute_result"
    }
   ],
   "source": [
    "ds[1]"
   ]
  },
  {
   "cell_type": "code",
   "execution_count": 13,
   "id": "d351b609-ec24-48ac-b7f5-b4c54831c08d",
   "metadata": {},
   "outputs": [
    {
     "data": {
      "text/plain": [
       "(tensor([[  6.],\n",
       "         [ 33.],\n",
       "         [ 89.],\n",
       "         [106.],\n",
       "         [133.]]),\n",
       " tensor([[194.],\n",
       "         [211.],\n",
       "         [233.],\n",
       "         [272.],\n",
       "         [211.]]))"
      ]
     },
     "execution_count": 13,
     "metadata": {},
     "output_type": "execute_result"
    }
   ],
   "source": [
    "ds[:5]"
   ]
  },
  {
   "cell_type": "code",
   "execution_count": 14,
   "id": "7c93dc95-5245-43e8-8036-766e5c00f6a1",
   "metadata": {},
   "outputs": [
    {
     "data": {
      "text/plain": [
       "(tensor([[  6.],\n",
       "         [ 33.],\n",
       "         [ 89.],\n",
       "         ...,\n",
       "         [  0.],\n",
       "         [  0.],\n",
       "         [-32.]]),\n",
       " tensor([[194.],\n",
       "         [211.],\n",
       "         [233.],\n",
       "         ...,\n",
       "         [ 28.],\n",
       "         [ 22.],\n",
       "         [  0.]]))"
      ]
     },
     "execution_count": 14,
     "metadata": {},
     "output_type": "execute_result"
    }
   ],
   "source": [
    "ds[:]"
   ]
  },
  {
   "cell_type": "code",
   "execution_count": 15,
   "id": "00c9d4d4-a9a8-47b8-b171-50a6aa1ea2c8",
   "metadata": {},
   "outputs": [
    {
     "data": {
      "text/plain": [
       "30428"
      ]
     },
     "execution_count": 15,
     "metadata": {},
     "output_type": "execute_result"
    }
   ],
   "source": [
    "len(ds)"
   ]
  },
  {
   "cell_type": "code",
   "execution_count": 16,
   "id": "6f83bb7d-0677-4891-bbeb-483545860dc8",
   "metadata": {},
   "outputs": [
    {
     "name": "stderr",
     "output_type": "stream",
     "text": [
      "/tmp/ipykernel_7646/841781102.py:3: DtypeWarning: Columns (5) have mixed types. Specify dtype option on import or set low_memory=False.\n",
      "  df = pd.read_csv(path, names=[\"station\", \"date\", \"element\", \"value\", \"m\", \"q\", \"s\", \"obs\"])\n"
     ]
    }
   ],
   "source": [
    "ds2 = TempDS(\"https://pages.cs.wisc.edu/~harter/cs639/data/wi-stations/USW00014839.csv.gz\")"
   ]
  },
  {
   "cell_type": "code",
   "execution_count": 17,
   "id": "2d41f4dc-1898-4086-a5bb-627949fac565",
   "metadata": {},
   "outputs": [
    {
     "data": {
      "text/plain": [
       "61404"
      ]
     },
     "execution_count": 17,
     "metadata": {},
     "output_type": "execute_result"
    }
   ],
   "source": [
    "len(ds + ds2)"
   ]
  },
  {
   "cell_type": "code",
   "execution_count": 18,
   "id": "bc769f3e-569b-407c-9476-26beb21dad81",
   "metadata": {},
   "outputs": [],
   "source": [
    "dl = torch.utils.data.DataLoader(ds, shuffle=True, batch_size=10)"
   ]
  },
  {
   "cell_type": "code",
   "execution_count": 19,
   "id": "9269ef47-0beb-4a64-a4ff-c0ce96e4081e",
   "metadata": {},
   "outputs": [
    {
     "name": "stdout",
     "output_type": "stream",
     "text": [
      "tensor([[ -27.],\n",
      "        [ -32.],\n",
      "        [  22.],\n",
      "        [-111.],\n",
      "        [-239.],\n",
      "        [   0.],\n",
      "        [ 161.],\n",
      "        [-217.],\n",
      "        [ -27.],\n",
      "        [ -78.]])\n",
      "tensor([[  61.],\n",
      "        [   0.],\n",
      "        [ 178.],\n",
      "        [  28.],\n",
      "        [-161.],\n",
      "        [  83.],\n",
      "        [ 261.],\n",
      "        [ -89.],\n",
      "        [  67.],\n",
      "        [  11.]])\n"
     ]
    }
   ],
   "source": [
    "for x, y in dl:\n",
    "    print(x)\n",
    "    print(y)\n",
    "    break"
   ]
  },
  {
   "cell_type": "code",
   "execution_count": 20,
   "id": "f557c31a-7257-4b3b-9c69-534137a25748",
   "metadata": {},
   "outputs": [],
   "source": [
    "# review: Dataset, DataLoader, Model, Optimizer, Loss Function\n",
    "\n",
    "# model:\n",
    "# tmax = model(tmin) = tmin * weight + bias"
   ]
  },
  {
   "cell_type": "code",
   "execution_count": 26,
   "id": "d1a02d02-8d2e-4459-94df-021d36c3080f",
   "metadata": {},
   "outputs": [
    {
     "name": "stdout",
     "output_type": "stream",
     "text": [
      "0 tensor(12819.2314, grad_fn=<MseLossBackward0>)\n",
      "1 tensor(11452.3125, grad_fn=<MseLossBackward0>)\n",
      "2 tensor(10781.9971, grad_fn=<MseLossBackward0>)\n",
      "3 tensor(9431.9297, grad_fn=<MseLossBackward0>)\n",
      "4 tensor(8612.9014, grad_fn=<MseLossBackward0>)\n",
      "5 tensor(7942.2290, grad_fn=<MseLossBackward0>)\n",
      "6 tensor(7272.4038, grad_fn=<MseLossBackward0>)\n",
      "7 tensor(6834.5107, grad_fn=<MseLossBackward0>)\n",
      "8 tensor(6377.7363, grad_fn=<MseLossBackward0>)\n",
      "9 tensor(5725.4956, grad_fn=<MseLossBackward0>)\n",
      "10 tensor(5329.7026, grad_fn=<MseLossBackward0>)\n",
      "11 tensor(5077.4556, grad_fn=<MseLossBackward0>)\n",
      "12 tensor(4675.3706, grad_fn=<MseLossBackward0>)\n",
      "13 tensor(4512.1616, grad_fn=<MseLossBackward0>)\n",
      "14 tensor(4132.9248, grad_fn=<MseLossBackward0>)\n",
      "15 tensor(3877.8147, grad_fn=<MseLossBackward0>)\n",
      "16 tensor(3682.7371, grad_fn=<MseLossBackward0>)\n",
      "17 tensor(3504.5417, grad_fn=<MseLossBackward0>)\n",
      "18 tensor(3396.3645, grad_fn=<MseLossBackward0>)\n",
      "19 tensor(3201.0447, grad_fn=<MseLossBackward0>)\n",
      "20 tensor(3151.0110, grad_fn=<MseLossBackward0>)\n",
      "21 tensor(2978.1799, grad_fn=<MseLossBackward0>)\n",
      "22 tensor(2910.2500, grad_fn=<MseLossBackward0>)\n",
      "23 tensor(2778.6567, grad_fn=<MseLossBackward0>)\n",
      "24 tensor(2696.6511, grad_fn=<MseLossBackward0>)\n",
      "25 tensor(2623.9858, grad_fn=<MseLossBackward0>)\n",
      "26 tensor(2576.4463, grad_fn=<MseLossBackward0>)\n",
      "27 tensor(2530.0229, grad_fn=<MseLossBackward0>)\n",
      "28 tensor(2467.3796, grad_fn=<MseLossBackward0>)\n",
      "29 tensor(2432.0195, grad_fn=<MseLossBackward0>)\n",
      "30 tensor(2372.0950, grad_fn=<MseLossBackward0>)\n",
      "31 tensor(2491.4114, grad_fn=<MseLossBackward0>)\n",
      "32 tensor(2320.0925, grad_fn=<MseLossBackward0>)\n",
      "33 tensor(2290.5854, grad_fn=<MseLossBackward0>)\n",
      "34 tensor(2265.4900, grad_fn=<MseLossBackward0>)\n",
      "35 tensor(2232.4990, grad_fn=<MseLossBackward0>)\n",
      "36 tensor(2315.1587, grad_fn=<MseLossBackward0>)\n",
      "37 tensor(2216.7805, grad_fn=<MseLossBackward0>)\n",
      "38 tensor(2211.5520, grad_fn=<MseLossBackward0>)\n",
      "39 tensor(2164.2751, grad_fn=<MseLossBackward0>)\n",
      "40 tensor(2172.3345, grad_fn=<MseLossBackward0>)\n",
      "41 tensor(2234.4814, grad_fn=<MseLossBackward0>)\n",
      "42 tensor(2174.8198, grad_fn=<MseLossBackward0>)\n",
      "43 tensor(2122.9036, grad_fn=<MseLossBackward0>)\n",
      "44 tensor(2121.4971, grad_fn=<MseLossBackward0>)\n",
      "45 tensor(2121.4412, grad_fn=<MseLossBackward0>)\n",
      "46 tensor(2135.5544, grad_fn=<MseLossBackward0>)\n",
      "47 tensor(2132.0334, grad_fn=<MseLossBackward0>)\n",
      "48 tensor(2103.2229, grad_fn=<MseLossBackward0>)\n",
      "49 tensor(2097.4243, grad_fn=<MseLossBackward0>)\n"
     ]
    }
   ],
   "source": [
    "model = torch.nn.Linear(1, 1)\n",
    "optimizer = torch.optim.SGD([model.weight, model.bias], lr=0.00001)\n",
    "loss_fn = torch.nn.MSELoss()\n",
    "\n",
    "for epoch in range(50):\n",
    "    for batchx, batchy in dl:\n",
    "        predictedy = model(batchx)\n",
    "        loss = loss_fn(batchy, predictedy)\n",
    "        loss.backward()         # update weight.grad and bias.grad\n",
    "        optimizer.step()        # update weight and bias based on the gradients\n",
    "        optimizer.zero_grad()   # weight.grad = 0 and bias.grad = 0\n",
    "        # TODO: change model params based on loss\n",
    "    # how well are we doing?\n",
    "    x, y = ds[:]\n",
    "    print(epoch, loss_fn(y, model(x)))"
   ]
  },
  {
   "cell_type": "code",
   "execution_count": 27,
   "id": "0ab171e9-4aa0-4473-ad42-cdba5ac1d8c3",
   "metadata": {},
   "outputs": [
    {
     "data": {
      "text/plain": [
       "(Parameter containing:\n",
       " tensor([[1.0198]], requires_grad=True),\n",
       " Parameter containing:\n",
       " tensor([105.4057], requires_grad=True))"
      ]
     },
     "execution_count": 27,
     "metadata": {},
     "output_type": "execute_result"
    }
   ],
   "source": [
    "model.weight, model.bias"
   ]
  },
  {
   "cell_type": "code",
   "execution_count": 35,
   "id": "ff6dca2f-c445-47e9-9ef9-73b12894167d",
   "metadata": {},
   "outputs": [
    {
     "data": {
      "text/plain": [
       "torch.float32"
      ]
     },
     "execution_count": 35,
     "metadata": {},
     "output_type": "execute_result"
    }
   ],
   "source": [
    "model.weight.dtype"
   ]
  },
  {
   "cell_type": "code",
   "execution_count": 38,
   "id": "fbe4bdcd-6152-4e05-a43a-b1fd31a7b9d1",
   "metadata": {},
   "outputs": [],
   "source": [
    "tmin = torch.arange(-400, 300, dtype=torch.float32)\n",
    "predicted_tmax = model(tmin.reshape(-1, 1)).reshape(-1)"
   ]
  },
  {
   "cell_type": "code",
   "execution_count": 41,
   "id": "c7d4b405-eb56-4ab0-b43a-b9b01501f1f8",
   "metadata": {},
   "outputs": [
    {
     "data": {
      "text/plain": [
       "[<matplotlib.lines.Line2D at 0x7f7169941c30>]"
      ]
     },
     "execution_count": 41,
     "metadata": {},
     "output_type": "execute_result"
    },
    {
     "data": {
      "image/png": "[encoded data removed]",
      "text/plain": [
       "<Figure size 640x480 with 1 Axes>"
      ]
     },
     "metadata": {},
     "output_type": "display_data"
    }
   ],
   "source": [
    "import matplotlib.pyplot as plt\n",
    "temps.plot.scatter(x=\"TMIN\", y=\"TMAX\")\n",
    "plt.plot(tmin, predicted_tmax.detach(), \"r\")"
   ]
  }
 ],
 "metadata": {
  "kernelspec": {
   "display_name": "Python 3 (ipykernel)",
   "language": "python",
   "name": "python3"
  },
  "language_info": {
   "codemirror_mode": {
    "name": "ipython",
    "version": 3
   },
   "file_extension": ".py",
   "mimetype": "text/x-python",
   "name": "python",
   "nbconvert_exporter": "python",
   "pygments_lexer": "ipython3",
   "version": "3.10.6"
  }
 },
 "nbformat": 4,
 "nbformat_minor": 5
}
