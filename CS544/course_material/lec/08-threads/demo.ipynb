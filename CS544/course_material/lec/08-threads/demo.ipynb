{
 "cells": [
  {
   "cell_type": "code",
   "execution_count": 1,
   "id": "49d7822b-6893-41a6-99c9-264745bef550",
   "metadata": {},
   "outputs": [],
   "source": [
    "import threading"
   ]
  },
  {
   "cell_type": "code",
   "execution_count": 7,
   "id": "4fe91d32-d5b5-40ca-b4a9-719e9da65b0c",
   "metadata": {},
   "outputs": [
    {
     "name": "stdout",
     "output_type": "stream",
     "text": [
      "hi from thread 8476\n",
      "hi from the main thread, which is 7649\n"
     ]
    }
   ],
   "source": [
    "def task():\n",
    "    print(\"hi from thread\", threading.get_native_id())\n",
    "\n",
    "t = threading.Thread(target=task)\n",
    "t.start()\n",
    "\n",
    "print(\"hi from the main thread, which is\", threading.get_native_id())"
   ]
  },
  {
   "cell_type": "code",
   "execution_count": 22,
   "id": "dee144b8-712b-4c14-9b93-8ba59b772c54",
   "metadata": {},
   "outputs": [
    {
     "name": "stdout",
     "output_type": "stream",
     "text": [
      "499999500000\n"
     ]
    }
   ],
   "source": [
    "total = 0\n",
    "\n",
    "def adder(count):\n",
    "    global total\n",
    "    for i in range(count):\n",
    "        total += i\n",
    "        \n",
    "t = threading.Thread(target=adder, args=[1000000])\n",
    "t.start()\n",
    "# wait until the thread is done\n",
    "t.join()\n",
    "print(total)"
   ]
  },
  {
   "cell_type": "code",
   "execution_count": 11,
   "id": "1e4ea1de-9b93-47e6-95d8-6464eb4f2c90",
   "metadata": {},
   "outputs": [
    {
     "data": {
      "text/plain": [
       "45"
      ]
     },
     "execution_count": 11,
     "metadata": {},
     "output_type": "execute_result"
    }
   ],
   "source": [
    "total"
   ]
  },
  {
   "cell_type": "code",
   "execution_count": null,
   "id": "b4577815-effb-4ff9-871c-2211212a8d8c",
   "metadata": {},
   "outputs": [],
   "source": []
  }
 ],
 "metadata": {
  "kernelspec": {
   "display_name": "Python 3 (ipykernel)",
   "language": "python",
   "name": "python3"
  },
  "language_info": {
   "codemirror_mode": {
    "name": "ipython",
    "version": 3
   },
   "file_extension": ".py",
   "mimetype": "text/x-python",
   "name": "python",
   "nbconvert_exporter": "python",
   "pygments_lexer": "ipython3",
   "version": "3.10.6"
  }
 },
 "nbformat": 4,
 "nbformat_minor": 5
}
