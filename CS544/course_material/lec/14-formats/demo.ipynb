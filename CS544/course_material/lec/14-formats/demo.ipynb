{
 "cells": [
  {
   "cell_type": "code",
   "execution_count": 1,
   "id": "fbed3800-971d-46ae-9d62-46c58c13afe0",
   "metadata": {},
   "outputs": [],
   "source": [
    "# !wget https://pages.cs.wisc.edu/~harter/cs639/data/hdma-wi-2021.zip\n",
    "# !unzip hdma-wi-2021.zip"
   ]
  },
  {
   "cell_type": "code",
   "execution_count": 2,
   "id": "37bad115-62a7-43a6-ad71-c1f9a6d1f893",
   "metadata": {},
   "outputs": [
    {
     "name": "stdout",
     "output_type": "stream",
     "text": [
      "total 188M\n",
      "drwxrwxr-x  3 trh trh 4.0K Feb 24 15:41 .\n",
      "drwxrwxr-x 15 trh trh 4.0K Feb 24 03:07 ..\n",
      "drwxrwxr-x  2 trh trh 4.0K Feb 24 15:00 .ipynb_checkpoints\n",
      "-rw-rw-r--  1 trh trh  15K Feb 21 21:25 dbs.ipynb\n",
      "-rw-rw-r--  1 trh trh  892 Feb 24 15:41 demo.ipynb\n",
      "-rw-r-----  1 trh trh 167M Nov  1 18:05 hdma-wi-2021.csv\n",
      "-rw-rw-r--  1 trh trh  21M Jan  5 20:30 hdma-wi-2021.zip\n"
     ]
    }
   ],
   "source": [
    "! ls -lah"
   ]
  },
  {
   "cell_type": "code",
   "execution_count": 5,
   "id": "eabd8094-00cd-4265-a0be-84578a9c47af",
   "metadata": {},
   "outputs": [
    {
     "name": "stdout",
     "output_type": "stream",
     "text": [
      "avg loan: 204961.21752386744\n",
      "total columns: 99\n",
      "data load seconds: 4.5030577182769775\n",
      "computation seconds: 0.0013568401336669922\n"
     ]
    }
   ],
   "source": [
    "! sudo sh -c \"echo 3 > /proc/sys/vm/drop_caches\"\n",
    "import time, pandas as pd\n",
    "\n",
    "t0 = time.time()\n",
    "# df = pd.read_csv(\"hdma-wi-2021.csv\")\n",
    "df = pd.read_csv(\"hdma-wi-2021.csv\", dtype={col: str for col in [22,23,24,26,27,28,29,30,31,32,33,38,43,44]})\n",
    "t1 = time.time()\n",
    "avg = df[\"loan_amount\"].mean()\n",
    "t2 = time.time()\n",
    "\n",
    "print(\"avg loan:\", avg)\n",
    "print(\"total columns:\", len(df.columns))\n",
    "print(\"data load seconds:\", t1-t0)\n",
    "print(\"computation seconds:\", t2-t1)"
   ]
  },
  {
   "cell_type": "code",
   "execution_count": 7,
   "id": "a0a77622-7b49-4d95-b96f-55699177f1c6",
   "metadata": {},
   "outputs": [],
   "source": [
    "df = None"
   ]
  },
  {
   "cell_type": "code",
   "execution_count": 6,
   "id": "aceb7eb0-f415-454f-b33d-3c55647cd2d3",
   "metadata": {},
   "outputs": [],
   "source": [
    "df.to_parquet(\"loans.parquet\")"
   ]
  },
  {
   "cell_type": "code",
   "execution_count": 1,
   "id": "7c7e345c-7efd-4df0-b343-a5bd9e5dafcd",
   "metadata": {},
   "outputs": [
    {
     "name": "stdout",
     "output_type": "stream",
     "text": [
      "avg loan: 204961.21752386744\n",
      "total columns: 99\n",
      "data load seconds: 1.169445514678955\n",
      "computation seconds: 0.002746105194091797\n"
     ]
    }
   ],
   "source": [
    "! sudo sh -c \"echo 3 > /proc/sys/vm/drop_caches\"\n",
    "import time, pandas as pd\n",
    "\n",
    "t0 = time.time()\n",
    "df = pd.read_parquet(\"loans.parquet\")\n",
    "t1 = time.time()\n",
    "avg = df[\"loan_amount\"].mean()\n",
    "t2 = time.time()\n",
    "\n",
    "print(\"avg loan:\", avg)\n",
    "print(\"total columns:\", len(df.columns))\n",
    "print(\"data load seconds:\", t1-t0)\n",
    "print(\"computation seconds:\", t2-t1)"
   ]
  },
  {
   "cell_type": "code",
   "execution_count": 2,
   "id": "bac6d886-b28d-41fb-8a51-d2128ac3d664",
   "metadata": {},
   "outputs": [],
   "source": [
    "df = None"
   ]
  },
  {
   "cell_type": "markdown",
   "id": "9f8500b5-2225-4723-b7d7-c56a67f98309",
   "metadata": {},
   "source": [
    "# Try to only read one column"
   ]
  },
  {
   "cell_type": "code",
   "execution_count": 3,
   "id": "84daad11-5115-4a42-9c2d-adab597c56a3",
   "metadata": {},
   "outputs": [
    {
     "name": "stdout",
     "output_type": "stream",
     "text": [
      "avg loan: 204961.21752386744\n",
      "total columns: 1\n",
      "data load seconds: 1.5686638355255127\n",
      "computation seconds: 0.0008313655853271484\n"
     ]
    }
   ],
   "source": [
    "! sudo sh -c \"echo 3 > /proc/sys/vm/drop_caches\"\n",
    "import time, pandas as pd\n",
    "\n",
    "t0 = time.time()\n",
    "# df = pd.read_csv(\"hdma-wi-2021.csv\")\n",
    "df = pd.read_csv(\"hdma-wi-2021.csv\", usecols=[\"loan_amount\"])\n",
    "t1 = time.time()\n",
    "avg = df[\"loan_amount\"].mean()\n",
    "t2 = time.time()\n",
    "\n",
    "print(\"avg loan:\", avg)\n",
    "print(\"total columns:\", len(df.columns))\n",
    "print(\"data load seconds:\", t1-t0)\n",
    "print(\"computation seconds:\", t2-t1)"
   ]
  },
  {
   "cell_type": "code",
   "execution_count": 4,
   "id": "8ebf43f2-c4f5-4e5e-a2e5-3c025ea7f220",
   "metadata": {},
   "outputs": [
    {
     "name": "stdout",
     "output_type": "stream",
     "text": [
      "avg loan: 204961.21752386744\n",
      "total columns: 1\n",
      "data load seconds: 0.0207059383392334\n",
      "computation seconds: 0.0012459754943847656\n"
     ]
    }
   ],
   "source": [
    "! sudo sh -c \"echo 3 > /proc/sys/vm/drop_caches\"\n",
    "import time, pandas as pd\n",
    "\n",
    "t0 = time.time()\n",
    "df = pd.read_parquet(\"loans.parquet\", columns=[\"loan_amount\"])\n",
    "t1 = time.time()\n",
    "avg = df[\"loan_amount\"].mean()\n",
    "t2 = time.time()\n",
    "\n",
    "print(\"avg loan:\", avg)\n",
    "print(\"total columns:\", len(df.columns))\n",
    "print(\"data load seconds:\", t1-t0)\n",
    "print(\"computation seconds:\", t2-t1)"
   ]
  },
  {
   "cell_type": "code",
   "execution_count": 5,
   "id": "6e1e8c80-9b5b-4083-be89-8db3ad009fd2",
   "metadata": {},
   "outputs": [
    {
     "name": "stdout",
     "output_type": "stream",
     "text": [
      "total 203M\n",
      "drwxrwxr-x  3 trh trh 4.0K Feb 24 16:15 .\n",
      "drwxrwxr-x 15 trh trh 4.0K Feb 24 03:07 ..\n",
      "drwxrwxr-x  2 trh trh 4.0K Feb 24 15:00 .ipynb_checkpoints\n",
      "-rw-rw-r--  1 trh trh  15K Feb 21 21:25 dbs.ipynb\n",
      "-rw-rw-r--  1 trh trh 6.0K Feb 24 16:15 demo.ipynb\n",
      "-rw-r-----  1 trh trh 167M Nov  1 18:05 hdma-wi-2021.csv\n",
      "-rw-rw-r--  1 trh trh  21M Jan  5 20:30 hdma-wi-2021.zip\n",
      "-rw-rw-r--  1 trh trh  16M Feb 24 16:12 loans.parquet\n"
     ]
    }
   ],
   "source": [
    "!ls -lah"
   ]
  },
  {
   "cell_type": "markdown",
   "id": "3836552d-2843-4e79-ac84-5c9b8c791052",
   "metadata": {},
   "source": [
    "# Compression"
   ]
  },
  {
   "cell_type": "code",
   "execution_count": 8,
   "id": "af613aa0-0338-4387-889d-6c4547602c8a",
   "metadata": {},
   "outputs": [],
   "source": [
    "df = pd.read_parquet(\"loans.parquet\")"
   ]
  },
  {
   "cell_type": "code",
   "execution_count": 10,
   "id": "d750671a-ec56-4002-978b-cc87561431d1",
   "metadata": {},
   "outputs": [
    {
     "name": "stdout",
     "output_type": "stream",
     "text": [
      "CPU times: user 1.4 s, sys: 57.3 ms, total: 1.46 s\n",
      "Wall time: 1.56 s\n"
     ]
    }
   ],
   "source": [
    "%%time\n",
    "df.to_parquet(\"snappy.parquet\", compression=\"snappy\")"
   ]
  },
  {
   "cell_type": "code",
   "execution_count": 11,
   "id": "b0a06f08-4d9f-414a-8e45-f2d60a927e55",
   "metadata": {},
   "outputs": [
    {
     "name": "stdout",
     "output_type": "stream",
     "text": [
      "CPU times: user 3.03 s, sys: 76 ms, total: 3.11 s\n",
      "Wall time: 3.15 s\n"
     ]
    }
   ],
   "source": [
    "%%time\n",
    "df.to_parquet(\"gzip.parquet\", compression=\"gzip\")"
   ]
  },
  {
   "cell_type": "code",
   "execution_count": 12,
   "id": "29e3a227-2e44-4561-b222-35ce95881b9a",
   "metadata": {},
   "outputs": [
    {
     "name": "stdout",
     "output_type": "stream",
     "text": [
      "total 230M\n",
      "-rw-rw-r-- 1 trh trh  15K Feb 21 21:25 dbs.ipynb\n",
      "-rw-rw-r-- 1 trh trh 7.6K Feb 24 16:27 demo.ipynb\n",
      "-rw-rw-r-- 1 trh trh  13M Feb 24 16:28 gzip.parquet\n",
      "-rw-r----- 1 trh trh 167M Nov  1 18:05 hdma-wi-2021.csv\n",
      "-rw-rw-r-- 1 trh trh  21M Jan  5 20:30 hdma-wi-2021.zip\n",
      "-rw-rw-r-- 1 trh trh  16M Feb 24 16:12 loans.parquet\n",
      "-rw-rw-r-- 1 trh trh  16M Feb 24 16:26 snappy.parquet\n"
     ]
    }
   ],
   "source": [
    "! ls -lh"
   ]
  },
  {
   "cell_type": "code",
   "execution_count": 13,
   "id": "949cd88e-84a1-44e3-a377-0af89f2a8f95",
   "metadata": {},
   "outputs": [
    {
     "data": {
      "text/html": [
       "<div>\n",
       "<style scoped>\n",
       "    .dataframe tbody tr th:only-of-type {\n",
       "        vertical-align: middle;\n",
       "    }\n",
       "\n",
       "    .dataframe tbody tr th {\n",
       "        vertical-align: top;\n",
       "    }\n",
       "\n",
       "    .dataframe thead th {\n",
       "        text-align: right;\n",
       "    }\n",
       "</style>\n",
       "<table border=\"1\" class=\"dataframe\">\n",
       "  <thead>\n",
       "    <tr style=\"text-align: right;\">\n",
       "      <th></th>\n",
       "      <th>loan_amount</th>\n",
       "    </tr>\n",
       "  </thead>\n",
       "  <tbody>\n",
       "    <tr>\n",
       "      <th>0</th>\n",
       "      <td>305000.0</td>\n",
       "    </tr>\n",
       "    <tr>\n",
       "      <th>1</th>\n",
       "      <td>65000.0</td>\n",
       "    </tr>\n",
       "    <tr>\n",
       "      <th>2</th>\n",
       "      <td>75000.0</td>\n",
       "    </tr>\n",
       "    <tr>\n",
       "      <th>3</th>\n",
       "      <td>155000.0</td>\n",
       "    </tr>\n",
       "    <tr>\n",
       "      <th>4</th>\n",
       "      <td>305000.0</td>\n",
       "    </tr>\n",
       "  </tbody>\n",
       "</table>\n",
       "</div>"
      ],
      "text/plain": [
       "   loan_amount\n",
       "0     305000.0\n",
       "1      65000.0\n",
       "2      75000.0\n",
       "3     155000.0\n",
       "4     305000.0"
      ]
     },
     "execution_count": 13,
     "metadata": {},
     "output_type": "execute_result"
    }
   ],
   "source": [
    "# infers that it is gzip\n",
    "pd.read_parquet(\"gzip.parquet\", columns=[\"loan_amount\"]).head()"
   ]
  }
 ],
 "metadata": {
  "kernelspec": {
   "display_name": "Python 3 (ipykernel)",
   "language": "python",
   "name": "python3"
  },
  "language_info": {
   "codemirror_mode": {
    "name": "ipython",
    "version": 3
   },
   "file_extension": ".py",
   "mimetype": "text/x-python",
   "name": "python",
   "nbconvert_exporter": "python",
   "pygments_lexer": "ipython3",
   "version": "3.10.6"
  }
 },
 "nbformat": 4,
 "nbformat_minor": 5
}
