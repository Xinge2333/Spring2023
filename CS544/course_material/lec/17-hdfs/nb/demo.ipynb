{
 "cells": [
  {
   "cell_type": "code",
   "execution_count": 1,
   "id": "5f5607a0-bdf1-4bfd-8278-ecdebed5d9c9",
   "metadata": {},
   "outputs": [],
   "source": [
    "import requests"
   ]
  },
  {
   "cell_type": "code",
   "execution_count": 2,
   "id": "70d421af-494a-4d37-b5a4-82eb613d78f6",
   "metadata": {},
   "outputs": [
    {
     "name": "stdout",
     "output_type": "stream",
     "text": [
      "fcd3336bc971\n"
     ]
    }
   ],
   "source": [
    "!hostname"
   ]
  },
  {
   "cell_type": "code",
   "execution_count": 3,
   "id": "08a1412a-5ce2-49f0-9f98-5fac6cefd40e",
   "metadata": {},
   "outputs": [
    {
     "name": "stdout",
     "output_type": "stream",
     "text": [
      "HTTP/1.1 200 OK\n",
      "\u001b[1mDate\u001b[0m: Fri, 03 Mar 2023 03:34:52 GMT\n",
      "\u001b[1mCache-Control\u001b[0m: no-cache\n",
      "\u001b[1mExpires\u001b[0m: Fri, 03 Mar 2023 03:34:52 GMT\n",
      "\u001b[1mDate\u001b[0m: Fri, 03 Mar 2023 03:34:52 GMT\n",
      "\u001b[1mPragma\u001b[0m: no-cache\n",
      "\u001b[1mX-Content-Type-Options\u001b[0m: nosniff\n",
      "\u001b[1mX-FRAME-OPTIONS\u001b[0m: SAMEORIGIN\n",
      "\u001b[1mX-XSS-Protection\u001b[0m: 1; mode=block\n",
      "\u001b[1mContent-Type\u001b[0m: application/json\n",
      "\u001b[1mTransfer-Encoding\u001b[0m: chunked\n",
      "\n",
      "{\"FileStatuses\":{\"FileStatus\":[\n",
      "{\"accessTime\":1677813246939,\"blockSize\":134217728,\"childrenNum\":0,\"fileId\":16387,\"group\":\"supergroup\",\"length\":1361,\"modificationTime\":1677813247714,\"owner\":\"root\",\"pathSuffix\":\"README.txt\",\"permission\":\"644\",\"replication\":3,\"storagePolicy\":0,\"type\":\"FILE\"},\n",
      "{\"accessTime\":1677813425587,\"blockSize\":134217728,\"childrenNum\":0,\"fileId\":16388,\"group\":\"supergroup\",\"length\":1361,\"modificationTime\":1677813425711,\"owner\":\"root\",\"pathSuffix\":\"single.txt\",\"permission\":\"644\",\"replication\":1,\"storagePolicy\":0,\"type\":\"FILE\"}\n",
      "]}}\n"
     ]
    }
   ],
   "source": [
    "! curl -i  \"http://fcd3336bc971:9870/webhdfs/v1/data?op=LISTSTATUS\""
   ]
  },
  {
   "cell_type": "code",
   "execution_count": 4,
   "id": "bd0c5eff-8867-4fa9-9b41-25a0f1992fd0",
   "metadata": {},
   "outputs": [],
   "source": [
    "resp = requests.get(\"http://fcd3336bc971:9870/webhdfs/v1/data?op=LISTSTATUS\")"
   ]
  },
  {
   "cell_type": "code",
   "execution_count": 6,
   "id": "e9c6e761-c893-4677-a8c9-ccc5d46afbd0",
   "metadata": {},
   "outputs": [
    {
     "name": "stdout",
     "output_type": "stream",
     "text": [
      "200\n"
     ]
    }
   ],
   "source": [
    "print(resp.status_code)\n",
    "resp.raise_for_status() # give me an exception if it wasn't 200"
   ]
  },
  {
   "cell_type": "code",
   "execution_count": 7,
   "id": "126972db-6231-4545-9077-e7c51e7648e9",
   "metadata": {},
   "outputs": [
    {
     "data": {
      "text/plain": [
       "{'Date': 'Fri, 03 Mar 2023 03:35:27 GMT, Fri, 03 Mar 2023 03:35:27 GMT', 'Cache-Control': 'no-cache', 'Expires': 'Fri, 03 Mar 2023 03:35:27 GMT', 'Pragma': 'no-cache', 'X-Content-Type-Options': 'nosniff', 'X-FRAME-OPTIONS': 'SAMEORIGIN', 'X-XSS-Protection': '1; mode=block', 'Content-Type': 'application/json', 'Transfer-Encoding': 'chunked'}"
      ]
     },
     "execution_count": 7,
     "metadata": {},
     "output_type": "execute_result"
    }
   ],
   "source": [
    "resp.headers"
   ]
  },
  {
   "cell_type": "code",
   "execution_count": 8,
   "id": "765b3ba9-dadd-4b0c-9f5a-4c0430c8570a",
   "metadata": {},
   "outputs": [
    {
     "data": {
      "text/plain": [
       "b'{\"FileStatuses\":{\"FileStatus\":[\\n{\"accessTime\":1677813246939,\"blockSize\":134217728,\"childrenNum\":0,\"fileId\":16387,\"group\":\"supergroup\",\"length\":1361,\"modificationTime\":1677813247714,\"owner\":\"root\",\"pathSuffix\":\"README.txt\",\"permission\":\"644\",\"replication\":3,\"storagePolicy\":0,\"type\":\"FILE\"},\\n{\"accessTime\":1677813425587,\"blockSize\":134217728,\"childrenNum\":0,\"fileId\":16388,\"group\":\"supergroup\",\"length\":1361,\"modificationTime\":1677813425711,\"owner\":\"root\",\"pathSuffix\":\"single.txt\",\"permission\":\"644\",\"replication\":1,\"storagePolicy\":0,\"type\":\"FILE\"}\\n]}}\\n'"
      ]
     },
     "execution_count": 8,
     "metadata": {},
     "output_type": "execute_result"
    }
   ],
   "source": [
    "resp.content  # give be the body as bytpes"
   ]
  },
  {
   "cell_type": "code",
   "execution_count": 9,
   "id": "a05a384a-c00d-440e-9272-eb472629f9e2",
   "metadata": {},
   "outputs": [
    {
     "data": {
      "text/plain": [
       "'{\"FileStatuses\":{\"FileStatus\":[\\n{\"accessTime\":1677813246939,\"blockSize\":134217728,\"childrenNum\":0,\"fileId\":16387,\"group\":\"supergroup\",\"length\":1361,\"modificationTime\":1677813247714,\"owner\":\"root\",\"pathSuffix\":\"README.txt\",\"permission\":\"644\",\"replication\":3,\"storagePolicy\":0,\"type\":\"FILE\"},\\n{\"accessTime\":1677813425587,\"blockSize\":134217728,\"childrenNum\":0,\"fileId\":16388,\"group\":\"supergroup\",\"length\":1361,\"modificationTime\":1677813425711,\"owner\":\"root\",\"pathSuffix\":\"single.txt\",\"permission\":\"644\",\"replication\":1,\"storagePolicy\":0,\"type\":\"FILE\"}\\n]}}\\n'"
      ]
     },
     "execution_count": 9,
     "metadata": {},
     "output_type": "execute_result"
    }
   ],
   "source": [
    "resp.text"
   ]
  },
  {
   "cell_type": "code",
   "execution_count": 11,
   "id": "474ef84b-37ed-4616-bfb7-29b745e69cd1",
   "metadata": {},
   "outputs": [
    {
     "data": {
      "text/plain": [
       "{'FileStatuses': {'FileStatus': [{'accessTime': 1677813246939,\n",
       "    'blockSize': 134217728,\n",
       "    'childrenNum': 0,\n",
       "    'fileId': 16387,\n",
       "    'group': 'supergroup',\n",
       "    'length': 1361,\n",
       "    'modificationTime': 1677813247714,\n",
       "    'owner': 'root',\n",
       "    'pathSuffix': 'README.txt',\n",
       "    'permission': '644',\n",
       "    'replication': 3,\n",
       "    'storagePolicy': 0,\n",
       "    'type': 'FILE'},\n",
       "   {'accessTime': 1677813425587,\n",
       "    'blockSize': 134217728,\n",
       "    'childrenNum': 0,\n",
       "    'fileId': 16388,\n",
       "    'group': 'supergroup',\n",
       "    'length': 1361,\n",
       "    'modificationTime': 1677813425711,\n",
       "    'owner': 'root',\n",
       "    'pathSuffix': 'single.txt',\n",
       "    'permission': '644',\n",
       "    'replication': 1,\n",
       "    'storagePolicy': 0,\n",
       "    'type': 'FILE'}]}}"
      ]
     },
     "execution_count": 11,
     "metadata": {},
     "output_type": "execute_result"
    }
   ],
   "source": [
    "data = resp.json()\n",
    "data"
   ]
  },
  {
   "cell_type": "code",
   "execution_count": 17,
   "id": "feab7415-85b1-4429-b759-d7713163121f",
   "metadata": {},
   "outputs": [
    {
     "name": "stdout",
     "output_type": "stream",
     "text": [
      "FILE README.txt 3\n",
      "FILE single.txt 1\n"
     ]
    }
   ],
   "source": [
    "for item in data[\"FileStatuses\"][\"FileStatus\"]:\n",
    "    print(item[\"type\"], item[\"pathSuffix\"], item[\"replication\"])"
   ]
  },
  {
   "cell_type": "markdown",
   "id": "8deb4ffd-5d4a-4e01-ae56-557a3bc1ab33",
   "metadata": {},
   "source": [
    "# Read a file"
   ]
  },
  {
   "cell_type": "code",
   "execution_count": 19,
   "id": "b8922654-e628-4eef-a6ba-935a3fd6ad49",
   "metadata": {},
   "outputs": [
    {
     "name": "stdout",
     "output_type": "stream",
     "text": [
      "HTTP/1.1 307 Temporary Redirect\n",
      "\u001b[1mDate\u001b[0m: Fri, 03 Mar 2023 03:39:24 GMT\n",
      "\u001b[1mCache-Control\u001b[0m: no-cache\n",
      "\u001b[1mExpires\u001b[0m: Fri, 03 Mar 2023 03:39:24 GMT\n",
      "\u001b[1mDate\u001b[0m: Fri, 03 Mar 2023 03:39:24 GMT\n",
      "\u001b[1mPragma\u001b[0m: no-cache\n",
      "\u001b[1mX-Content-Type-Options\u001b[0m: nosniff\n",
      "\u001b[1mX-FRAME-OPTIONS\u001b[0m: SAMEORIGIN\n",
      "\u001b[1mX-XSS-Protection\u001b[0m: 1; mode=block\n",
      "\u001b[1mLocation\u001b[0m: http://fcd3336bc971:9864/webhdfs/v1/data/README.txt?op=OPEN&namenoderpcaddress=fcd3336bc971:9000&length=1000&offset=0\n",
      "\u001b[1mContent-Type\u001b[0m: application/octet-stream\n",
      "\u001b[1mContent-Length\u001b[0m: 0\n",
      "\n"
     ]
    }
   ],
   "source": [
    "! curl -i \"http://fcd3336bc971:9870/webhdfs/v1/data/README.txt?op=OPEN&offset=0&length=1000\""
   ]
  },
  {
   "cell_type": "code",
   "execution_count": 21,
   "id": "9f9b2129-e0b6-4a29-8d87-c8688dd199f4",
   "metadata": {},
   "outputs": [],
   "source": [
    "url = \"http://fcd3336bc971:9870/webhdfs/v1/data/README.txt?op=OPEN&offset=0&length=1000\"\n",
    "resp = requests.get(url, allow_redirects=False)"
   ]
  },
  {
   "cell_type": "code",
   "execution_count": 25,
   "id": "d3cbe5b1-267f-41a2-a351-3b55042d1fe5",
   "metadata": {},
   "outputs": [
    {
     "data": {
      "text/plain": [
       "'http://fcd3336bc971:9864/webhdfs/v1/data/README.txt?op=OPEN&namenoderpcaddress=fcd3336bc971:9000&length=1000&offset=0'"
      ]
     },
     "execution_count": 25,
     "metadata": {},
     "output_type": "execute_result"
    }
   ],
   "source": [
    "resp.headers[\"Location\"]"
   ]
  },
  {
   "cell_type": "code",
   "execution_count": 26,
   "id": "2222d686-aac2-4284-99ad-e1db4f865bcd",
   "metadata": {},
   "outputs": [],
   "source": [
    "resp = requests.get('http://fcd3336bc971:9864/webhdfs/v1/data/README.txt?op=OPEN&namenoderpcaddress=fcd3336bc971:9000&length=1000&offset=0')"
   ]
  },
  {
   "cell_type": "code",
   "execution_count": 27,
   "id": "4bfb30a1-b2ed-47af-a636-af672006173f",
   "metadata": {},
   "outputs": [
    {
     "data": {
      "text/plain": [
       "b\"For the latest information about Hadoop, please visit our website at:\\n\\n   http://hadoop.apache.org/\\n\\nand our wiki, at:\\n\\n   http://wiki.apache.org/hadoop/\\n\\nThis distribution includes cryptographic software.  The country in \\nwhich you currently reside may have restrictions on the import, \\npossession, use, and/or re-export to another country, of \\nencryption software.  BEFORE using any encryption software, please \\ncheck your country's laws, regulations and policies concerning the\\nimport, possession, or use, and re-export of encryption software, to \\nsee if this is permitted.  See <http://www.wassenaar.org/> for more\\ninformation.\\n\\nThe U.S. Government Department of Commerce, Bureau of Industry and\\nSecurity (BIS), has classified this software as Export Commodity \\nControl Number (ECCN) 5D002.C.1, which includes information security\\nsoftware using or performing cryptographic functions with asymmetric\\nalgorithms.  The form and manner of this Apache Software Foundation\\ndistribution makes it eligib\""
      ]
     },
     "execution_count": 27,
     "metadata": {},
     "output_type": "execute_result"
    }
   ],
   "source": [
    "resp.content"
   ]
  },
  {
   "cell_type": "code",
   "execution_count": 28,
   "id": "52ccde5e-31b0-476b-b5ed-aae42aa53471",
   "metadata": {},
   "outputs": [],
   "source": [
    "!touch test.txt"
   ]
  },
  {
   "cell_type": "code",
   "execution_count": 29,
   "id": "c897440a-8919-4509-b82d-3605f34f4540",
   "metadata": {},
   "outputs": [],
   "source": [
    "f = open(\"test.txt\")"
   ]
  },
  {
   "cell_type": "code",
   "execution_count": 30,
   "id": "6a1f40ad-f849-4e0f-b987-36dcdd625c57",
   "metadata": {},
   "outputs": [
    {
     "data": {
      "text/plain": [
       "_io.TextIOWrapper"
      ]
     },
     "execution_count": 30,
     "metadata": {},
     "output_type": "execute_result"
    }
   ],
   "source": [
    "type(f)    # converting bytes to strings"
   ]
  },
  {
   "cell_type": "code",
   "execution_count": 32,
   "id": "bdb1e91a-a940-42b8-bfdf-a273b866019e",
   "metadata": {},
   "outputs": [
    {
     "data": {
      "text/plain": [
       "_io.BufferedReader"
      ]
     },
     "execution_count": 32,
     "metadata": {},
     "output_type": "execute_result"
    }
   ],
   "source": [
    "type(f.buffer)    # buffering: using memory to do larger reads/writes"
   ]
  },
  {
   "cell_type": "code",
   "execution_count": 35,
   "id": "0f3960b6-f03a-46ae-b7b6-5f1b9a076507",
   "metadata": {},
   "outputs": [
    {
     "data": {
      "text/plain": [
       "_io.FileIO"
      ]
     },
     "execution_count": 35,
     "metadata": {},
     "output_type": "execute_result"
    }
   ],
   "source": [
    "type(f.buffer.raw)    # actually about transferring the bytes"
   ]
  },
  {
   "cell_type": "code",
   "execution_count": 37,
   "id": "ca9efee6-ceea-46fd-a859-f651e43468d3",
   "metadata": {},
   "outputs": [
    {
     "data": {
      "text/plain": [
       "(_io.FileIO, _io._RawIOBase, _io._IOBase, object)"
      ]
     },
     "execution_count": 37,
     "metadata": {},
     "output_type": "execute_result"
    }
   ],
   "source": [
    "type(f.buffer.raw).__mro__"
   ]
  },
  {
   "cell_type": "code",
   "execution_count": null,
   "id": "7d755478-aa78-4e79-883b-1beb99844a50",
   "metadata": {},
   "outputs": [],
   "source": [
    "# DEMO: create a fake \"file\" that lets us read numbers 100 to 110"
   ]
  },
  {
   "cell_type": "code",
   "execution_count": 36,
   "id": "64790539-a391-493f-8d18-167ba3f40b04",
   "metadata": {},
   "outputs": [],
   "source": [
    "import io\n",
    "\n",
    "# GOAL:\n",
    "# f = io.TextIOWrapper(io.BufferedReader(IntFile()))   # get \"100\", ..."
   ]
  },
  {
   "cell_type": "code",
   "execution_count": 53,
   "id": "1b2e9ee2-adfa-4aad-8074-5367613f30cd",
   "metadata": {},
   "outputs": [],
   "source": [
    "class IntFile(io.RawIOBase):\n",
    "    def __init__(self):\n",
    "        self.num = 100\n",
    "        \n",
    "    def readable(self):\n",
    "        return True\n",
    "    \n",
    "    def readinto(self, buffer):\n",
    "        print(\"TODO\", type(buffer), len(buffer))\n",
    "        offset = 0\n",
    "        while self.num <= 110:\n",
    "            text = bytes(str(self.num) + \"\\n\", \"utf-8\")\n",
    "            if offset + len(text) < len(buffer):\n",
    "                buffer[offset:offset+len(text)] = text\n",
    "                self.num += 1\n",
    "                offset += len(text)\n",
    "            else:\n",
    "                break\n",
    "        return offset"
   ]
  },
  {
   "cell_type": "code",
   "execution_count": 54,
   "id": "5c3f33b5-7d72-4965-bf2b-212b42e8d3ea",
   "metadata": {},
   "outputs": [
    {
     "name": "stdout",
     "output_type": "stream",
     "text": [
      "TODO <class 'bytearray'> 50\n"
     ]
    },
    {
     "data": {
      "text/plain": [
       "bytearray(b'100\\n101\\n102\\n103\\n104\\n105\\n106\\n107\\n108\\n109\\n110\\n\\x00\\x00\\x00\\x00\\x00\\x00')"
      ]
     },
     "execution_count": 54,
     "metadata": {},
     "output_type": "execute_result"
    }
   ],
   "source": [
    "# usage 1: raw I/O\n",
    "f = IntFile()\n",
    "buf = bytearray(50)\n",
    "f.readinto(buf)\n",
    "buf"
   ]
  },
  {
   "cell_type": "code",
   "execution_count": 55,
   "id": "050fc238-93b6-4cea-81e6-6542bc1e6c50",
   "metadata": {},
   "outputs": [
    {
     "name": "stdout",
     "output_type": "stream",
     "text": [
      "TODO <class 'memoryview'> 8192\n",
      "b'100\\n'\n",
      "b'101\\n'\n",
      "b'102\\n'\n",
      "b'103\\n'\n",
      "b'104\\n'\n",
      "b'105\\n'\n",
      "b'106\\n'\n",
      "b'107\\n'\n",
      "b'108\\n'\n",
      "b'109\\n'\n",
      "b'110\\n'\n",
      "TODO <class 'memoryview'> 8192\n"
     ]
    }
   ],
   "source": [
    "# usage 2: buffered I/O that gives us one line at time\n",
    "f = io.BufferedReader(IntFile())\n",
    "for line in f:\n",
    "    print(line)"
   ]
  },
  {
   "cell_type": "code",
   "execution_count": 56,
   "id": "4dc8a248-5578-4138-94c7-7a3bf81e486b",
   "metadata": {},
   "outputs": [
    {
     "name": "stdout",
     "output_type": "stream",
     "text": [
      "TODO <class 'memoryview'> 8192\n",
      "100\n",
      "\n",
      "101\n",
      "\n",
      "102\n",
      "\n",
      "103\n",
      "\n",
      "104\n",
      "\n",
      "105\n",
      "\n",
      "106\n",
      "\n",
      "107\n",
      "\n",
      "108\n",
      "\n",
      "109\n",
      "\n",
      "110\n",
      "\n",
      "TODO <class 'memoryview'> 8192\n"
     ]
    }
   ],
   "source": [
    "# usage 3: buffered I/O that gives us one line at time, as text\n",
    "f = io.TextIOWrapper(io.BufferedReader(IntFile()))\n",
    "for line in f:\n",
    "    print(line)"
   ]
  },
  {
   "cell_type": "code",
   "execution_count": 40,
   "id": "2217c5ea-f866-4e6d-820a-58f42321fb9e",
   "metadata": {},
   "outputs": [
    {
     "name": "stdout",
     "output_type": "stream",
     "text": [
      "<class 'bytes'>\n"
     ]
    },
    {
     "data": {
      "text/plain": [
       "b'abc'"
      ]
     },
     "execution_count": 40,
     "metadata": {},
     "output_type": "execute_result"
    }
   ],
   "source": [
    "b = b'abc'\n",
    "print(type(b))\n",
    "b"
   ]
  },
  {
   "cell_type": "code",
   "execution_count": 42,
   "id": "ffde4715-8363-4c82-a00f-801e05a46041",
   "metadata": {},
   "outputs": [],
   "source": [
    "# b[0] = \"z\"    # bytes are immutable"
   ]
  },
  {
   "cell_type": "code",
   "execution_count": 43,
   "id": "0bf54cc9-00c1-4221-9fc3-fd18b82b1566",
   "metadata": {},
   "outputs": [
    {
     "data": {
      "text/plain": [
       "bytearray(b'\\x00\\x00\\x00\\x00\\x00\\x00\\x00\\x00\\x00\\x00\\x00\\x00\\x00\\x00\\x00\\x00\\x00\\x00\\x00\\x00\\x00\\x00\\x00\\x00\\x00\\x00\\x00\\x00\\x00\\x00\\x00\\x00\\x00\\x00\\x00\\x00\\x00\\x00\\x00\\x00\\x00\\x00\\x00\\x00\\x00\\x00\\x00\\x00\\x00\\x00')"
      ]
     },
     "execution_count": 43,
     "metadata": {},
     "output_type": "execute_result"
    }
   ],
   "source": [
    "buf = bytearray(50)\n",
    "buf"
   ]
  },
  {
   "cell_type": "code",
   "execution_count": 45,
   "id": "f04b9a5a-6323-4de9-8f4c-01c79b2fe6d8",
   "metadata": {},
   "outputs": [],
   "source": [
    "buf[0] = 65"
   ]
  },
  {
   "cell_type": "code",
   "execution_count": 46,
   "id": "e61dbfa8-57dc-45ec-8a31-cc8a24b2ed2e",
   "metadata": {},
   "outputs": [
    {
     "data": {
      "text/plain": [
       "bytearray(b'A\\x00\\x00\\x00\\x00\\x00\\x00\\x00\\x00\\x00\\x00\\x00\\x00\\x00\\x00\\x00\\x00\\x00\\x00\\x00\\x00\\x00\\x00\\x00\\x00\\x00\\x00\\x00\\x00\\x00\\x00\\x00\\x00\\x00\\x00\\x00\\x00\\x00\\x00\\x00\\x00\\x00\\x00\\x00\\x00\\x00\\x00\\x00\\x00\\x00')"
      ]
     },
     "execution_count": 46,
     "metadata": {},
     "output_type": "execute_result"
    }
   ],
   "source": [
    "buf"
   ]
  },
  {
   "cell_type": "code",
   "execution_count": null,
   "id": "c363c4b8-b5a9-444c-bc74-a8ec42971f55",
   "metadata": {},
   "outputs": [],
   "source": []
  }
 ],
 "metadata": {
  "kernelspec": {
   "display_name": "Python 3 (ipykernel)",
   "language": "python",
   "name": "python3"
  },
  "language_info": {
   "codemirror_mode": {
    "name": "ipython",
    "version": 3
   },
   "file_extension": ".py",
   "mimetype": "text/x-python",
   "name": "python",
   "nbconvert_exporter": "python",
   "pygments_lexer": "ipython3",
   "version": "3.10.6"
  }
 },
 "nbformat": 4,
 "nbformat_minor": 5
}
