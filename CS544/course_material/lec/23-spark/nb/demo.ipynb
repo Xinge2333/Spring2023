{
 "cells": [
  {
   "cell_type": "markdown",
   "id": "add7644f-3b39-4346-836c-37128e00617b",
   "metadata": {},
   "source": [
    "# Setup"
   ]
  },
  {
   "cell_type": "code",
   "execution_count": 1,
   "id": "ab82db8b-d136-42bb-8a84-c3b462c2cb00",
   "metadata": {},
   "outputs": [
    {
     "name": "stderr",
     "output_type": "stream",
     "text": [
      "Using Spark's default log4j profile: org/apache/spark/log4j-defaults.properties\n",
      "Setting default log level to \"WARN\".\n",
      "To adjust logging level use sc.setLogLevel(newLevel). For SparkR, use setLogLevel(newLevel).\n",
      "23/03/27 13:54:27 WARN NativeCodeLoader: Unable to load native-hadoop library for your platform... using builtin-java classes where applicable\n"
     ]
    }
   ],
   "source": [
    "from pyspark.sql import SparkSession\n",
    "from pyspark.sql.functions import col, expr, row_number\n",
    "from pyspark.sql.window import Window\n",
    "\n",
    "spark = (SparkSession.builder.appName(\"cs544\")\n",
    "         .master(\"spark://main:7077\")\n",
    "         .config(\"spark.executor.memory\", \"512M\")\n",
    "         .config(\"spark.sql.warehouse.dir\", \"hdfs://main:9000/user/hive/warehouse\")\n",
    "         .enableHiveSupport()\n",
    "         .getOrCreate())"
   ]
  },
  {
   "cell_type": "code",
   "execution_count": 2,
   "id": "0a9b1ccb-ce44-434e-a712-35007c653fe3",
   "metadata": {},
   "outputs": [],
   "source": [
    "# ! wget https://pages.cs.wisc.edu/~harter/cs639/data/sf.zip\n",
    "# ! unzip sf.zip"
   ]
  },
  {
   "cell_type": "code",
   "execution_count": 3,
   "id": "8a60dd35-3a9b-454b-9851-40b096a59553",
   "metadata": {},
   "outputs": [],
   "source": [
    "!hdfs dfs -cp sf.csv hdfs://main:9000/sf.csv"
   ]
  },
  {
   "cell_type": "code",
   "execution_count": 4,
   "id": "bb83fc9f-dab4-44e0-abcb-9bac05430ec9",
   "metadata": {},
   "outputs": [
    {
     "name": "stderr",
     "output_type": "stream",
     "text": [
      "23/03/27 13:55:48 WARN package: Truncated the string representation of a plan since it was too large. This behavior can be adjusted by setting 'spark.sql.debug.maxToStringFields'.\n",
      "                                                                                \r"
     ]
    }
   ],
   "source": [
    "df = (spark.read.format(\"csv\")\n",
    "    .option(\"header\", True)\n",
    "    .option(\"inferSchema\", True)\n",
    "    .load(\"hdfs://main:9000/sf.csv\"))\n",
    "columns = [col(c).alias(c.replace(\" \", \"\")) for c in df.columns]\n",
    "df.select(columns).write.format(\"parquet\").mode(\"overwrite\").save(\"hdfs://main:9000/sf.parquet\")"
   ]
  },
  {
   "cell_type": "code",
   "execution_count": 5,
   "id": "0ed2d936-6674-4e8a-b200-da014e3e59b2",
   "metadata": {},
   "outputs": [],
   "source": [
    "df = spark.read.format(\"parquet\").load(\"hdfs://main:9000/sf.parquet\")\n",
    "df.createOrReplaceTempView(\"calls\")"
   ]
  },
  {
   "cell_type": "markdown",
   "id": "07800c73-1f3d-4c90-bb2b-a9863b8ed6b0",
   "metadata": {},
   "source": [
    "# Demos"
   ]
  },
  {
   "cell_type": "markdown",
   "id": "33178f0b-dafb-4fc9-ad7e-a250f3665570",
   "metadata": {},
   "source": [
    "### Windowing"
   ]
  },
  {
   "cell_type": "code",
   "execution_count": 6,
   "id": "4912a5e8-2ca1-46a0-a0e5-54b4ee79b058",
   "metadata": {},
   "outputs": [
    {
     "name": "stderr",
     "output_type": "stream",
     "text": [
      "                                                                                \r"
     ]
    },
    {
     "data": {
      "text/html": [
       "<div>\n",
       "<style scoped>\n",
       "    .dataframe tbody tr th:only-of-type {\n",
       "        vertical-align: middle;\n",
       "    }\n",
       "\n",
       "    .dataframe tbody tr th {\n",
       "        vertical-align: top;\n",
       "    }\n",
       "\n",
       "    .dataframe thead th {\n",
       "        text-align: right;\n",
       "    }\n",
       "</style>\n",
       "<table border=\"1\" class=\"dataframe\">\n",
       "  <thead>\n",
       "    <tr style=\"text-align: right;\">\n",
       "      <th></th>\n",
       "      <th>CallTypeGroup</th>\n",
       "      <th>CallType</th>\n",
       "      <th>count</th>\n",
       "    </tr>\n",
       "  </thead>\n",
       "  <tbody>\n",
       "    <tr>\n",
       "      <th>0</th>\n",
       "      <td>None</td>\n",
       "      <td>Elevator / Escalator Rescue</td>\n",
       "      <td>7062</td>\n",
       "    </tr>\n",
       "    <tr>\n",
       "      <th>1</th>\n",
       "      <td>None</td>\n",
       "      <td>Marine Fire</td>\n",
       "      <td>222</td>\n",
       "    </tr>\n",
       "    <tr>\n",
       "      <th>2</th>\n",
       "      <td>None</td>\n",
       "      <td>Aircraft Emergency</td>\n",
       "      <td>1263</td>\n",
       "    </tr>\n",
       "    <tr>\n",
       "      <th>3</th>\n",
       "      <td>None</td>\n",
       "      <td>Confined Space / Structure Collapse</td>\n",
       "      <td>286</td>\n",
       "    </tr>\n",
       "    <tr>\n",
       "      <th>4</th>\n",
       "      <td>None</td>\n",
       "      <td>Administrative</td>\n",
       "      <td>306</td>\n",
       "    </tr>\n",
       "    <tr>\n",
       "      <th>...</th>\n",
       "      <td>...</td>\n",
       "      <td>...</td>\n",
       "      <td>...</td>\n",
       "    </tr>\n",
       "    <tr>\n",
       "      <th>73</th>\n",
       "      <td>Alarm</td>\n",
       "      <td>Vehicle Fire</td>\n",
       "      <td>13</td>\n",
       "    </tr>\n",
       "    <tr>\n",
       "      <th>74</th>\n",
       "      <td>Fire</td>\n",
       "      <td>Administrative</td>\n",
       "      <td>1</td>\n",
       "    </tr>\n",
       "    <tr>\n",
       "      <th>75</th>\n",
       "      <td>Alarm</td>\n",
       "      <td>Oil Spill</td>\n",
       "      <td>5</td>\n",
       "    </tr>\n",
       "    <tr>\n",
       "      <th>76</th>\n",
       "      <td>Alarm</td>\n",
       "      <td>Aircraft Emergency</td>\n",
       "      <td>63</td>\n",
       "    </tr>\n",
       "    <tr>\n",
       "      <th>77</th>\n",
       "      <td>Potentially Life-Threatening</td>\n",
       "      <td>Structure Fire</td>\n",
       "      <td>16</td>\n",
       "    </tr>\n",
       "  </tbody>\n",
       "</table>\n",
       "<p>78 rows × 3 columns</p>\n",
       "</div>"
      ],
      "text/plain": [
       "                   CallTypeGroup                             CallType  count\n",
       "0                           None          Elevator / Escalator Rescue   7062\n",
       "1                           None                          Marine Fire    222\n",
       "2                           None                   Aircraft Emergency   1263\n",
       "3                           None  Confined Space / Structure Collapse    286\n",
       "4                           None                       Administrative    306\n",
       "..                           ...                                  ...    ...\n",
       "73                         Alarm                         Vehicle Fire     13\n",
       "74                          Fire                       Administrative      1\n",
       "75                         Alarm                            Oil Spill      5\n",
       "76                         Alarm                   Aircraft Emergency     63\n",
       "77  Potentially Life-Threatening                       Structure Fire     16\n",
       "\n",
       "[78 rows x 3 columns]"
      ]
     },
     "execution_count": 6,
     "metadata": {},
     "output_type": "execute_result"
    }
   ],
   "source": [
    "# what are the 3 biggest call types, in each call type group\n",
    "spark.sql(\"\"\"\n",
    "SELECT CallTypeGroup, CallType, COUNT(*) as count\n",
    "FROM calls\n",
    "GROUP BY CallTypeGroup, CallType\n",
    "\"\"\").toPandas()"
   ]
  },
  {
   "cell_type": "code",
   "execution_count": 7,
   "id": "12e96547-b22c-4d1f-9eea-b894d63e00a5",
   "metadata": {},
   "outputs": [
    {
     "name": "stderr",
     "output_type": "stream",
     "text": [
      "                                                                                \r"
     ]
    },
    {
     "data": {
      "text/html": [
       "<div>\n",
       "<style scoped>\n",
       "    .dataframe tbody tr th:only-of-type {\n",
       "        vertical-align: middle;\n",
       "    }\n",
       "\n",
       "    .dataframe tbody tr th {\n",
       "        vertical-align: top;\n",
       "    }\n",
       "\n",
       "    .dataframe thead th {\n",
       "        text-align: right;\n",
       "    }\n",
       "</style>\n",
       "<table border=\"1\" class=\"dataframe\">\n",
       "  <thead>\n",
       "    <tr style=\"text-align: right;\">\n",
       "      <th></th>\n",
       "      <th>CallTypeGroup</th>\n",
       "      <th>CallType</th>\n",
       "      <th>count</th>\n",
       "      <th>row_number() OVER (PARTITION BY CallTypeGroup ORDER BY count DESC NULLS LAST ROWS BETWEEN UNBOUNDED PRECEDING AND CURRENT ROW)</th>\n",
       "    </tr>\n",
       "  </thead>\n",
       "  <tbody>\n",
       "    <tr>\n",
       "      <th>0</th>\n",
       "      <td>None</td>\n",
       "      <td>Medical Incident</td>\n",
       "      <td>1783402</td>\n",
       "      <td>1</td>\n",
       "    </tr>\n",
       "    <tr>\n",
       "      <th>1</th>\n",
       "      <td>None</td>\n",
       "      <td>Structure Fire</td>\n",
       "      <td>416250</td>\n",
       "      <td>2</td>\n",
       "    </tr>\n",
       "    <tr>\n",
       "      <th>2</th>\n",
       "      <td>None</td>\n",
       "      <td>Alarms</td>\n",
       "      <td>298422</td>\n",
       "      <td>3</td>\n",
       "    </tr>\n",
       "    <tr>\n",
       "      <th>3</th>\n",
       "      <td>None</td>\n",
       "      <td>Traffic Collision</td>\n",
       "      <td>107136</td>\n",
       "      <td>4</td>\n",
       "    </tr>\n",
       "    <tr>\n",
       "      <th>4</th>\n",
       "      <td>None</td>\n",
       "      <td>Other</td>\n",
       "      <td>50967</td>\n",
       "      <td>5</td>\n",
       "    </tr>\n",
       "    <tr>\n",
       "      <th>...</th>\n",
       "      <td>...</td>\n",
       "      <td>...</td>\n",
       "      <td>...</td>\n",
       "      <td>...</td>\n",
       "    </tr>\n",
       "    <tr>\n",
       "      <th>73</th>\n",
       "      <td>Potentially Life-Threatening</td>\n",
       "      <td>Medical Incident</td>\n",
       "      <td>1448636</td>\n",
       "      <td>1</td>\n",
       "    </tr>\n",
       "    <tr>\n",
       "      <th>74</th>\n",
       "      <td>Potentially Life-Threatening</td>\n",
       "      <td>Traffic Collision</td>\n",
       "      <td>86830</td>\n",
       "      <td>2</td>\n",
       "    </tr>\n",
       "    <tr>\n",
       "      <th>75</th>\n",
       "      <td>Potentially Life-Threatening</td>\n",
       "      <td>Other</td>\n",
       "      <td>1763</td>\n",
       "      <td>3</td>\n",
       "    </tr>\n",
       "    <tr>\n",
       "      <th>76</th>\n",
       "      <td>Potentially Life-Threatening</td>\n",
       "      <td>Water Rescue</td>\n",
       "      <td>93</td>\n",
       "      <td>4</td>\n",
       "    </tr>\n",
       "    <tr>\n",
       "      <th>77</th>\n",
       "      <td>Potentially Life-Threatening</td>\n",
       "      <td>Structure Fire</td>\n",
       "      <td>16</td>\n",
       "      <td>5</td>\n",
       "    </tr>\n",
       "  </tbody>\n",
       "</table>\n",
       "<p>78 rows × 4 columns</p>\n",
       "</div>"
      ],
      "text/plain": [
       "                   CallTypeGroup           CallType    count  \\\n",
       "0                           None   Medical Incident  1783402   \n",
       "1                           None     Structure Fire   416250   \n",
       "2                           None             Alarms   298422   \n",
       "3                           None  Traffic Collision   107136   \n",
       "4                           None              Other    50967   \n",
       "..                           ...                ...      ...   \n",
       "73  Potentially Life-Threatening   Medical Incident  1448636   \n",
       "74  Potentially Life-Threatening  Traffic Collision    86830   \n",
       "75  Potentially Life-Threatening              Other     1763   \n",
       "76  Potentially Life-Threatening       Water Rescue       93   \n",
       "77  Potentially Life-Threatening     Structure Fire       16   \n",
       "\n",
       "    row_number() OVER (PARTITION BY CallTypeGroup ORDER BY count DESC NULLS LAST ROWS BETWEEN UNBOUNDED PRECEDING AND CURRENT ROW)  \n",
       "0                                                   1                                                                               \n",
       "1                                                   2                                                                               \n",
       "2                                                   3                                                                               \n",
       "3                                                   4                                                                               \n",
       "4                                                   5                                                                               \n",
       "..                                                ...                                                                               \n",
       "73                                                  1                                                                               \n",
       "74                                                  2                                                                               \n",
       "75                                                  3                                                                               \n",
       "76                                                  4                                                                               \n",
       "77                                                  5                                                                               \n",
       "\n",
       "[78 rows x 4 columns]"
      ]
     },
     "execution_count": 7,
     "metadata": {},
     "output_type": "execute_result"
    }
   ],
   "source": [
    "spark.sql(\"\"\"\n",
    "SELECT CallTypeGroup, CallType, count,\n",
    "       row_number() OVER (PARTITION BY CallTypeGroup ORDER BY count DESC)\n",
    "FROM\n",
    "(\n",
    "    SELECT CallTypeGroup, CallType, COUNT(*) as count\n",
    "    FROM calls\n",
    "    GROUP BY CallTypeGroup, CallType\n",
    ")\n",
    "\"\"\").toPandas()"
   ]
  },
  {
   "cell_type": "code",
   "execution_count": 8,
   "id": "21f1945d-a068-4037-a4f7-fe4b606edc8f",
   "metadata": {},
   "outputs": [
    {
     "name": "stderr",
     "output_type": "stream",
     "text": [
      "                                                                                \r"
     ]
    },
    {
     "data": {
      "text/html": [
       "<div>\n",
       "<style scoped>\n",
       "    .dataframe tbody tr th:only-of-type {\n",
       "        vertical-align: middle;\n",
       "    }\n",
       "\n",
       "    .dataframe tbody tr th {\n",
       "        vertical-align: top;\n",
       "    }\n",
       "\n",
       "    .dataframe thead th {\n",
       "        text-align: right;\n",
       "    }\n",
       "</style>\n",
       "<table border=\"1\" class=\"dataframe\">\n",
       "  <thead>\n",
       "    <tr style=\"text-align: right;\">\n",
       "      <th></th>\n",
       "      <th>CallTypeGroup</th>\n",
       "      <th>CallType</th>\n",
       "      <th>count</th>\n",
       "      <th>num</th>\n",
       "    </tr>\n",
       "  </thead>\n",
       "  <tbody>\n",
       "    <tr>\n",
       "      <th>0</th>\n",
       "      <td>None</td>\n",
       "      <td>Medical Incident</td>\n",
       "      <td>1783402</td>\n",
       "      <td>1</td>\n",
       "    </tr>\n",
       "    <tr>\n",
       "      <th>1</th>\n",
       "      <td>None</td>\n",
       "      <td>Structure Fire</td>\n",
       "      <td>416250</td>\n",
       "      <td>2</td>\n",
       "    </tr>\n",
       "    <tr>\n",
       "      <th>2</th>\n",
       "      <td>None</td>\n",
       "      <td>Alarms</td>\n",
       "      <td>298422</td>\n",
       "      <td>3</td>\n",
       "    </tr>\n",
       "    <tr>\n",
       "      <th>3</th>\n",
       "      <td>Alarm</td>\n",
       "      <td>Alarms</td>\n",
       "      <td>366116</td>\n",
       "      <td>1</td>\n",
       "    </tr>\n",
       "    <tr>\n",
       "      <th>4</th>\n",
       "      <td>Alarm</td>\n",
       "      <td>Structure Fire</td>\n",
       "      <td>245241</td>\n",
       "      <td>2</td>\n",
       "    </tr>\n",
       "    <tr>\n",
       "      <th>5</th>\n",
       "      <td>Alarm</td>\n",
       "      <td>Citizen Assist / Service Call</td>\n",
       "      <td>43403</td>\n",
       "      <td>3</td>\n",
       "    </tr>\n",
       "    <tr>\n",
       "      <th>6</th>\n",
       "      <td>Fire</td>\n",
       "      <td>Structure Fire</td>\n",
       "      <td>51061</td>\n",
       "      <td>1</td>\n",
       "    </tr>\n",
       "    <tr>\n",
       "      <th>7</th>\n",
       "      <td>Fire</td>\n",
       "      <td>Outside Fire</td>\n",
       "      <td>40752</td>\n",
       "      <td>2</td>\n",
       "    </tr>\n",
       "    <tr>\n",
       "      <th>8</th>\n",
       "      <td>Fire</td>\n",
       "      <td>Water Rescue</td>\n",
       "      <td>22007</td>\n",
       "      <td>3</td>\n",
       "    </tr>\n",
       "    <tr>\n",
       "      <th>9</th>\n",
       "      <td>Non Life-threatening</td>\n",
       "      <td>Medical Incident</td>\n",
       "      <td>716653</td>\n",
       "      <td>1</td>\n",
       "    </tr>\n",
       "    <tr>\n",
       "      <th>10</th>\n",
       "      <td>Non Life-threatening</td>\n",
       "      <td>Traffic Collision</td>\n",
       "      <td>50847</td>\n",
       "      <td>2</td>\n",
       "    </tr>\n",
       "    <tr>\n",
       "      <th>11</th>\n",
       "      <td>Non Life-threatening</td>\n",
       "      <td>Other</td>\n",
       "      <td>7952</td>\n",
       "      <td>3</td>\n",
       "    </tr>\n",
       "    <tr>\n",
       "      <th>12</th>\n",
       "      <td>Potentially Life-Threatening</td>\n",
       "      <td>Medical Incident</td>\n",
       "      <td>1448636</td>\n",
       "      <td>1</td>\n",
       "    </tr>\n",
       "    <tr>\n",
       "      <th>13</th>\n",
       "      <td>Potentially Life-Threatening</td>\n",
       "      <td>Traffic Collision</td>\n",
       "      <td>86830</td>\n",
       "      <td>2</td>\n",
       "    </tr>\n",
       "    <tr>\n",
       "      <th>14</th>\n",
       "      <td>Potentially Life-Threatening</td>\n",
       "      <td>Other</td>\n",
       "      <td>1763</td>\n",
       "      <td>3</td>\n",
       "    </tr>\n",
       "  </tbody>\n",
       "</table>\n",
       "</div>"
      ],
      "text/plain": [
       "                   CallTypeGroup                       CallType    count  num\n",
       "0                           None               Medical Incident  1783402    1\n",
       "1                           None                 Structure Fire   416250    2\n",
       "2                           None                         Alarms   298422    3\n",
       "3                          Alarm                         Alarms   366116    1\n",
       "4                          Alarm                 Structure Fire   245241    2\n",
       "5                          Alarm  Citizen Assist / Service Call    43403    3\n",
       "6                           Fire                 Structure Fire    51061    1\n",
       "7                           Fire                   Outside Fire    40752    2\n",
       "8                           Fire                   Water Rescue    22007    3\n",
       "9           Non Life-threatening               Medical Incident   716653    1\n",
       "10          Non Life-threatening              Traffic Collision    50847    2\n",
       "11          Non Life-threatening                          Other     7952    3\n",
       "12  Potentially Life-Threatening               Medical Incident  1448636    1\n",
       "13  Potentially Life-Threatening              Traffic Collision    86830    2\n",
       "14  Potentially Life-Threatening                          Other     1763    3"
      ]
     },
     "execution_count": 8,
     "metadata": {},
     "output_type": "execute_result"
    }
   ],
   "source": [
    "spark.sql(\"\"\"\n",
    "SELECT CallTypeGroup, CallType, count,\n",
    "       row_number() OVER (PARTITION BY CallTypeGroup ORDER BY count DESC) AS num\n",
    "FROM\n",
    "(\n",
    "    SELECT CallTypeGroup, CallType, COUNT(*) as count\n",
    "    FROM calls\n",
    "    GROUP BY CallTypeGroup, CallType\n",
    ")\n",
    "\"\"\").where(\"num <= 3\").toPandas()"
   ]
  },
  {
   "cell_type": "markdown",
   "id": "5a7cca8e-689b-425e-8143-024adaa9db49",
   "metadata": {},
   "source": [
    "### Joining"
   ]
  },
  {
   "cell_type": "code",
   "execution_count": 9,
   "id": "8f31fee1-9a71-41bb-a808-8f774b2e4755",
   "metadata": {},
   "outputs": [
    {
     "name": "stdout",
     "output_type": "stream",
     "text": [
      "--2023-03-27 13:59:19--  https://raw.githubusercontent.com/tylerharter/us-federal-holidays/main/holidays2.csv\n",
      "Resolving raw.githubusercontent.com (raw.githubusercontent.com)... 185.199.108.133, 185.199.109.133, 185.199.110.133, ...\n",
      "Connecting to raw.githubusercontent.com (raw.githubusercontent.com)|185.199.108.133|:443... connected.\n",
      "HTTP request sent, awaiting response... 200 OK\n",
      "Length: 3495 (3.4K) [text/plain]\n",
      "Saving to: ‘holidays2.csv.2’\n",
      "\n",
      "holidays2.csv.2     100%[===================>]   3.41K  --.-KB/s    in 0s      \n",
      "\n",
      "2023-03-27 13:59:20 (41.5 MB/s) - ‘holidays2.csv.2’ saved [3495/3495]\n",
      "\n"
     ]
    }
   ],
   "source": [
    "! wget https://raw.githubusercontent.com/tylerharter/us-federal-holidays/main/holidays2.csv\n",
    "! hdfs dfs -cp holidays2.csv hdfs://main:9000/\n",
    "holidays = (spark.read.format(\"csv\").option(\"header\", True)\n",
    "            .load(\"hdfs://main:9000/holidays2.csv\"))"
   ]
  },
  {
   "cell_type": "code",
   "execution_count": 10,
   "id": "fb678d82-9a88-4bff-952a-c7417a68a48e",
   "metadata": {},
   "outputs": [
    {
     "data": {
      "text/html": [
       "<div>\n",
       "<style scoped>\n",
       "    .dataframe tbody tr th:only-of-type {\n",
       "        vertical-align: middle;\n",
       "    }\n",
       "\n",
       "    .dataframe tbody tr th {\n",
       "        vertical-align: top;\n",
       "    }\n",
       "\n",
       "    .dataframe thead th {\n",
       "        text-align: right;\n",
       "    }\n",
       "</style>\n",
       "<table border=\"1\" class=\"dataframe\">\n",
       "  <thead>\n",
       "    <tr style=\"text-align: right;\">\n",
       "      <th></th>\n",
       "      <th>date</th>\n",
       "      <th>holiday</th>\n",
       "    </tr>\n",
       "  </thead>\n",
       "  <tbody>\n",
       "    <tr>\n",
       "      <th>0</th>\n",
       "      <td>01/01/2013</td>\n",
       "      <td>New Year's Day</td>\n",
       "    </tr>\n",
       "    <tr>\n",
       "      <th>1</th>\n",
       "      <td>01/01/2014</td>\n",
       "      <td>New Year's Day</td>\n",
       "    </tr>\n",
       "    <tr>\n",
       "      <th>2</th>\n",
       "      <td>01/01/2015</td>\n",
       "      <td>New Year's Day</td>\n",
       "    </tr>\n",
       "    <tr>\n",
       "      <th>3</th>\n",
       "      <td>01/01/2016</td>\n",
       "      <td>New Year's Day</td>\n",
       "    </tr>\n",
       "    <tr>\n",
       "      <th>4</th>\n",
       "      <td>01/01/2018</td>\n",
       "      <td>New Year's Day</td>\n",
       "    </tr>\n",
       "    <tr>\n",
       "      <th>...</th>\n",
       "      <td>...</td>\n",
       "      <td>...</td>\n",
       "    </tr>\n",
       "    <tr>\n",
       "      <th>117</th>\n",
       "      <td>12/25/2020</td>\n",
       "      <td>Christmas Day</td>\n",
       "    </tr>\n",
       "    <tr>\n",
       "      <th>118</th>\n",
       "      <td>12/26/2011</td>\n",
       "      <td>Christmas Day</td>\n",
       "    </tr>\n",
       "    <tr>\n",
       "      <th>119</th>\n",
       "      <td>12/26/2016</td>\n",
       "      <td>Christmas Day</td>\n",
       "    </tr>\n",
       "    <tr>\n",
       "      <th>120</th>\n",
       "      <td>12/26/2022</td>\n",
       "      <td>Christmas Day</td>\n",
       "    </tr>\n",
       "    <tr>\n",
       "      <th>121</th>\n",
       "      <td>12/31/2022</td>\n",
       "      <td>New Year's Day</td>\n",
       "    </tr>\n",
       "  </tbody>\n",
       "</table>\n",
       "<p>122 rows × 2 columns</p>\n",
       "</div>"
      ],
      "text/plain": [
       "           date         holiday\n",
       "0    01/01/2013  New Year's Day\n",
       "1    01/01/2014  New Year's Day\n",
       "2    01/01/2015  New Year's Day\n",
       "3    01/01/2016  New Year's Day\n",
       "4    01/01/2018  New Year's Day\n",
       "..          ...             ...\n",
       "117  12/25/2020   Christmas Day\n",
       "118  12/26/2011   Christmas Day\n",
       "119  12/26/2016   Christmas Day\n",
       "120  12/26/2022   Christmas Day\n",
       "121  12/31/2022  New Year's Day\n",
       "\n",
       "[122 rows x 2 columns]"
      ]
     },
     "execution_count": 10,
     "metadata": {},
     "output_type": "execute_result"
    }
   ],
   "source": [
    "holidays.toPandas()"
   ]
  },
  {
   "cell_type": "code",
   "execution_count": 11,
   "id": "2648f8ec-9e3a-4c97-b870-ff4606c4bc82",
   "metadata": {},
   "outputs": [],
   "source": [
    "calls = spark.table(\"calls\")"
   ]
  },
  {
   "cell_type": "code",
   "execution_count": 12,
   "id": "eb949060-74af-48bb-8b7e-17101bcd8c2f",
   "metadata": {},
   "outputs": [
    {
     "data": {
      "text/plain": [
       "Column<'(CallDate = date)'>"
      ]
     },
     "execution_count": 12,
     "metadata": {},
     "output_type": "execute_result"
    }
   ],
   "source": [
    "calls[\"CallDate\"] == holidays[\"date\"]"
   ]
  },
  {
   "cell_type": "code",
   "execution_count": 13,
   "id": "e7787762-508e-4020-98a4-203b507d8a3f",
   "metadata": {},
   "outputs": [
    {
     "name": "stderr",
     "output_type": "stream",
     "text": [
      "                                                                                \r"
     ]
    },
    {
     "data": {
      "text/html": [
       "<div>\n",
       "<style scoped>\n",
       "    .dataframe tbody tr th:only-of-type {\n",
       "        vertical-align: middle;\n",
       "    }\n",
       "\n",
       "    .dataframe tbody tr th {\n",
       "        vertical-align: top;\n",
       "    }\n",
       "\n",
       "    .dataframe thead th {\n",
       "        text-align: right;\n",
       "    }\n",
       "</style>\n",
       "<table border=\"1\" class=\"dataframe\">\n",
       "  <thead>\n",
       "    <tr style=\"text-align: right;\">\n",
       "      <th></th>\n",
       "      <th>CallNumber</th>\n",
       "      <th>UnitID</th>\n",
       "      <th>IncidentNumber</th>\n",
       "      <th>CallType</th>\n",
       "      <th>CallDate</th>\n",
       "      <th>WatchDate</th>\n",
       "      <th>ReceivedDtTm</th>\n",
       "      <th>EntryDtTm</th>\n",
       "      <th>DispatchDtTm</th>\n",
       "      <th>ResponseDtTm</th>\n",
       "      <th>...</th>\n",
       "      <th>UnitType</th>\n",
       "      <th>Unitsequenceincalldispatch</th>\n",
       "      <th>FirePreventionDistrict</th>\n",
       "      <th>SupervisorDistrict</th>\n",
       "      <th>Neighborhooods-AnalysisBoundaries</th>\n",
       "      <th>RowID</th>\n",
       "      <th>case_location</th>\n",
       "      <th>AnalysisNeighborhoods</th>\n",
       "      <th>date</th>\n",
       "      <th>holiday</th>\n",
       "    </tr>\n",
       "  </thead>\n",
       "  <tbody>\n",
       "    <tr>\n",
       "      <th>0</th>\n",
       "      <td>201461772</td>\n",
       "      <td>94</td>\n",
       "      <td>20060706</td>\n",
       "      <td>Medical Incident</td>\n",
       "      <td>05/25/2020</td>\n",
       "      <td>05/25/2020</td>\n",
       "      <td>05/25/2020 01:34:55 PM</td>\n",
       "      <td>05/25/2020 01:34:55 PM</td>\n",
       "      <td>05/25/2020 01:36:14 PM</td>\n",
       "      <td>05/25/2020 01:36:19 PM</td>\n",
       "      <td>...</td>\n",
       "      <td>MEDIC</td>\n",
       "      <td>1</td>\n",
       "      <td>10</td>\n",
       "      <td>10</td>\n",
       "      <td>Bayview Hunters Point</td>\n",
       "      <td>201461772-94</td>\n",
       "      <td>POINT (-122.38626545834089 37.73782577837169)</td>\n",
       "      <td>1</td>\n",
       "      <td>05/25/2020</td>\n",
       "      <td>Memorial Day</td>\n",
       "    </tr>\n",
       "    <tr>\n",
       "      <th>1</th>\n",
       "      <td>201463874</td>\n",
       "      <td>E32</td>\n",
       "      <td>20060913</td>\n",
       "      <td>Medical Incident</td>\n",
       "      <td>05/25/2020</td>\n",
       "      <td>05/25/2020</td>\n",
       "      <td>05/25/2020 11:16:21 PM</td>\n",
       "      <td>05/25/2020 11:17:54 PM</td>\n",
       "      <td>05/25/2020 11:18:27 PM</td>\n",
       "      <td>05/25/2020 11:19:53 PM</td>\n",
       "      <td>...</td>\n",
       "      <td>ENGINE</td>\n",
       "      <td>1</td>\n",
       "      <td>9</td>\n",
       "      <td>11</td>\n",
       "      <td>Excelsior</td>\n",
       "      <td>201463874-E32</td>\n",
       "      <td>POINT (-122.42955213038633 37.729273863971024)</td>\n",
       "      <td>7</td>\n",
       "      <td>05/25/2020</td>\n",
       "      <td>Memorial Day</td>\n",
       "    </tr>\n",
       "    <tr>\n",
       "      <th>2</th>\n",
       "      <td>201463019</td>\n",
       "      <td>T18</td>\n",
       "      <td>20060826</td>\n",
       "      <td>Medical Incident</td>\n",
       "      <td>05/25/2020</td>\n",
       "      <td>05/25/2020</td>\n",
       "      <td>05/25/2020 06:39:44 PM</td>\n",
       "      <td>05/25/2020 06:41:34 PM</td>\n",
       "      <td>05/25/2020 06:55:28 PM</td>\n",
       "      <td>05/25/2020 06:57:32 PM</td>\n",
       "      <td>...</td>\n",
       "      <td>TRUCK</td>\n",
       "      <td>2</td>\n",
       "      <td>8</td>\n",
       "      <td>7</td>\n",
       "      <td>Inner Sunset</td>\n",
       "      <td>201463019-T18</td>\n",
       "      <td>POINT (-122.46829612745225 37.751748874988515)</td>\n",
       "      <td>14</td>\n",
       "      <td>05/25/2020</td>\n",
       "      <td>Memorial Day</td>\n",
       "    </tr>\n",
       "    <tr>\n",
       "      <th>3</th>\n",
       "      <td>201460900</td>\n",
       "      <td>E11</td>\n",
       "      <td>20060611</td>\n",
       "      <td>Medical Incident</td>\n",
       "      <td>05/25/2020</td>\n",
       "      <td>05/25/2020</td>\n",
       "      <td>05/25/2020 09:22:49 AM</td>\n",
       "      <td>05/25/2020 09:24:51 AM</td>\n",
       "      <td>05/25/2020 09:25:17 AM</td>\n",
       "      <td>05/25/2020 09:26:11 AM</td>\n",
       "      <td>...</td>\n",
       "      <td>ENGINE</td>\n",
       "      <td>1</td>\n",
       "      <td>6</td>\n",
       "      <td>8</td>\n",
       "      <td>Mission</td>\n",
       "      <td>201460900-E11</td>\n",
       "      <td>POINT (-122.42413130758577 37.752703146369065)</td>\n",
       "      <td>20</td>\n",
       "      <td>05/25/2020</td>\n",
       "      <td>Memorial Day</td>\n",
       "    </tr>\n",
       "    <tr>\n",
       "      <th>4</th>\n",
       "      <td>201463227</td>\n",
       "      <td>B03</td>\n",
       "      <td>20060859</td>\n",
       "      <td>Alarms</td>\n",
       "      <td>05/25/2020</td>\n",
       "      <td>05/25/2020</td>\n",
       "      <td>05/25/2020 07:40:19 PM</td>\n",
       "      <td>05/25/2020 07:41:33 PM</td>\n",
       "      <td>05/25/2020 07:41:44 PM</td>\n",
       "      <td>05/25/2020 07:42:33 PM</td>\n",
       "      <td>...</td>\n",
       "      <td>CHIEF</td>\n",
       "      <td>2</td>\n",
       "      <td>3</td>\n",
       "      <td>6</td>\n",
       "      <td>Financial District/South Beach</td>\n",
       "      <td>201463227-B03</td>\n",
       "      <td>POINT (-122.40169229261626 37.78658885907634)</td>\n",
       "      <td>8</td>\n",
       "      <td>05/25/2020</td>\n",
       "      <td>Memorial Day</td>\n",
       "    </tr>\n",
       "    <tr>\n",
       "      <th>5</th>\n",
       "      <td>201460714</td>\n",
       "      <td>E26</td>\n",
       "      <td>20060590</td>\n",
       "      <td>Medical Incident</td>\n",
       "      <td>05/25/2020</td>\n",
       "      <td>05/25/2020</td>\n",
       "      <td>05/25/2020 08:23:14 AM</td>\n",
       "      <td>05/25/2020 08:23:14 AM</td>\n",
       "      <td>05/25/2020 08:31:53 AM</td>\n",
       "      <td>05/25/2020 08:34:00 AM</td>\n",
       "      <td>...</td>\n",
       "      <td>ENGINE</td>\n",
       "      <td>2</td>\n",
       "      <td>6</td>\n",
       "      <td>8</td>\n",
       "      <td>Glen Park</td>\n",
       "      <td>201460714-E26</td>\n",
       "      <td>POINT (-122.4396375225712 37.73654095477352)</td>\n",
       "      <td>10</td>\n",
       "      <td>05/25/2020</td>\n",
       "      <td>Memorial Day</td>\n",
       "    </tr>\n",
       "    <tr>\n",
       "      <th>6</th>\n",
       "      <td>201463595</td>\n",
       "      <td>RC1</td>\n",
       "      <td>20060892</td>\n",
       "      <td>Medical Incident</td>\n",
       "      <td>05/25/2020</td>\n",
       "      <td>05/25/2020</td>\n",
       "      <td>05/25/2020 09:24:50 PM</td>\n",
       "      <td>05/25/2020 09:26:27 PM</td>\n",
       "      <td>05/25/2020 09:27:04 PM</td>\n",
       "      <td>05/25/2020 09:27:44 PM</td>\n",
       "      <td>...</td>\n",
       "      <td>RESCUE CAPTAIN</td>\n",
       "      <td>1</td>\n",
       "      <td>3</td>\n",
       "      <td>6</td>\n",
       "      <td>Financial District/South Beach</td>\n",
       "      <td>201463595-RC1</td>\n",
       "      <td>POINT (-122.39638047787408 37.787304005252835)</td>\n",
       "      <td>8</td>\n",
       "      <td>05/25/2020</td>\n",
       "      <td>Memorial Day</td>\n",
       "    </tr>\n",
       "    <tr>\n",
       "      <th>7</th>\n",
       "      <td>201463264</td>\n",
       "      <td>54</td>\n",
       "      <td>20060863</td>\n",
       "      <td>Medical Incident</td>\n",
       "      <td>05/25/2020</td>\n",
       "      <td>05/25/2020</td>\n",
       "      <td>05/25/2020 07:52:29 PM</td>\n",
       "      <td>05/25/2020 07:54:40 PM</td>\n",
       "      <td>05/25/2020 07:54:56 PM</td>\n",
       "      <td>05/25/2020 07:55:02 PM</td>\n",
       "      <td>...</td>\n",
       "      <td>MEDIC</td>\n",
       "      <td>3</td>\n",
       "      <td>10</td>\n",
       "      <td>10</td>\n",
       "      <td>Potrero Hill</td>\n",
       "      <td>201463264-54</td>\n",
       "      <td>POINT (-122.39724892486004 37.759967407690915)</td>\n",
       "      <td>26</td>\n",
       "      <td>05/25/2020</td>\n",
       "      <td>Memorial Day</td>\n",
       "    </tr>\n",
       "    <tr>\n",
       "      <th>8</th>\n",
       "      <td>201463403</td>\n",
       "      <td>56</td>\n",
       "      <td>20060881</td>\n",
       "      <td>Medical Incident</td>\n",
       "      <td>05/25/2020</td>\n",
       "      <td>05/25/2020</td>\n",
       "      <td>05/25/2020 08:35:42 PM</td>\n",
       "      <td>05/25/2020 08:36:38 PM</td>\n",
       "      <td>05/25/2020 08:36:55 PM</td>\n",
       "      <td>05/25/2020 08:37:01 PM</td>\n",
       "      <td>...</td>\n",
       "      <td>MEDIC</td>\n",
       "      <td>2</td>\n",
       "      <td>1</td>\n",
       "      <td>3</td>\n",
       "      <td>Nob Hill</td>\n",
       "      <td>201463403-56</td>\n",
       "      <td>POINT (-122.4083891465028 37.79026526175803)</td>\n",
       "      <td>21</td>\n",
       "      <td>05/25/2020</td>\n",
       "      <td>Memorial Day</td>\n",
       "    </tr>\n",
       "    <tr>\n",
       "      <th>9</th>\n",
       "      <td>201463254</td>\n",
       "      <td>63</td>\n",
       "      <td>20060862</td>\n",
       "      <td>Medical Incident</td>\n",
       "      <td>05/25/2020</td>\n",
       "      <td>05/25/2020</td>\n",
       "      <td>05/25/2020 07:52:16 PM</td>\n",
       "      <td>05/25/2020 07:52:16 PM</td>\n",
       "      <td>05/25/2020 07:52:43 PM</td>\n",
       "      <td>05/25/2020 07:52:47 PM</td>\n",
       "      <td>...</td>\n",
       "      <td>MEDIC</td>\n",
       "      <td>2</td>\n",
       "      <td>3</td>\n",
       "      <td>10</td>\n",
       "      <td>Mission Bay</td>\n",
       "      <td>201463254-63</td>\n",
       "      <td>POINT (-122.39549294787926 37.76681685424107)</td>\n",
       "      <td>4</td>\n",
       "      <td>05/25/2020</td>\n",
       "      <td>Memorial Day</td>\n",
       "    </tr>\n",
       "  </tbody>\n",
       "</table>\n",
       "<p>10 rows × 37 columns</p>\n",
       "</div>"
      ],
      "text/plain": [
       "   CallNumber UnitID  IncidentNumber          CallType    CallDate  \\\n",
       "0   201461772     94        20060706  Medical Incident  05/25/2020   \n",
       "1   201463874    E32        20060913  Medical Incident  05/25/2020   \n",
       "2   201463019    T18        20060826  Medical Incident  05/25/2020   \n",
       "3   201460900    E11        20060611  Medical Incident  05/25/2020   \n",
       "4   201463227    B03        20060859            Alarms  05/25/2020   \n",
       "5   201460714    E26        20060590  Medical Incident  05/25/2020   \n",
       "6   201463595    RC1        20060892  Medical Incident  05/25/2020   \n",
       "7   201463264     54        20060863  Medical Incident  05/25/2020   \n",
       "8   201463403     56        20060881  Medical Incident  05/25/2020   \n",
       "9   201463254     63        20060862  Medical Incident  05/25/2020   \n",
       "\n",
       "    WatchDate            ReceivedDtTm               EntryDtTm  \\\n",
       "0  05/25/2020  05/25/2020 01:34:55 PM  05/25/2020 01:34:55 PM   \n",
       "1  05/25/2020  05/25/2020 11:16:21 PM  05/25/2020 11:17:54 PM   \n",
       "2  05/25/2020  05/25/2020 06:39:44 PM  05/25/2020 06:41:34 PM   \n",
       "3  05/25/2020  05/25/2020 09:22:49 AM  05/25/2020 09:24:51 AM   \n",
       "4  05/25/2020  05/25/2020 07:40:19 PM  05/25/2020 07:41:33 PM   \n",
       "5  05/25/2020  05/25/2020 08:23:14 AM  05/25/2020 08:23:14 AM   \n",
       "6  05/25/2020  05/25/2020 09:24:50 PM  05/25/2020 09:26:27 PM   \n",
       "7  05/25/2020  05/25/2020 07:52:29 PM  05/25/2020 07:54:40 PM   \n",
       "8  05/25/2020  05/25/2020 08:35:42 PM  05/25/2020 08:36:38 PM   \n",
       "9  05/25/2020  05/25/2020 07:52:16 PM  05/25/2020 07:52:16 PM   \n",
       "\n",
       "             DispatchDtTm            ResponseDtTm  ...        UnitType  \\\n",
       "0  05/25/2020 01:36:14 PM  05/25/2020 01:36:19 PM  ...           MEDIC   \n",
       "1  05/25/2020 11:18:27 PM  05/25/2020 11:19:53 PM  ...          ENGINE   \n",
       "2  05/25/2020 06:55:28 PM  05/25/2020 06:57:32 PM  ...           TRUCK   \n",
       "3  05/25/2020 09:25:17 AM  05/25/2020 09:26:11 AM  ...          ENGINE   \n",
       "4  05/25/2020 07:41:44 PM  05/25/2020 07:42:33 PM  ...           CHIEF   \n",
       "5  05/25/2020 08:31:53 AM  05/25/2020 08:34:00 AM  ...          ENGINE   \n",
       "6  05/25/2020 09:27:04 PM  05/25/2020 09:27:44 PM  ...  RESCUE CAPTAIN   \n",
       "7  05/25/2020 07:54:56 PM  05/25/2020 07:55:02 PM  ...           MEDIC   \n",
       "8  05/25/2020 08:36:55 PM  05/25/2020 08:37:01 PM  ...           MEDIC   \n",
       "9  05/25/2020 07:52:43 PM  05/25/2020 07:52:47 PM  ...           MEDIC   \n",
       "\n",
       "  Unitsequenceincalldispatch FirePreventionDistrict SupervisorDistrict  \\\n",
       "0                          1                     10                 10   \n",
       "1                          1                      9                 11   \n",
       "2                          2                      8                  7   \n",
       "3                          1                      6                  8   \n",
       "4                          2                      3                  6   \n",
       "5                          2                      6                  8   \n",
       "6                          1                      3                  6   \n",
       "7                          3                     10                 10   \n",
       "8                          2                      1                  3   \n",
       "9                          2                      3                 10   \n",
       "\n",
       "  Neighborhooods-AnalysisBoundaries          RowID  \\\n",
       "0             Bayview Hunters Point   201461772-94   \n",
       "1                         Excelsior  201463874-E32   \n",
       "2                      Inner Sunset  201463019-T18   \n",
       "3                           Mission  201460900-E11   \n",
       "4    Financial District/South Beach  201463227-B03   \n",
       "5                         Glen Park  201460714-E26   \n",
       "6    Financial District/South Beach  201463595-RC1   \n",
       "7                      Potrero Hill   201463264-54   \n",
       "8                          Nob Hill   201463403-56   \n",
       "9                       Mission Bay   201463254-63   \n",
       "\n",
       "                                    case_location  AnalysisNeighborhoods  \\\n",
       "0   POINT (-122.38626545834089 37.73782577837169)                      1   \n",
       "1  POINT (-122.42955213038633 37.729273863971024)                      7   \n",
       "2  POINT (-122.46829612745225 37.751748874988515)                     14   \n",
       "3  POINT (-122.42413130758577 37.752703146369065)                     20   \n",
       "4   POINT (-122.40169229261626 37.78658885907634)                      8   \n",
       "5    POINT (-122.4396375225712 37.73654095477352)                     10   \n",
       "6  POINT (-122.39638047787408 37.787304005252835)                      8   \n",
       "7  POINT (-122.39724892486004 37.759967407690915)                     26   \n",
       "8    POINT (-122.4083891465028 37.79026526175803)                     21   \n",
       "9   POINT (-122.39549294787926 37.76681685424107)                      4   \n",
       "\n",
       "         date       holiday  \n",
       "0  05/25/2020  Memorial Day  \n",
       "1  05/25/2020  Memorial Day  \n",
       "2  05/25/2020  Memorial Day  \n",
       "3  05/25/2020  Memorial Day  \n",
       "4  05/25/2020  Memorial Day  \n",
       "5  05/25/2020  Memorial Day  \n",
       "6  05/25/2020  Memorial Day  \n",
       "7  05/25/2020  Memorial Day  \n",
       "8  05/25/2020  Memorial Day  \n",
       "9  05/25/2020  Memorial Day  \n",
       "\n",
       "[10 rows x 37 columns]"
      ]
     },
     "execution_count": 13,
     "metadata": {},
     "output_type": "execute_result"
    }
   ],
   "source": [
    "# can we associate a holiday with a call?\n",
    "# BY DEFAULT: inner join\n",
    "calls.join(holidays, on=calls[\"CallDate\"] == holidays[\"date\"]).limit(10).toPandas()"
   ]
  },
  {
   "cell_type": "code",
   "execution_count": 14,
   "id": "660dc9bb-6041-445f-9d7a-26569d5db474",
   "metadata": {},
   "outputs": [
    {
     "data": {
      "text/html": [
       "<div>\n",
       "<style scoped>\n",
       "    .dataframe tbody tr th:only-of-type {\n",
       "        vertical-align: middle;\n",
       "    }\n",
       "\n",
       "    .dataframe tbody tr th {\n",
       "        vertical-align: top;\n",
       "    }\n",
       "\n",
       "    .dataframe thead th {\n",
       "        text-align: right;\n",
       "    }\n",
       "</style>\n",
       "<table border=\"1\" class=\"dataframe\">\n",
       "  <thead>\n",
       "    <tr style=\"text-align: right;\">\n",
       "      <th></th>\n",
       "      <th>CallNumber</th>\n",
       "      <th>UnitID</th>\n",
       "      <th>IncidentNumber</th>\n",
       "      <th>CallType</th>\n",
       "      <th>CallDate</th>\n",
       "      <th>WatchDate</th>\n",
       "      <th>ReceivedDtTm</th>\n",
       "      <th>EntryDtTm</th>\n",
       "      <th>DispatchDtTm</th>\n",
       "      <th>ResponseDtTm</th>\n",
       "      <th>...</th>\n",
       "      <th>UnitType</th>\n",
       "      <th>Unitsequenceincalldispatch</th>\n",
       "      <th>FirePreventionDistrict</th>\n",
       "      <th>SupervisorDistrict</th>\n",
       "      <th>Neighborhooods-AnalysisBoundaries</th>\n",
       "      <th>RowID</th>\n",
       "      <th>case_location</th>\n",
       "      <th>AnalysisNeighborhoods</th>\n",
       "      <th>date</th>\n",
       "      <th>holiday</th>\n",
       "    </tr>\n",
       "  </thead>\n",
       "  <tbody>\n",
       "    <tr>\n",
       "      <th>0</th>\n",
       "      <td>201461772</td>\n",
       "      <td>94</td>\n",
       "      <td>20060706</td>\n",
       "      <td>Medical Incident</td>\n",
       "      <td>05/25/2020</td>\n",
       "      <td>05/25/2020</td>\n",
       "      <td>05/25/2020 01:34:55 PM</td>\n",
       "      <td>05/25/2020 01:34:55 PM</td>\n",
       "      <td>05/25/2020 01:36:14 PM</td>\n",
       "      <td>05/25/2020 01:36:19 PM</td>\n",
       "      <td>...</td>\n",
       "      <td>MEDIC</td>\n",
       "      <td>1</td>\n",
       "      <td>10</td>\n",
       "      <td>10</td>\n",
       "      <td>Bayview Hunters Point</td>\n",
       "      <td>201461772-94</td>\n",
       "      <td>POINT (-122.38626545834089 37.73782577837169)</td>\n",
       "      <td>1</td>\n",
       "      <td>05/25/2020</td>\n",
       "      <td>Memorial Day</td>\n",
       "    </tr>\n",
       "    <tr>\n",
       "      <th>1</th>\n",
       "      <td>201463874</td>\n",
       "      <td>E32</td>\n",
       "      <td>20060913</td>\n",
       "      <td>Medical Incident</td>\n",
       "      <td>05/25/2020</td>\n",
       "      <td>05/25/2020</td>\n",
       "      <td>05/25/2020 11:16:21 PM</td>\n",
       "      <td>05/25/2020 11:17:54 PM</td>\n",
       "      <td>05/25/2020 11:18:27 PM</td>\n",
       "      <td>05/25/2020 11:19:53 PM</td>\n",
       "      <td>...</td>\n",
       "      <td>ENGINE</td>\n",
       "      <td>1</td>\n",
       "      <td>9</td>\n",
       "      <td>11</td>\n",
       "      <td>Excelsior</td>\n",
       "      <td>201463874-E32</td>\n",
       "      <td>POINT (-122.42955213038633 37.729273863971024)</td>\n",
       "      <td>7</td>\n",
       "      <td>05/25/2020</td>\n",
       "      <td>Memorial Day</td>\n",
       "    </tr>\n",
       "    <tr>\n",
       "      <th>2</th>\n",
       "      <td>201463019</td>\n",
       "      <td>T18</td>\n",
       "      <td>20060826</td>\n",
       "      <td>Medical Incident</td>\n",
       "      <td>05/25/2020</td>\n",
       "      <td>05/25/2020</td>\n",
       "      <td>05/25/2020 06:39:44 PM</td>\n",
       "      <td>05/25/2020 06:41:34 PM</td>\n",
       "      <td>05/25/2020 06:55:28 PM</td>\n",
       "      <td>05/25/2020 06:57:32 PM</td>\n",
       "      <td>...</td>\n",
       "      <td>TRUCK</td>\n",
       "      <td>2</td>\n",
       "      <td>8</td>\n",
       "      <td>7</td>\n",
       "      <td>Inner Sunset</td>\n",
       "      <td>201463019-T18</td>\n",
       "      <td>POINT (-122.46829612745225 37.751748874988515)</td>\n",
       "      <td>14</td>\n",
       "      <td>05/25/2020</td>\n",
       "      <td>Memorial Day</td>\n",
       "    </tr>\n",
       "  </tbody>\n",
       "</table>\n",
       "<p>3 rows × 37 columns</p>\n",
       "</div>"
      ],
      "text/plain": [
       "   CallNumber UnitID  IncidentNumber          CallType    CallDate  \\\n",
       "0   201461772     94        20060706  Medical Incident  05/25/2020   \n",
       "1   201463874    E32        20060913  Medical Incident  05/25/2020   \n",
       "2   201463019    T18        20060826  Medical Incident  05/25/2020   \n",
       "\n",
       "    WatchDate            ReceivedDtTm               EntryDtTm  \\\n",
       "0  05/25/2020  05/25/2020 01:34:55 PM  05/25/2020 01:34:55 PM   \n",
       "1  05/25/2020  05/25/2020 11:16:21 PM  05/25/2020 11:17:54 PM   \n",
       "2  05/25/2020  05/25/2020 06:39:44 PM  05/25/2020 06:41:34 PM   \n",
       "\n",
       "             DispatchDtTm            ResponseDtTm  ... UnitType  \\\n",
       "0  05/25/2020 01:36:14 PM  05/25/2020 01:36:19 PM  ...    MEDIC   \n",
       "1  05/25/2020 11:18:27 PM  05/25/2020 11:19:53 PM  ...   ENGINE   \n",
       "2  05/25/2020 06:55:28 PM  05/25/2020 06:57:32 PM  ...    TRUCK   \n",
       "\n",
       "  Unitsequenceincalldispatch FirePreventionDistrict SupervisorDistrict  \\\n",
       "0                          1                     10                 10   \n",
       "1                          1                      9                 11   \n",
       "2                          2                      8                  7   \n",
       "\n",
       "  Neighborhooods-AnalysisBoundaries          RowID  \\\n",
       "0             Bayview Hunters Point   201461772-94   \n",
       "1                         Excelsior  201463874-E32   \n",
       "2                      Inner Sunset  201463019-T18   \n",
       "\n",
       "                                    case_location  AnalysisNeighborhoods  \\\n",
       "0   POINT (-122.38626545834089 37.73782577837169)                      1   \n",
       "1  POINT (-122.42955213038633 37.729273863971024)                      7   \n",
       "2  POINT (-122.46829612745225 37.751748874988515)                     14   \n",
       "\n",
       "         date       holiday  \n",
       "0  05/25/2020  Memorial Day  \n",
       "1  05/25/2020  Memorial Day  \n",
       "2  05/25/2020  Memorial Day  \n",
       "\n",
       "[3 rows x 37 columns]"
      ]
     },
     "execution_count": 14,
     "metadata": {},
     "output_type": "execute_result"
    }
   ],
   "source": [
    "both = calls.join(holidays, on=calls[\"CallDate\"] == holidays[\"date\"], how=\"inner\")\n",
    "both.limit(3).toPandas()"
   ]
  },
  {
   "cell_type": "code",
   "execution_count": 15,
   "id": "64c6f04f-b9d6-4c1b-939a-09a2de20c22f",
   "metadata": {},
   "outputs": [
    {
     "name": "stderr",
     "output_type": "stream",
     "text": [
      "                                                                                \r"
     ]
    },
    {
     "data": {
      "text/html": [
       "<div>\n",
       "<style scoped>\n",
       "    .dataframe tbody tr th:only-of-type {\n",
       "        vertical-align: middle;\n",
       "    }\n",
       "\n",
       "    .dataframe tbody tr th {\n",
       "        vertical-align: top;\n",
       "    }\n",
       "\n",
       "    .dataframe thead th {\n",
       "        text-align: right;\n",
       "    }\n",
       "</style>\n",
       "<table border=\"1\" class=\"dataframe\">\n",
       "  <thead>\n",
       "    <tr style=\"text-align: right;\">\n",
       "      <th></th>\n",
       "      <th>holiday</th>\n",
       "      <th>count</th>\n",
       "    </tr>\n",
       "  </thead>\n",
       "  <tbody>\n",
       "    <tr>\n",
       "      <th>0</th>\n",
       "      <td>Thanksgiving Day</td>\n",
       "      <td>8186</td>\n",
       "    </tr>\n",
       "    <tr>\n",
       "      <th>1</th>\n",
       "      <td>Birthday of Martin Luther King, Jr.</td>\n",
       "      <td>9557</td>\n",
       "    </tr>\n",
       "    <tr>\n",
       "      <th>2</th>\n",
       "      <td>Veterans Day</td>\n",
       "      <td>8674</td>\n",
       "    </tr>\n",
       "    <tr>\n",
       "      <th>3</th>\n",
       "      <td>Independence Day</td>\n",
       "      <td>10457</td>\n",
       "    </tr>\n",
       "    <tr>\n",
       "      <th>4</th>\n",
       "      <td>Columbus Day</td>\n",
       "      <td>9973</td>\n",
       "    </tr>\n",
       "    <tr>\n",
       "      <th>5</th>\n",
       "      <td>Memorial Day</td>\n",
       "      <td>8830</td>\n",
       "    </tr>\n",
       "    <tr>\n",
       "      <th>6</th>\n",
       "      <td>Christmas Day</td>\n",
       "      <td>8179</td>\n",
       "    </tr>\n",
       "    <tr>\n",
       "      <th>7</th>\n",
       "      <td>Labor Day</td>\n",
       "      <td>9778</td>\n",
       "    </tr>\n",
       "    <tr>\n",
       "      <th>8</th>\n",
       "      <td>New Year's Day</td>\n",
       "      <td>9966</td>\n",
       "    </tr>\n",
       "    <tr>\n",
       "      <th>9</th>\n",
       "      <td>Washington's Birthday</td>\n",
       "      <td>9064</td>\n",
       "    </tr>\n",
       "    <tr>\n",
       "      <th>10</th>\n",
       "      <td>Juneteenth National Independence Day</td>\n",
       "      <td>1968</td>\n",
       "    </tr>\n",
       "    <tr>\n",
       "      <th>11</th>\n",
       "      <td>Inauguration Day</td>\n",
       "      <td>798</td>\n",
       "    </tr>\n",
       "  </tbody>\n",
       "</table>\n",
       "</div>"
      ],
      "text/plain": [
       "                                 holiday  count\n",
       "0                       Thanksgiving Day   8186\n",
       "1    Birthday of Martin Luther King, Jr.   9557\n",
       "2                           Veterans Day   8674\n",
       "3                       Independence Day  10457\n",
       "4                           Columbus Day   9973\n",
       "5                           Memorial Day   8830\n",
       "6                          Christmas Day   8179\n",
       "7                              Labor Day   9778\n",
       "8                         New Year's Day   9966\n",
       "9                  Washington's Birthday   9064\n",
       "10  Juneteenth National Independence Day   1968\n",
       "11                      Inauguration Day    798"
      ]
     },
     "execution_count": 15,
     "metadata": {},
     "output_type": "execute_result"
    }
   ],
   "source": [
    "# how many calls occured on each type of holiday\n",
    "both.groupby(\"holiday\").count().toPandas()"
   ]
  },
  {
   "cell_type": "code",
   "execution_count": 16,
   "id": "d82ab738-a769-478b-a366-462fe1554fe6",
   "metadata": {},
   "outputs": [],
   "source": [
    "# what percent of calls occured on a holiday?"
   ]
  },
  {
   "cell_type": "code",
   "execution_count": 17,
   "id": "f6847862-fce7-4082-9058-7b43f3ac6ad8",
   "metadata": {},
   "outputs": [],
   "source": [
    "calls2 = calls.join(holidays, on=calls[\"CallDate\"] == holidays[\"date\"], how=\"left\")"
   ]
  },
  {
   "cell_type": "code",
   "execution_count": 18,
   "id": "23a27541-b4eb-40e8-a6b3-fefdbe1da91f",
   "metadata": {},
   "outputs": [
    {
     "name": "stderr",
     "output_type": "stream",
     "text": [
      "[Stage 30:================================================>         (5 + 1) / 6]\r"
     ]
    },
    {
     "name": "stdout",
     "output_type": "stream",
     "text": [
      "+---------------------------+\n",
      "|(COUNT(holiday) / COUNT(1))|\n",
      "+---------------------------+\n",
      "|        0.01586255181135282|\n",
      "+---------------------------+\n",
      "\n"
     ]
    },
    {
     "name": "stderr",
     "output_type": "stream",
     "text": [
      "                                                                                \r"
     ]
    }
   ],
   "source": [
    "calls2.agg(expr(\"COUNT(holiday) / COUNT(*)\")).show()"
   ]
  },
  {
   "cell_type": "code",
   "execution_count": 19,
   "id": "159c962f-0b58-4db7-a78f-3ee031e19d06",
   "metadata": {},
   "outputs": [],
   "source": [
    "# how many events are there for each type of holiday, on average?\n",
    "# SHOULD do a right join, in case there same holidays with 0 events\n",
    "# calls.join(holidays, calls[\"CallDate\"] == holidays[\"date\"], how=\"????\")"
   ]
  },
  {
   "cell_type": "code",
   "execution_count": 20,
   "id": "b2788b8e-74e9-4f7a-9241-c555194f830d",
   "metadata": {},
   "outputs": [
    {
     "name": "stderr",
     "output_type": "stream",
     "text": [
      "                                                                                \r"
     ]
    },
    {
     "data": {
      "text/html": [
       "<div>\n",
       "<style scoped>\n",
       "    .dataframe tbody tr th:only-of-type {\n",
       "        vertical-align: middle;\n",
       "    }\n",
       "\n",
       "    .dataframe tbody tr th {\n",
       "        vertical-align: top;\n",
       "    }\n",
       "\n",
       "    .dataframe thead th {\n",
       "        text-align: right;\n",
       "    }\n",
       "</style>\n",
       "<table border=\"1\" class=\"dataframe\">\n",
       "  <thead>\n",
       "    <tr style=\"text-align: right;\">\n",
       "      <th></th>\n",
       "      <th>holiday</th>\n",
       "      <th>avg per holiday</th>\n",
       "      <th>occurences</th>\n",
       "    </tr>\n",
       "  </thead>\n",
       "  <tbody>\n",
       "    <tr>\n",
       "      <th>0</th>\n",
       "      <td>Thanksgiving Day</td>\n",
       "      <td>744.181818</td>\n",
       "      <td>11</td>\n",
       "    </tr>\n",
       "    <tr>\n",
       "      <th>1</th>\n",
       "      <td>Birthday of Martin Luther King, Jr.</td>\n",
       "      <td>796.416667</td>\n",
       "      <td>12</td>\n",
       "    </tr>\n",
       "    <tr>\n",
       "      <th>2</th>\n",
       "      <td>Veterans Day</td>\n",
       "      <td>788.545455</td>\n",
       "      <td>11</td>\n",
       "    </tr>\n",
       "    <tr>\n",
       "      <th>3</th>\n",
       "      <td>Independence Day</td>\n",
       "      <td>871.416667</td>\n",
       "      <td>12</td>\n",
       "    </tr>\n",
       "    <tr>\n",
       "      <th>4</th>\n",
       "      <td>Columbus Day</td>\n",
       "      <td>831.083333</td>\n",
       "      <td>12</td>\n",
       "    </tr>\n",
       "    <tr>\n",
       "      <th>5</th>\n",
       "      <td>Juneteenth National Independence Day</td>\n",
       "      <td>984.000000</td>\n",
       "      <td>2</td>\n",
       "    </tr>\n",
       "    <tr>\n",
       "      <th>6</th>\n",
       "      <td>Memorial Day</td>\n",
       "      <td>735.833333</td>\n",
       "      <td>12</td>\n",
       "    </tr>\n",
       "    <tr>\n",
       "      <th>7</th>\n",
       "      <td>Christmas Day</td>\n",
       "      <td>743.545455</td>\n",
       "      <td>11</td>\n",
       "    </tr>\n",
       "    <tr>\n",
       "      <th>8</th>\n",
       "      <td>Inauguration Day</td>\n",
       "      <td>798.000000</td>\n",
       "      <td>1</td>\n",
       "    </tr>\n",
       "    <tr>\n",
       "      <th>9</th>\n",
       "      <td>Labor Day</td>\n",
       "      <td>814.833333</td>\n",
       "      <td>12</td>\n",
       "    </tr>\n",
       "    <tr>\n",
       "      <th>10</th>\n",
       "      <td>New Year's Day</td>\n",
       "      <td>996.600000</td>\n",
       "      <td>10</td>\n",
       "    </tr>\n",
       "    <tr>\n",
       "      <th>11</th>\n",
       "      <td>Washington's Birthday</td>\n",
       "      <td>755.333333</td>\n",
       "      <td>12</td>\n",
       "    </tr>\n",
       "  </tbody>\n",
       "</table>\n",
       "</div>"
      ],
      "text/plain": [
       "                                 holiday  avg per holiday  occurences\n",
       "0                       Thanksgiving Day       744.181818          11\n",
       "1    Birthday of Martin Luther King, Jr.       796.416667          12\n",
       "2                           Veterans Day       788.545455          11\n",
       "3                       Independence Day       871.416667          12\n",
       "4                           Columbus Day       831.083333          12\n",
       "5   Juneteenth National Independence Day       984.000000           2\n",
       "6                           Memorial Day       735.833333          12\n",
       "7                          Christmas Day       743.545455          11\n",
       "8                       Inauguration Day       798.000000           1\n",
       "9                              Labor Day       814.833333          12\n",
       "10                        New Year's Day       996.600000          10\n",
       "11                 Washington's Birthday       755.333333          12"
      ]
     },
     "execution_count": 20,
     "metadata": {},
     "output_type": "execute_result"
    }
   ],
   "source": [
    "# INNER: because the dataset data ranges don't overlap perfectly\n",
    "(calls\n",
    " .join(holidays, calls[\"CallDate\"] == holidays[\"date\"], how=\"inner\")\n",
    " .groupby(\"date\", \"holiday\")\n",
    " .count()\n",
    " .groupby(\"holiday\")\n",
    " .agg(expr(\"avg(count)\").alias(\"avg per holiday\"),\n",
    "      expr(\"count(*)\").alias(\"occurences\"))\n",
    ").toPandas()"
   ]
  },
  {
   "cell_type": "markdown",
   "id": "58315e2f-34a9-41fd-8954-1efb4db0d608",
   "metadata": {},
   "source": [
    "# Do calculations for Jan 1, 2020"
   ]
  },
  {
   "cell_type": "code",
   "execution_count": 21,
   "id": "cf098942-8302-4ad8-89e7-c847f16f9fc1",
   "metadata": {},
   "outputs": [
    {
     "name": "stderr",
     "output_type": "stream",
     "text": [
      "[Stage 40:================================================>         (5 + 1) / 6]\r"
     ]
    },
    {
     "data": {
      "text/plain": [
       "1"
      ]
     },
     "execution_count": 21,
     "metadata": {},
     "output_type": "execute_result"
    }
   ],
   "source": [
    "jan1 = calls.where(\"CallDate = '01/01/2020'\").repartition(1)\n",
    "jan1.rdd.getNumPartitions()"
   ]
  },
  {
   "cell_type": "code",
   "execution_count": 22,
   "id": "4a4b47ed-06b4-47e5-ae54-793fbe8099fd",
   "metadata": {},
   "outputs": [
    {
     "name": "stderr",
     "output_type": "stream",
     "text": [
      "[Stage 41:======================================>                   (4 + 2) / 6]\r"
     ]
    },
    {
     "name": "stdout",
     "output_type": "stream",
     "text": [
      "CPU times: user 5.79 ms, sys: 1.35 ms, total: 7.13 ms\n",
      "Wall time: 2.22 s\n"
     ]
    },
    {
     "name": "stderr",
     "output_type": "stream",
     "text": [
      "                                                                                \r"
     ]
    },
    {
     "data": {
      "text/plain": [
       "1057"
      ]
     },
     "execution_count": 22,
     "metadata": {},
     "output_type": "execute_result"
    }
   ],
   "source": [
    "%%time\n",
    "jan1.count()"
   ]
  },
  {
   "cell_type": "code",
   "execution_count": 31,
   "id": "19ff255c-eca7-4524-978f-9e8165f198a0",
   "metadata": {},
   "outputs": [
    {
     "data": {
      "text/plain": [
       "DataFrame[CallNumber: int, UnitID: string, IncidentNumber: int, CallType: string, CallDate: string, WatchDate: string, ReceivedDtTm: string, EntryDtTm: string, DispatchDtTm: string, ResponseDtTm: string, OnSceneDtTm: string, TransportDtTm: string, HospitalDtTm: string, CallFinalDisposition: string, AvailableDtTm: string, Address: string, City: string, ZipcodeofIncident: int, Battalion: string, StationArea: string, Box: string, OriginalPriority: string, Priority: string, FinalPriority: int, ALSUnit: boolean, CallTypeGroup: string, NumberofAlarms: int, UnitType: string, Unitsequenceincalldispatch: int, FirePreventionDistrict: string, SupervisorDistrict: string, Neighborhooods-AnalysisBoundaries: string, RowID: string, case_location: string, AnalysisNeighborhoods: int]"
      ]
     },
     "execution_count": 31,
     "metadata": {},
     "output_type": "execute_result"
    }
   ],
   "source": [
    "jan1.cache()  # just shorthand for memory_only persist"
   ]
  },
  {
   "cell_type": "code",
   "execution_count": 36,
   "id": "bb367c7d-49a5-4df4-b76b-8a7688ba5fd3",
   "metadata": {},
   "outputs": [],
   "source": [
    "# REVIEW:\n",
    "# 1. memory_only\n",
    "# 2. memory_only_ser (save memory, use more CPU)\n",
    "# 3. disk_only (SSD or HDD) -- save network (disk of workers), but use local disk\n",
    "\n",
    "# variant:\n",
    "# NAME_2 -- replicate to two workers (have places we can schedule work, good if one dies)"
   ]
  },
  {
   "cell_type": "code",
   "execution_count": 24,
   "id": "6ce9a300-42dc-4a28-9ef1-16f0956a44b4",
   "metadata": {},
   "outputs": [
    {
     "name": "stderr",
     "output_type": "stream",
     "text": [
      "[Stage 45:>                                                         (0 + 1) / 1]\r"
     ]
    },
    {
     "name": "stdout",
     "output_type": "stream",
     "text": [
      "CPU times: user 11.1 ms, sys: 485 µs, total: 11.5 ms\n",
      "Wall time: 5.98 s\n"
     ]
    },
    {
     "name": "stderr",
     "output_type": "stream",
     "text": [
      "                                                                                \r"
     ]
    },
    {
     "data": {
      "text/plain": [
       "1057"
      ]
     },
     "execution_count": 24,
     "metadata": {},
     "output_type": "execute_result"
    }
   ],
   "source": [
    "%%time\n",
    "jan1.count()"
   ]
  },
  {
   "cell_type": "code",
   "execution_count": 34,
   "id": "704fa21a-570c-4ae6-ab07-93f13cb67649",
   "metadata": {},
   "outputs": [
    {
     "name": "stdout",
     "output_type": "stream",
     "text": [
      "CPU times: user 1.47 ms, sys: 608 µs, total: 2.08 ms\n",
      "Wall time: 73.8 ms\n"
     ]
    },
    {
     "data": {
      "text/plain": [
       "1057"
      ]
     },
     "execution_count": 34,
     "metadata": {},
     "output_type": "execute_result"
    }
   ],
   "source": [
    "%%time\n",
    "jan1.count()"
   ]
  },
  {
   "cell_type": "code",
   "execution_count": 26,
   "id": "3c837ea8-ddac-4d46-9f86-5338dea22588",
   "metadata": {},
   "outputs": [
    {
     "data": {
      "text/plain": [
       "DataFrame[CallNumber: int, UnitID: string, IncidentNumber: int, CallType: string, CallDate: string, WatchDate: string, ReceivedDtTm: string, EntryDtTm: string, DispatchDtTm: string, ResponseDtTm: string, OnSceneDtTm: string, TransportDtTm: string, HospitalDtTm: string, CallFinalDisposition: string, AvailableDtTm: string, Address: string, City: string, ZipcodeofIncident: int, Battalion: string, StationArea: string, Box: string, OriginalPriority: string, Priority: string, FinalPriority: int, ALSUnit: boolean, CallTypeGroup: string, NumberofAlarms: int, UnitType: string, Unitsequenceincalldispatch: int, FirePreventionDistrict: string, SupervisorDistrict: string, Neighborhooods-AnalysisBoundaries: string, RowID: string, case_location: string, AnalysisNeighborhoods: int]"
      ]
     },
     "execution_count": 26,
     "metadata": {},
     "output_type": "execute_result"
    }
   ],
   "source": [
    "jan1.unpersist()"
   ]
  },
  {
   "cell_type": "code",
   "execution_count": 29,
   "id": "610d337e-b702-40b4-9c89-b9c77319c185",
   "metadata": {},
   "outputs": [
    {
     "name": "stderr",
     "output_type": "stream",
     "text": [
      "[Stage 54:================================================>         (5 + 1) / 6]\r"
     ]
    },
    {
     "name": "stdout",
     "output_type": "stream",
     "text": [
      "CPU times: user 4.44 ms, sys: 0 ns, total: 4.44 ms\n",
      "Wall time: 901 ms\n"
     ]
    },
    {
     "name": "stderr",
     "output_type": "stream",
     "text": [
      "                                                                                \r"
     ]
    },
    {
     "data": {
      "text/plain": [
       "1057"
      ]
     },
     "execution_count": 29,
     "metadata": {},
     "output_type": "execute_result"
    }
   ],
   "source": [
    "%%time\n",
    "jan1.count()"
   ]
  },
  {
   "cell_type": "markdown",
   "id": "0762d3dc-28aa-41e6-9028-4c37fb0ffc48",
   "metadata": {},
   "source": [
    "# Loan Balance"
   ]
  },
  {
   "cell_type": "code",
   "execution_count": 37,
   "id": "6c126e27-3e8d-4d31-907f-7e14c588d9a3",
   "metadata": {},
   "outputs": [
    {
     "data": {
      "text/plain": [
       "[{'id': 'app-20230327135429-0000',\n",
       "  'name': 'cs544',\n",
       "  'attempts': [{'startTime': '2023-03-27T13:54:27.320GMT',\n",
       "    'endTime': '1969-12-31T23:59:59.999GMT',\n",
       "    'lastUpdated': '2023-03-27T13:54:27.320GMT',\n",
       "    'duration': 0,\n",
       "    'sparkUser': 'root',\n",
       "    'completed': False,\n",
       "    'appSparkVersion': '3.2.2',\n",
       "    'startTimeEpoch': 1679925267320,\n",
       "    'lastUpdatedEpoch': 1679925267320,\n",
       "    'endTimeEpoch': -1}]}]"
      ]
     },
     "execution_count": 37,
     "metadata": {},
     "output_type": "execute_result"
    }
   ],
   "source": [
    "import requests\n",
    "\n",
    "# https://spark.apache.org/docs/latest/monitoring.html#rest-api\n",
    "# http://localhost:4040/api/v1/applications\n",
    "# http://localhost:4040/api/v1/applications/{app_id}/executors\n",
    "# look for \"totalTasks\"\n",
    "\n",
    "r = requests.get(\"http://localhost:4040/api/v1/applications\")\n",
    "r.raise_for_status()\n",
    "r.json()"
   ]
  },
  {
   "cell_type": "code",
   "execution_count": 39,
   "id": "74db2ac7-d28c-46b9-99a6-900a773ecfd6",
   "metadata": {},
   "outputs": [
    {
     "name": "stdout",
     "output_type": "stream",
     "text": [
      "3\n",
      "[{'id': 'driver', 'hostPort': 'ca8703ce8c32:32829', 'isActive': True, 'rddBlocks': 0, 'memoryUsed': 321816, 'diskUsed': 0, 'totalCores': 0, 'maxTasks': 0, 'activeTasks': 0, 'failedTasks': 0, 'completedTasks': 0, 'totalTasks': 0, 'totalDuration': 0, 'totalGCTime': 0, 'totalInputBytes': 0, 'totalShuffleRead': 0, 'totalShuffleWrite': 0, 'isBlacklisted': False, 'maxMemory': 384093388, 'addTime': '2023-03-27T13:54:29.833GMT', 'executorLogs': {}, 'memoryMetrics': {'usedOnHeapStorageMemory': 321816, 'usedOffHeapStorageMemory': 0, 'totalOnHeapStorageMemory': 384093388, 'totalOffHeapStorageMemory': 0}, 'blacklistedInStages': [], 'peakMemoryMetrics': {'JVMHeapMemory': 370916352, 'JVMOffHeapMemory': 189605256, 'OnHeapExecutionMemory': 0, 'OffHeapExecutionMemory': 0, 'OnHeapStorageMemory': 50500461, 'OffHeapStorageMemory': 0, 'OnHeapUnifiedMemory': 50500461, 'OffHeapUnifiedMemory': 0, 'DirectPoolMemory': 218526, 'MappedPoolMemory': 0, 'ProcessTreeJVMVMemory': 0, 'ProcessTreeJVMRSSMemory': 0, 'ProcessTreePythonVMemory': 0, 'ProcessTreePythonRSSMemory': 0, 'ProcessTreeOtherVMemory': 0, 'ProcessTreeOtherRSSMemory': 0, 'MinorGCCount': 18, 'MinorGCTime': 687, 'MajorGCCount': 6, 'MajorGCTime': 1456}, 'attributes': {}, 'resources': {}, 'resourceProfileId': 0, 'isExcluded': False, 'excludedInStages': []}, {'id': '1', 'hostPort': '172.26.0.3:40231', 'isActive': True, 'rddBlocks': 0, 'memoryUsed': 259117, 'diskUsed': 0, 'totalCores': 1, 'maxTasks': 1, 'activeTasks': 0, 'failedTasks': 0, 'completedTasks': 69, 'totalTasks': 69, 'totalDuration': 271694, 'totalGCTime': 15528, 'totalInputBytes': 2444510996, 'totalShuffleRead': 343881, 'totalShuffleWrite': 674466, 'isBlacklisted': False, 'maxMemory': 97832140, 'addTime': '2023-03-27T13:54:39.499GMT', 'executorLogs': {'stdout': 'http://172.26.0.3:8081/logPage/?appId=app-20230327135429-0000&executorId=1&logType=stdout', 'stderr': 'http://172.26.0.3:8081/logPage/?appId=app-20230327135429-0000&executorId=1&logType=stderr'}, 'memoryMetrics': {'usedOnHeapStorageMemory': 259117, 'usedOffHeapStorageMemory': 0, 'totalOnHeapStorageMemory': 97832140, 'totalOffHeapStorageMemory': 0}, 'blacklistedInStages': [], 'peakMemoryMetrics': {'JVMHeapMemory': 311200616, 'JVMOffHeapMemory': 146473696, 'OnHeapExecutionMemory': 4456448, 'OffHeapExecutionMemory': 0, 'OnHeapStorageMemory': 28277607, 'OffHeapStorageMemory': 0, 'OnHeapUnifiedMemory': 32112289, 'OffHeapUnifiedMemory': 0, 'DirectPoolMemory': 4635100, 'MappedPoolMemory': 0, 'ProcessTreeJVMVMemory': 0, 'ProcessTreeJVMRSSMemory': 0, 'ProcessTreePythonVMemory': 0, 'ProcessTreePythonRSSMemory': 0, 'ProcessTreeOtherVMemory': 0, 'ProcessTreeOtherRSSMemory': 0, 'MinorGCCount': 540, 'MinorGCTime': 10431, 'MajorGCCount': 14, 'MajorGCTime': 5394}, 'attributes': {}, 'resources': {}, 'resourceProfileId': 0, 'isExcluded': False, 'excludedInStages': []}, {'id': '0', 'hostPort': '172.26.0.4:44837', 'isActive': True, 'rddBlocks': 1, 'memoryUsed': 473329, 'diskUsed': 0, 'totalCores': 1, 'maxTasks': 1, 'activeTasks': 0, 'failedTasks': 0, 'completedTasks': 72, 'totalTasks': 72, 'totalDuration': 263945, 'totalGCTime': 15052, 'totalInputBytes': 2418844522, 'totalShuffleRead': 400872, 'totalShuffleWrite': 371763, 'isBlacklisted': False, 'maxMemory': 97832140, 'addTime': '2023-03-27T13:54:39.462GMT', 'executorLogs': {'stdout': 'http://172.26.0.4:8081/logPage/?appId=app-20230327135429-0000&executorId=0&logType=stdout', 'stderr': 'http://172.26.0.4:8081/logPage/?appId=app-20230327135429-0000&executorId=0&logType=stderr'}, 'memoryMetrics': {'usedOnHeapStorageMemory': 473329, 'usedOffHeapStorageMemory': 0, 'totalOnHeapStorageMemory': 97832140, 'totalOffHeapStorageMemory': 0}, 'blacklistedInStages': [], 'peakMemoryMetrics': {'JVMHeapMemory': 286876288, 'JVMOffHeapMemory': 147347712, 'OnHeapExecutionMemory': 8650752, 'OffHeapExecutionMemory': 0, 'OnHeapStorageMemory': 20462035, 'OffHeapStorageMemory': 0, 'OnHeapUnifiedMemory': 23543890, 'OffHeapUnifiedMemory': 0, 'DirectPoolMemory': 4584824, 'MappedPoolMemory': 0, 'ProcessTreeJVMVMemory': 0, 'ProcessTreeJVMRSSMemory': 0, 'ProcessTreePythonVMemory': 0, 'ProcessTreePythonRSSMemory': 0, 'ProcessTreeOtherVMemory': 0, 'ProcessTreeOtherRSSMemory': 0, 'MinorGCCount': 528, 'MinorGCTime': 10305, 'MajorGCCount': 15, 'MajorGCTime': 5073}, 'attributes': {}, 'resources': {}, 'resourceProfileId': 0, 'isExcluded': False, 'excludedInStages': []}]\n"
     ]
    }
   ],
   "source": [
    "# before balance: 69 and 72 (on the two workers)\n",
    "r = requests.get(\"http://localhost:4040/api/v1/applications/app-20230327135429-0000/executors\")\n",
    "r.raise_for_status()\n",
    "print(len(r.json()))\n",
    "print(r.json())"
   ]
  },
  {
   "cell_type": "code",
   "execution_count": 41,
   "id": "23c5838e-1e89-452c-abd5-7a9349da30f2",
   "metadata": {},
   "outputs": [
    {
     "name": "stdout",
     "output_type": "stream",
     "text": [
      "1057\n",
      "1057\n",
      "1057\n",
      "1057\n",
      "1057\n",
      "1057\n",
      "1057\n",
      "1057\n",
      "1057\n",
      "1057\n"
     ]
    }
   ],
   "source": [
    "for i in range(10):\n",
    "    print(jan1.count())"
   ]
  },
  {
   "cell_type": "code",
   "execution_count": 42,
   "id": "68a12710-0998-4ba2-9295-49b24005c97e",
   "metadata": {},
   "outputs": [
    {
     "name": "stdout",
     "output_type": "stream",
     "text": [
      "3\n",
      "[{'id': 'driver', 'hostPort': 'ca8703ce8c32:32829', 'isActive': True, 'rddBlocks': 0, 'memoryUsed': 359525, 'diskUsed': 0, 'totalCores': 0, 'maxTasks': 0, 'activeTasks': 0, 'failedTasks': 0, 'completedTasks': 0, 'totalTasks': 0, 'totalDuration': 0, 'totalGCTime': 0, 'totalInputBytes': 0, 'totalShuffleRead': 0, 'totalShuffleWrite': 0, 'isBlacklisted': False, 'maxMemory': 384093388, 'addTime': '2023-03-27T13:54:29.833GMT', 'executorLogs': {}, 'memoryMetrics': {'usedOnHeapStorageMemory': 359525, 'usedOffHeapStorageMemory': 0, 'totalOnHeapStorageMemory': 384093388, 'totalOffHeapStorageMemory': 0}, 'blacklistedInStages': [], 'peakMemoryMetrics': {'JVMHeapMemory': 370916352, 'JVMOffHeapMemory': 190627416, 'OnHeapExecutionMemory': 0, 'OffHeapExecutionMemory': 0, 'OnHeapStorageMemory': 50500461, 'OffHeapStorageMemory': 0, 'OnHeapUnifiedMemory': 50500461, 'OffHeapUnifiedMemory': 0, 'DirectPoolMemory': 219524, 'MappedPoolMemory': 0, 'ProcessTreeJVMVMemory': 0, 'ProcessTreeJVMRSSMemory': 0, 'ProcessTreePythonVMemory': 0, 'ProcessTreePythonRSSMemory': 0, 'ProcessTreeOtherVMemory': 0, 'ProcessTreeOtherRSSMemory': 0, 'MinorGCCount': 19, 'MinorGCTime': 708, 'MajorGCCount': 6, 'MajorGCTime': 1456}, 'attributes': {}, 'resources': {}, 'resourceProfileId': 0, 'isExcluded': False, 'excludedInStages': []}, {'id': '1', 'hostPort': '172.26.0.3:40231', 'isActive': True, 'rddBlocks': 0, 'memoryUsed': 247652, 'diskUsed': 0, 'totalCores': 1, 'maxTasks': 1, 'activeTasks': 0, 'failedTasks': 0, 'completedTasks': 69, 'totalTasks': 69, 'totalDuration': 271694, 'totalGCTime': 15528, 'totalInputBytes': 2444510996, 'totalShuffleRead': 343881, 'totalShuffleWrite': 674466, 'isBlacklisted': False, 'maxMemory': 97832140, 'addTime': '2023-03-27T13:54:39.499GMT', 'executorLogs': {'stdout': 'http://172.26.0.3:8081/logPage/?appId=app-20230327135429-0000&executorId=1&logType=stdout', 'stderr': 'http://172.26.0.3:8081/logPage/?appId=app-20230327135429-0000&executorId=1&logType=stderr'}, 'memoryMetrics': {'usedOnHeapStorageMemory': 247652, 'usedOffHeapStorageMemory': 0, 'totalOnHeapStorageMemory': 97832140, 'totalOffHeapStorageMemory': 0}, 'blacklistedInStages': [], 'peakMemoryMetrics': {'JVMHeapMemory': 311200616, 'JVMOffHeapMemory': 146473696, 'OnHeapExecutionMemory': 4456448, 'OffHeapExecutionMemory': 0, 'OnHeapStorageMemory': 28277607, 'OffHeapStorageMemory': 0, 'OnHeapUnifiedMemory': 32112289, 'OffHeapUnifiedMemory': 0, 'DirectPoolMemory': 4635100, 'MappedPoolMemory': 0, 'ProcessTreeJVMVMemory': 0, 'ProcessTreeJVMRSSMemory': 0, 'ProcessTreePythonVMemory': 0, 'ProcessTreePythonRSSMemory': 0, 'ProcessTreeOtherVMemory': 0, 'ProcessTreeOtherRSSMemory': 0, 'MinorGCCount': 540, 'MinorGCTime': 10431, 'MajorGCCount': 14, 'MajorGCTime': 5394}, 'attributes': {}, 'resources': {}, 'resourceProfileId': 0, 'isExcluded': False, 'excludedInStages': []}, {'id': '0', 'hostPort': '172.26.0.4:44837', 'isActive': True, 'rddBlocks': 1, 'memoryUsed': 511038, 'diskUsed': 0, 'totalCores': 1, 'maxTasks': 1, 'activeTasks': 0, 'failedTasks': 0, 'completedTasks': 82, 'totalTasks': 82, 'totalDuration': 264200, 'totalGCTime': 15060, 'totalInputBytes': 2421410042, 'totalShuffleRead': 400872, 'totalShuffleWrite': 371763, 'isBlacklisted': False, 'maxMemory': 97832140, 'addTime': '2023-03-27T13:54:39.462GMT', 'executorLogs': {'stdout': 'http://172.26.0.4:8081/logPage/?appId=app-20230327135429-0000&executorId=0&logType=stdout', 'stderr': 'http://172.26.0.4:8081/logPage/?appId=app-20230327135429-0000&executorId=0&logType=stderr'}, 'memoryMetrics': {'usedOnHeapStorageMemory': 511038, 'usedOffHeapStorageMemory': 0, 'totalOnHeapStorageMemory': 97832140, 'totalOffHeapStorageMemory': 0}, 'blacklistedInStages': [], 'peakMemoryMetrics': {'JVMHeapMemory': 286876288, 'JVMOffHeapMemory': 147602960, 'OnHeapExecutionMemory': 8650752, 'OffHeapExecutionMemory': 0, 'OnHeapStorageMemory': 20462035, 'OffHeapStorageMemory': 0, 'OnHeapUnifiedMemory': 23543890, 'OffHeapUnifiedMemory': 0, 'DirectPoolMemory': 4584824, 'MappedPoolMemory': 0, 'ProcessTreeJVMVMemory': 0, 'ProcessTreeJVMRSSMemory': 0, 'ProcessTreePythonVMemory': 0, 'ProcessTreePythonRSSMemory': 0, 'ProcessTreeOtherVMemory': 0, 'ProcessTreeOtherRSSMemory': 0, 'MinorGCCount': 529, 'MinorGCTime': 10313, 'MajorGCCount': 15, 'MajorGCTime': 5073}, 'attributes': {}, 'resources': {}, 'resourceProfileId': 0, 'isExcluded': False, 'excludedInStages': []}]\n"
     ]
    }
   ],
   "source": [
    "# after balance: 69 and 82 (on the two workers)\n",
    "r = requests.get(\"http://localhost:4040/api/v1/applications/app-20230327135429-0000/executors\")\n",
    "r.raise_for_status()\n",
    "print(len(r.json()))\n",
    "print(r.json())"
   ]
  },
  {
   "cell_type": "markdown",
   "id": "0472e2e2-db58-4dbf-aeda-27ebdd9f8ff1",
   "metadata": {},
   "source": [
    "# Hash Partitioning"
   ]
  },
  {
   "cell_type": "code",
   "execution_count": 43,
   "id": "20b1e08f-128b-4873-b0fd-e5e96a54d98b",
   "metadata": {},
   "outputs": [],
   "source": [
    "# a hash function\n",
    "# input: anything (bytes)\n",
    "# output: number"
   ]
  },
  {
   "cell_type": "code",
   "execution_count": 44,
   "id": "6ed32b94-99f5-46cc-aa39-a9b394b31ad3",
   "metadata": {},
   "outputs": [
    {
     "data": {
      "text/plain": [
       "6074328183178938033"
      ]
     },
     "execution_count": 44,
     "metadata": {},
     "output_type": "execute_result"
    }
   ],
   "source": [
    "hash(b\"abc\")"
   ]
  },
  {
   "cell_type": "code",
   "execution_count": 45,
   "id": "cc1c2aed-41b7-4858-a088-7b5c0726efad",
   "metadata": {},
   "outputs": [
    {
     "data": {
      "text/plain": [
       "8445670831598163921"
      ]
     },
     "execution_count": 45,
     "metadata": {},
     "output_type": "execute_result"
    }
   ],
   "source": [
    "hash(b\"abh\")"
   ]
  },
  {
   "cell_type": "code",
   "execution_count": 52,
   "id": "f47b77a4-ae0d-464a-a339-f720f9412b5c",
   "metadata": {},
   "outputs": [
    {
     "data": {
      "text/plain": [
       "3"
      ]
     },
     "execution_count": 52,
     "metadata": {},
     "output_type": "execute_result"
    }
   ],
   "source": [
    "hash(b\"F\") % 4"
   ]
  },
  {
   "cell_type": "code",
   "execution_count": 53,
   "id": "421a313d-9894-4a3c-96bc-8c95f533eae7",
   "metadata": {},
   "outputs": [],
   "source": [
    "partitions = [[], [], [], []]  # four partitions: the lists indicate the data they are in charge of"
   ]
  },
  {
   "cell_type": "code",
   "execution_count": 56,
   "id": "0221173e-6da2-4009-abc5-20bf68f7a6e9",
   "metadata": {},
   "outputs": [],
   "source": [
    "for letter in \"AAABBECCCDDEFFFFGGHHIJJKAAABBB\":\n",
    "    partition = partitions[hash(letter) % len(partitions)]\n",
    "    partition.append(letter)"
   ]
  },
  {
   "cell_type": "code",
   "execution_count": 57,
   "id": "7e0dce0f-e7d4-4da8-b6f1-a9ef31543f90",
   "metadata": {},
   "outputs": [
    {
     "data": {
      "text/plain": [
       "[['G', 'G', 'I'],\n",
       " ['B', 'B', 'E', 'C', 'C', 'C', 'D', 'D', 'E', 'H', 'H', 'B', 'B', 'B'],\n",
       " ['J', 'J'],\n",
       " ['A', 'A', 'A', 'F', 'F', 'F', 'F', 'K', 'A', 'A', 'A']]"
      ]
     },
     "execution_count": 57,
     "metadata": {},
     "output_type": "execute_result"
    }
   ],
   "source": [
    "partitions"
   ]
  },
  {
   "cell_type": "code",
   "execution_count": 59,
   "id": "8f0bfc8e-a004-4c48-be5c-6e529d60f87a",
   "metadata": {},
   "outputs": [
    {
     "data": {
      "text/plain": [
       "DataFrame[CallType: string, count(1): bigint]"
      ]
     },
     "execution_count": 59,
     "metadata": {},
     "output_type": "execute_result"
    }
   ],
   "source": [
    "spark.sql(\"\"\"\n",
    "SELECT CallType, COUNT(*)\n",
    "FROM calls\n",
    "GROUP BY CallType\n",
    "\"\"\")"
   ]
  },
  {
   "cell_type": "code",
   "execution_count": 61,
   "id": "7e553a28-ef48-4dae-83d6-6924f8d06ac2",
   "metadata": {},
   "outputs": [
    {
     "name": "stdout",
     "output_type": "stream",
     "text": [
      "== Physical Plan ==\n",
      "AdaptiveSparkPlan isFinalPlan=false\n",
      "+- HashAggregate(keys=[CallType#229], functions=[count(1)])\n",
      "   +- Exchange hashpartitioning(CallType#229, 200), ENSURE_REQUIREMENTS, [plan_id=1491]\n",
      "      +- HashAggregate(keys=[CallType#229], functions=[partial_count(1)])\n",
      "         +- FileScan parquet [CallType#229] Batched: true, DataFilters: [], Format: Parquet, Location: InMemoryFileIndex(1 paths)[hdfs://main:9000/sf.parquet], PartitionFilters: [], PushedFilters: [], ReadSchema: struct<CallType:string>\n",
      "\n",
      "\n"
     ]
    }
   ],
   "source": [
    "spark.sql(\"\"\"\n",
    "SELECT CallType, COUNT(*)\n",
    "FROM calls\n",
    "GROUP BY CallType\n",
    "\"\"\").explain()"
   ]
  },
  {
   "cell_type": "code",
   "execution_count": 63,
   "id": "a5d5be34-060b-45f8-be8e-5b0b1b3996a9",
   "metadata": {},
   "outputs": [
    {
     "name": "stdout",
     "output_type": "stream",
     "text": [
      "== Physical Plan ==\n",
      "AdaptiveSparkPlan (5)\n",
      "+- HashAggregate (4)\n",
      "   +- Exchange (3)\n",
      "      +- HashAggregate (2)\n",
      "         +- Scan parquet  (1)\n",
      "\n",
      "\n",
      "(1) Scan parquet \n",
      "Output [1]: [CallType#229]\n",
      "Batched: true\n",
      "Location: InMemoryFileIndex [hdfs://main:9000/sf.parquet]\n",
      "ReadSchema: struct<CallType:string>\n",
      "\n",
      "(2) HashAggregate\n",
      "Input [1]: [CallType#229]\n",
      "Keys [1]: [CallType#229]\n",
      "Functions [1]: [partial_count(1)]\n",
      "Aggregate Attributes [1]: [count#12486L]\n",
      "Results [2]: [CallType#229, count#12487L]\n",
      "\n",
      "(3) Exchange\n",
      "Input [2]: [CallType#229, count#12487L]\n",
      "Arguments: hashpartitioning(CallType#229, 200), ENSURE_REQUIREMENTS, [plan_id=1504]\n",
      "\n",
      "(4) HashAggregate\n",
      "Input [2]: [CallType#229, count#12487L]\n",
      "Keys [1]: [CallType#229]\n",
      "Functions [1]: [count(1)]\n",
      "Aggregate Attributes [1]: [count(1)#12482L]\n",
      "Results [2]: [CallType#229, count(1)#12482L AS count(1)#12483L]\n",
      "\n",
      "(5) AdaptiveSparkPlan\n",
      "Output [2]: [CallType#229, count(1)#12483L]\n",
      "Arguments: isFinalPlan=false\n",
      "\n",
      "\n"
     ]
    }
   ],
   "source": [
    "spark.sql(\"\"\"\n",
    "SELECT CallType, COUNT(*)\n",
    "FROM calls\n",
    "GROUP BY CallType\n",
    "\"\"\").explain(\"formatted\")"
   ]
  },
  {
   "cell_type": "code",
   "execution_count": 60,
   "id": "56cce366-1237-4f3b-95f6-9f98a2e2f6b2",
   "metadata": {},
   "outputs": [
    {
     "name": "stderr",
     "output_type": "stream",
     "text": [
      "                                                                                \r"
     ]
    },
    {
     "data": {
      "text/html": [
       "<div>\n",
       "<style scoped>\n",
       "    .dataframe tbody tr th:only-of-type {\n",
       "        vertical-align: middle;\n",
       "    }\n",
       "\n",
       "    .dataframe tbody tr th {\n",
       "        vertical-align: top;\n",
       "    }\n",
       "\n",
       "    .dataframe thead th {\n",
       "        text-align: right;\n",
       "    }\n",
       "</style>\n",
       "<table border=\"1\" class=\"dataframe\">\n",
       "  <thead>\n",
       "    <tr style=\"text-align: right;\">\n",
       "      <th></th>\n",
       "      <th>CallType</th>\n",
       "      <th>count(1)</th>\n",
       "    </tr>\n",
       "  </thead>\n",
       "  <tbody>\n",
       "    <tr>\n",
       "      <th>0</th>\n",
       "      <td>Elevator / Escalator Rescue</td>\n",
       "      <td>16538</td>\n",
       "    </tr>\n",
       "    <tr>\n",
       "      <th>1</th>\n",
       "      <td>Marine Fire</td>\n",
       "      <td>492</td>\n",
       "    </tr>\n",
       "    <tr>\n",
       "      <th>2</th>\n",
       "      <td>Aircraft Emergency</td>\n",
       "      <td>1512</td>\n",
       "    </tr>\n",
       "    <tr>\n",
       "      <th>3</th>\n",
       "      <td>Confined Space / Structure Collapse</td>\n",
       "      <td>677</td>\n",
       "    </tr>\n",
       "    <tr>\n",
       "      <th>4</th>\n",
       "      <td>Administrative</td>\n",
       "      <td>307</td>\n",
       "    </tr>\n",
       "    <tr>\n",
       "      <th>5</th>\n",
       "      <td>Alarms</td>\n",
       "      <td>664538</td>\n",
       "    </tr>\n",
       "    <tr>\n",
       "      <th>6</th>\n",
       "      <td>Odor (Strange / Unknown)</td>\n",
       "      <td>13373</td>\n",
       "    </tr>\n",
       "    <tr>\n",
       "      <th>7</th>\n",
       "      <td>Lightning Strike (Investigation)</td>\n",
       "      <td>9</td>\n",
       "    </tr>\n",
       "    <tr>\n",
       "      <th>8</th>\n",
       "      <td>Citizen Assist / Service Call</td>\n",
       "      <td>89469</td>\n",
       "    </tr>\n",
       "    <tr>\n",
       "      <th>9</th>\n",
       "      <td>HazMat</td>\n",
       "      <td>4300</td>\n",
       "    </tr>\n",
       "    <tr>\n",
       "      <th>10</th>\n",
       "      <td>Watercraft in Distress</td>\n",
       "      <td>1132</td>\n",
       "    </tr>\n",
       "    <tr>\n",
       "      <th>11</th>\n",
       "      <td>Explosion</td>\n",
       "      <td>2963</td>\n",
       "    </tr>\n",
       "    <tr>\n",
       "      <th>12</th>\n",
       "      <td>Oil Spill</td>\n",
       "      <td>518</td>\n",
       "    </tr>\n",
       "    <tr>\n",
       "      <th>13</th>\n",
       "      <td>Vehicle Fire</td>\n",
       "      <td>27136</td>\n",
       "    </tr>\n",
       "    <tr>\n",
       "      <th>14</th>\n",
       "      <td>Suspicious Package</td>\n",
       "      <td>360</td>\n",
       "    </tr>\n",
       "    <tr>\n",
       "      <th>15</th>\n",
       "      <td>Extrication / Entrapped (Machinery, Vehicle)</td>\n",
       "      <td>869</td>\n",
       "    </tr>\n",
       "    <tr>\n",
       "      <th>16</th>\n",
       "      <td>Other</td>\n",
       "      <td>99557</td>\n",
       "    </tr>\n",
       "    <tr>\n",
       "      <th>17</th>\n",
       "      <td>Outside Fire</td>\n",
       "      <td>77432</td>\n",
       "    </tr>\n",
       "    <tr>\n",
       "      <th>18</th>\n",
       "      <td>Traffic Collision</td>\n",
       "      <td>244813</td>\n",
       "    </tr>\n",
       "    <tr>\n",
       "      <th>19</th>\n",
       "      <td>Assist Police</td>\n",
       "      <td>1480</td>\n",
       "    </tr>\n",
       "    <tr>\n",
       "      <th>20</th>\n",
       "      <td>Gas Leak (Natural and LP Gases)</td>\n",
       "      <td>26635</td>\n",
       "    </tr>\n",
       "    <tr>\n",
       "      <th>21</th>\n",
       "      <td>Water Rescue</td>\n",
       "      <td>31799</td>\n",
       "    </tr>\n",
       "    <tr>\n",
       "      <th>22</th>\n",
       "      <td>Electrical Hazard</td>\n",
       "      <td>19421</td>\n",
       "    </tr>\n",
       "    <tr>\n",
       "      <th>23</th>\n",
       "      <td>High Angle Rescue</td>\n",
       "      <td>1380</td>\n",
       "    </tr>\n",
       "    <tr>\n",
       "      <th>24</th>\n",
       "      <td>Structure Fire</td>\n",
       "      <td>712568</td>\n",
       "    </tr>\n",
       "    <tr>\n",
       "      <th>25</th>\n",
       "      <td>Industrial Accidents</td>\n",
       "      <td>3219</td>\n",
       "    </tr>\n",
       "    <tr>\n",
       "      <th>26</th>\n",
       "      <td>Medical Incident</td>\n",
       "      <td>3950924</td>\n",
       "    </tr>\n",
       "    <tr>\n",
       "      <th>27</th>\n",
       "      <td>Mutual Aid / Assist Outside Agency</td>\n",
       "      <td>572</td>\n",
       "    </tr>\n",
       "    <tr>\n",
       "      <th>28</th>\n",
       "      <td>Fuel Spill</td>\n",
       "      <td>6699</td>\n",
       "    </tr>\n",
       "    <tr>\n",
       "      <th>29</th>\n",
       "      <td>Smoke Investigation (Outside)</td>\n",
       "      <td>13680</td>\n",
       "    </tr>\n",
       "    <tr>\n",
       "      <th>30</th>\n",
       "      <td>Train / Rail Incident</td>\n",
       "      <td>1600</td>\n",
       "    </tr>\n",
       "    <tr>\n",
       "      <th>31</th>\n",
       "      <td>Train / Rail Fire</td>\n",
       "      <td>84</td>\n",
       "    </tr>\n",
       "  </tbody>\n",
       "</table>\n",
       "</div>"
      ],
      "text/plain": [
       "                                        CallType  count(1)\n",
       "0                    Elevator / Escalator Rescue     16538\n",
       "1                                    Marine Fire       492\n",
       "2                             Aircraft Emergency      1512\n",
       "3            Confined Space / Structure Collapse       677\n",
       "4                                 Administrative       307\n",
       "5                                         Alarms    664538\n",
       "6                       Odor (Strange / Unknown)     13373\n",
       "7               Lightning Strike (Investigation)         9\n",
       "8                  Citizen Assist / Service Call     89469\n",
       "9                                         HazMat      4300\n",
       "10                        Watercraft in Distress      1132\n",
       "11                                     Explosion      2963\n",
       "12                                     Oil Spill       518\n",
       "13                                  Vehicle Fire     27136\n",
       "14                            Suspicious Package       360\n",
       "15  Extrication / Entrapped (Machinery, Vehicle)       869\n",
       "16                                         Other     99557\n",
       "17                                  Outside Fire     77432\n",
       "18                             Traffic Collision    244813\n",
       "19                                 Assist Police      1480\n",
       "20               Gas Leak (Natural and LP Gases)     26635\n",
       "21                                  Water Rescue     31799\n",
       "22                             Electrical Hazard     19421\n",
       "23                             High Angle Rescue      1380\n",
       "24                                Structure Fire    712568\n",
       "25                          Industrial Accidents      3219\n",
       "26                              Medical Incident   3950924\n",
       "27            Mutual Aid / Assist Outside Agency       572\n",
       "28                                    Fuel Spill      6699\n",
       "29                 Smoke Investigation (Outside)     13680\n",
       "30                         Train / Rail Incident      1600\n",
       "31                             Train / Rail Fire        84"
      ]
     },
     "execution_count": 60,
     "metadata": {},
     "output_type": "execute_result"
    }
   ],
   "source": [
    "spark.sql(\"\"\"\n",
    "SELECT CallType, COUNT(*)\n",
    "FROM calls\n",
    "GROUP BY CallType\n",
    "\"\"\").toPandas()"
   ]
  },
  {
   "cell_type": "code",
   "execution_count": 65,
   "id": "481f7720-d9a4-4eec-ab1b-bb60c529fa05",
   "metadata": {},
   "outputs": [
    {
     "name": "stderr",
     "output_type": "stream",
     "text": [
      "23/03/27 15:25:30 WARN HiveConf: HiveConf of name hive.stats.jdbc.timeout does not exist\n",
      "23/03/27 15:25:30 WARN HiveConf: HiveConf of name hive.stats.retries.wait does not exist\n",
      "23/03/27 15:25:35 WARN ObjectStore: Version information not found in metastore. hive.metastore.schema.verification is not enabled so recording the schema version 2.3.0\n",
      "23/03/27 15:25:35 WARN ObjectStore: setMetaStoreSchemaVersion called but recording version is disabled: version = 2.3.0, comment = Set by MetaStore UNKNOWN@172.26.0.2\n",
      "23/03/27 15:25:35 WARN ObjectStore: Failed to get database global_temp, returning NoSuchObjectException\n",
      "23/03/27 15:25:36 WARN HadoopFSUtils: The directory hdfs://main:9000/user/hive/warehouse/calls_by_type was not found. Was it deleted very recently?\n",
      "23/03/27 15:25:36 WARN FileUtils: File does not exist: hdfs://main:9000/user/hive/warehouse/calls_by_type; Force to delete it.\n",
      "23/03/27 15:25:36 ERROR FileUtils: Failed to delete hdfs://main:9000/user/hive/warehouse/calls_by_type\n",
      "23/03/27 15:26:05 WARN SessionState: METASTORE_FILTER_HOOK will be ignored, since hive.security.authorization.manager is set to instance of HiveAuthorizerFactory.\n",
      "23/03/27 15:26:05 WARN HiveConf: HiveConf of name hive.internal.ss.authz.settings.applied.marker does not exist\n",
      "23/03/27 15:26:05 WARN HiveConf: HiveConf of name hive.stats.jdbc.timeout does not exist\n",
      "23/03/27 15:26:05 WARN HiveConf: HiveConf of name hive.stats.retries.wait does not exist\n"
     ]
    }
   ],
   "source": [
    "spark.table(\"calls\").sample(True, 0.1).write.bucketBy(10, \"CallType\").saveAsTable(\"calls_by_type\", mode=\"overwrite\")"
   ]
  },
  {
   "cell_type": "code",
   "execution_count": 68,
   "id": "04c9f96d-7947-4997-a440-fee865f5b61b",
   "metadata": {},
   "outputs": [
    {
     "name": "stdout",
     "output_type": "stream",
     "text": [
      "== Physical Plan ==\n",
      "AdaptiveSparkPlan isFinalPlan=false\n",
      "+- HashAggregate(keys=[CallType#12667], functions=[count(1)])\n",
      "   +- HashAggregate(keys=[CallType#12667], functions=[partial_count(1)])\n",
      "      +- FileScan parquet default.calls_by_type[CallType#12667] Batched: true, DataFilters: [], Format: Parquet, Location: InMemoryFileIndex(1 paths)[hdfs://main:9000/user/hive/warehouse/calls_by_type], PartitionFilters: [], PushedFilters: [], ReadSchema: struct<CallType:string>, SelectedBucketsCount: 10 out of 10\n",
      "\n",
      "\n"
     ]
    }
   ],
   "source": [
    "spark.sql(\"SELECT CallType, COUNT(*) FROM calls_by_type GROUP BY CallType\").explain()"
   ]
  },
  {
   "cell_type": "code",
   "execution_count": 69,
   "id": "e4f45056-c4bc-4b91-a6b2-718fd793f03f",
   "metadata": {},
   "outputs": [
    {
     "name": "stdout",
     "output_type": "stream",
     "text": [
      "== Physical Plan ==\n",
      "AdaptiveSparkPlan isFinalPlan=false\n",
      "+- HashAggregate(keys=[CallDate#12668], functions=[count(1)])\n",
      "   +- Exchange hashpartitioning(CallDate#12668, 200), ENSURE_REQUIREMENTS, [plan_id=1560]\n",
      "      +- HashAggregate(keys=[CallDate#12668], functions=[partial_count(1)])\n",
      "         +- FileScan parquet default.calls_by_type[CallDate#12668] Batched: true, DataFilters: [], Format: Parquet, Location: InMemoryFileIndex(1 paths)[hdfs://main:9000/user/hive/warehouse/calls_by_type], PartitionFilters: [], PushedFilters: [], ReadSchema: struct<CallDate:string>\n",
      "\n",
      "\n"
     ]
    }
   ],
   "source": [
    "spark.sql(\"SELECT CallDate, COUNT(*) FROM calls_by_type GROUP BY CallDate\").explain()"
   ]
  },
  {
   "cell_type": "markdown",
   "id": "71f7b27a-c218-47f3-86ba-80e4ad602e50",
   "metadata": {},
   "source": [
    "# Join Strategies (One Computer)"
   ]
  },
  {
   "cell_type": "code",
   "execution_count": 70,
   "id": "a746187f-e019-4716-b536-b0635a255292",
   "metadata": {},
   "outputs": [],
   "source": [
    "# kind_id, color\n",
    "fruits = [\n",
    "    (\"B\", \"Yellow\"),\n",
    "    (\"A\", \"Green\"),\n",
    "    (\"C\", \"Orange\"),\n",
    "    (\"A\", \"Red\"),\n",
    "    (\"C\", \"Purple\"),\n",
    "    (\"B\", \"Green\")\n",
    "]\n",
    "\n",
    "# kind_id, name (assume no duplicate kind_id's)\n",
    "kinds = [\n",
    "    (\"A\", \"Apple\"),\n",
    "    (\"B\", \"Banana\"),\n",
    "    (\"C\", \"Carrot\")\n",
    "]\n",
    "\n",
    "# GOAL: print Yellow Banana, Green Apple, etc (any order)"
   ]
  },
  {
   "cell_type": "markdown",
   "id": "3bc3022c-266e-463d-aa61-59cb58db29d5",
   "metadata": {},
   "source": [
    "## Strategy 1: Hash Table (dict in Python)"
   ]
  },
  {
   "cell_type": "code",
   "execution_count": 71,
   "id": "f162a042-1c4b-4e99-9c21-0faca755bae7",
   "metadata": {},
   "outputs": [
    {
     "data": {
      "text/plain": [
       "{'A': 'Apple', 'B': 'Banana', 'C': 'Carrot'}"
      ]
     },
     "execution_count": 71,
     "metadata": {},
     "output_type": "execute_result"
    }
   ],
   "source": [
    "lookup = dict(kinds)\n",
    "lookup"
   ]
  },
  {
   "cell_type": "code",
   "execution_count": 75,
   "id": "9953c23c-6bef-4fd9-a95a-9b2211add4ed",
   "metadata": {},
   "outputs": [
    {
     "name": "stdout",
     "output_type": "stream",
     "text": [
      "Yellow Banana\n",
      "Green Apple\n",
      "Orange Carrot\n",
      "Red Apple\n",
      "Purple Carrot\n",
      "Green Banana\n"
     ]
    }
   ],
   "source": [
    "for kind_id, color in fruits:\n",
    "    print(color, lookup[kind_id])"
   ]
  },
  {
   "cell_type": "markdown",
   "id": "a08e132a-a3c7-4a9f-9d61-c651b6d0e97d",
   "metadata": {},
   "source": [
    "## Strategy 2: sorting both"
   ]
  },
  {
   "cell_type": "code",
   "execution_count": 76,
   "id": "b8c5f65b-668f-48a1-a349-57eac3649ce6",
   "metadata": {},
   "outputs": [],
   "source": [
    "fruits.sort()\n",
    "kinds.sort()"
   ]
  },
  {
   "cell_type": "code",
   "execution_count": 79,
   "id": "c2470cfa-49fe-4bdc-9bf1-566f8983af59",
   "metadata": {},
   "outputs": [
    {
     "data": {
      "text/plain": [
       "[('A', 'Green'),\n",
       " ('A', 'Red'),\n",
       " ('B', 'Green'),\n",
       " ('B', 'Yellow'),\n",
       " ('C', 'Orange'),\n",
       " ('C', 'Purple')]"
      ]
     },
     "execution_count": 79,
     "metadata": {},
     "output_type": "execute_result"
    }
   ],
   "source": [
    "fruits"
   ]
  },
  {
   "cell_type": "code",
   "execution_count": 83,
   "id": "bc5c7fbc-9a47-4d53-ade3-4b54c166f805",
   "metadata": {},
   "outputs": [
    {
     "name": "stdout",
     "output_type": "stream",
     "text": [
      "Green Apple\n",
      "Red Apple\n",
      "Green Banana\n",
      "Yellow Banana\n",
      "Orange Carrot\n",
      "Purple Carrot\n"
     ]
    }
   ],
   "source": [
    "fruit_idx = 0\n",
    "\n",
    "for kind_id, name in kinds:\n",
    "    while fruit_idx < len(fruits) and fruits[fruit_idx][0] <= kind_id:\n",
    "        if fruits[fruit_idx][0] == kind_id:\n",
    "            print(fruits[fruit_idx][1], name)\n",
    "        fruit_idx += 1"
   ]
  },
  {
   "cell_type": "markdown",
   "id": "b2493ed2-7bf8-4428-bca3-81d5c09401f4",
   "metadata": {},
   "source": [
    "# Distributed Join Strategies"
   ]
  },
  {
   "cell_type": "code",
   "execution_count": 88,
   "id": "5d76fd75-9dd0-406d-92f0-ba5edfbca12a",
   "metadata": {},
   "outputs": [
    {
     "name": "stdout",
     "output_type": "stream",
     "text": [
      "== Physical Plan ==\n",
      "AdaptiveSparkPlan isFinalPlan=false\n",
      "+- HashAggregate(keys=[date#339, holiday#340], functions=[count(1)])\n",
      "   +- Exchange hashpartitioning(date#339, holiday#340, 200), ENSURE_REQUIREMENTS, [plan_id=1644]\n",
      "      +- HashAggregate(keys=[date#339, holiday#340], functions=[partial_count(1)])\n",
      "         +- Project [date#339, holiday#340]\n",
      "            +- BroadcastHashJoin [CallDate#230], [date#339], Inner, BuildRight, false\n",
      "               :- Filter isnotnull(CallDate#230)\n",
      "               :  +- FileScan parquet [CallDate#230] Batched: true, DataFilters: [isnotnull(CallDate#230)], Format: Parquet, Location: InMemoryFileIndex(1 paths)[hdfs://main:9000/sf.parquet], PartitionFilters: [], PushedFilters: [IsNotNull(CallDate)], ReadSchema: struct<CallDate:string>\n",
      "               +- BroadcastExchange HashedRelationBroadcastMode(List(input[0, string, false]),false), [plan_id=1639]\n",
      "                  +- Filter isnotnull(date#339)\n",
      "                     +- FileScan csv [date#339,holiday#340] Batched: false, DataFilters: [isnotnull(date#339)], Format: CSV, Location: InMemoryFileIndex(1 paths)[hdfs://main:9000/holidays2.csv], PartitionFilters: [], PushedFilters: [IsNotNull(date)], ReadSchema: struct<date:string,holiday:string>\n",
      "\n",
      "\n"
     ]
    }
   ],
   "source": [
    "(calls\n",
    " .join(holidays, calls[\"CallDate\"] == holidays[\"date\"], how=\"inner\")\n",
    " .groupby(\"date\", \"holiday\").count()).explain()"
   ]
  },
  {
   "cell_type": "code",
   "execution_count": 89,
   "id": "a9946030-90f0-4439-b7f4-03f37a7301da",
   "metadata": {},
   "outputs": [
    {
     "name": "stderr",
     "output_type": "stream",
     "text": [
      "[Stage 88:================================================>         (5 + 1) / 6]\r"
     ]
    },
    {
     "name": "stdout",
     "output_type": "stream",
     "text": [
      "CPU times: user 21.1 ms, sys: 0 ns, total: 21.1 ms\n",
      "Wall time: 2 s\n"
     ]
    },
    {
     "name": "stderr",
     "output_type": "stream",
     "text": [
      "                                                                                \r"
     ]
    },
    {
     "data": {
      "text/html": [
       "<div>\n",
       "<style scoped>\n",
       "    .dataframe tbody tr th:only-of-type {\n",
       "        vertical-align: middle;\n",
       "    }\n",
       "\n",
       "    .dataframe tbody tr th {\n",
       "        vertical-align: top;\n",
       "    }\n",
       "\n",
       "    .dataframe thead th {\n",
       "        text-align: right;\n",
       "    }\n",
       "</style>\n",
       "<table border=\"1\" class=\"dataframe\">\n",
       "  <thead>\n",
       "    <tr style=\"text-align: right;\">\n",
       "      <th></th>\n",
       "      <th>date</th>\n",
       "      <th>holiday</th>\n",
       "      <th>count</th>\n",
       "    </tr>\n",
       "  </thead>\n",
       "  <tbody>\n",
       "    <tr>\n",
       "      <th>0</th>\n",
       "      <td>05/30/2011</td>\n",
       "      <td>Memorial Day</td>\n",
       "      <td>691</td>\n",
       "    </tr>\n",
       "    <tr>\n",
       "      <th>1</th>\n",
       "      <td>07/04/2011</td>\n",
       "      <td>Independence Day</td>\n",
       "      <td>787</td>\n",
       "    </tr>\n",
       "    <tr>\n",
       "      <th>2</th>\n",
       "      <td>01/18/2016</td>\n",
       "      <td>Birthday of Martin Luther King, Jr.</td>\n",
       "      <td>852</td>\n",
       "    </tr>\n",
       "    <tr>\n",
       "      <th>3</th>\n",
       "      <td>11/24/2016</td>\n",
       "      <td>Thanksgiving Day</td>\n",
       "      <td>722</td>\n",
       "    </tr>\n",
       "    <tr>\n",
       "      <th>4</th>\n",
       "      <td>11/11/2011</td>\n",
       "      <td>Veterans Day</td>\n",
       "      <td>744</td>\n",
       "    </tr>\n",
       "    <tr>\n",
       "      <th>...</th>\n",
       "      <td>...</td>\n",
       "      <td>...</td>\n",
       "      <td>...</td>\n",
       "    </tr>\n",
       "    <tr>\n",
       "      <th>113</th>\n",
       "      <td>10/12/2020</td>\n",
       "      <td>Columbus Day</td>\n",
       "      <td>728</td>\n",
       "    </tr>\n",
       "    <tr>\n",
       "      <th>114</th>\n",
       "      <td>11/11/2021</td>\n",
       "      <td>Veterans Day</td>\n",
       "      <td>853</td>\n",
       "    </tr>\n",
       "    <tr>\n",
       "      <th>115</th>\n",
       "      <td>06/20/2022</td>\n",
       "      <td>Juneteenth National Independence Day</td>\n",
       "      <td>1125</td>\n",
       "    </tr>\n",
       "    <tr>\n",
       "      <th>116</th>\n",
       "      <td>10/11/2021</td>\n",
       "      <td>Columbus Day</td>\n",
       "      <td>839</td>\n",
       "    </tr>\n",
       "    <tr>\n",
       "      <th>117</th>\n",
       "      <td>09/06/2021</td>\n",
       "      <td>Labor Day</td>\n",
       "      <td>875</td>\n",
       "    </tr>\n",
       "  </tbody>\n",
       "</table>\n",
       "<p>118 rows × 3 columns</p>\n",
       "</div>"
      ],
      "text/plain": [
       "           date                               holiday  count\n",
       "0    05/30/2011                          Memorial Day    691\n",
       "1    07/04/2011                      Independence Day    787\n",
       "2    01/18/2016   Birthday of Martin Luther King, Jr.    852\n",
       "3    11/24/2016                      Thanksgiving Day    722\n",
       "4    11/11/2011                          Veterans Day    744\n",
       "..          ...                                   ...    ...\n",
       "113  10/12/2020                          Columbus Day    728\n",
       "114  11/11/2021                          Veterans Day    853\n",
       "115  06/20/2022  Juneteenth National Independence Day   1125\n",
       "116  10/11/2021                          Columbus Day    839\n",
       "117  09/06/2021                             Labor Day    875\n",
       "\n",
       "[118 rows x 3 columns]"
      ]
     },
     "execution_count": 89,
     "metadata": {},
     "output_type": "execute_result"
    }
   ],
   "source": [
    "%%time\n",
    "(calls\n",
    " .join(holidays, calls[\"CallDate\"] == holidays[\"date\"], how=\"inner\")\n",
    " .groupby(\"date\", \"holiday\").count()).toPandas()"
   ]
  },
  {
   "cell_type": "code",
   "execution_count": 90,
   "id": "51b18fab-c482-4a44-b5cb-3cc9098e902a",
   "metadata": {},
   "outputs": [
    {
     "name": "stdout",
     "output_type": "stream",
     "text": [
      "== Physical Plan ==\n",
      "AdaptiveSparkPlan isFinalPlan=false\n",
      "+- HashAggregate(keys=[date#339, holiday#340], functions=[count(1)])\n",
      "   +- HashAggregate(keys=[date#339, holiday#340], functions=[partial_count(1)])\n",
      "      +- Project [date#339, holiday#340]\n",
      "         +- SortMergeJoin [CallDate#230], [date#339], Inner\n",
      "            :- Sort [CallDate#230 ASC NULLS FIRST], false, 0\n",
      "            :  +- Exchange hashpartitioning(CallDate#230, 200), ENSURE_REQUIREMENTS, [plan_id=1822]\n",
      "            :     +- Filter isnotnull(CallDate#230)\n",
      "            :        +- FileScan parquet [CallDate#230] Batched: true, DataFilters: [isnotnull(CallDate#230)], Format: Parquet, Location: InMemoryFileIndex(1 paths)[hdfs://main:9000/sf.parquet], PartitionFilters: [], PushedFilters: [IsNotNull(CallDate)], ReadSchema: struct<CallDate:string>\n",
      "            +- Sort [date#339 ASC NULLS FIRST], false, 0\n",
      "               +- Exchange hashpartitioning(date#339, 200), ENSURE_REQUIREMENTS, [plan_id=1823]\n",
      "                  +- Filter isnotnull(date#339)\n",
      "                     +- FileScan csv [date#339,holiday#340] Batched: false, DataFilters: [isnotnull(date#339)], Format: CSV, Location: InMemoryFileIndex(1 paths)[hdfs://main:9000/holidays2.csv], PartitionFilters: [], PushedFilters: [IsNotNull(date)], ReadSchema: struct<date:string,holiday:string>\n",
      "\n",
      "\n"
     ]
    }
   ],
   "source": [
    "(calls\n",
    " .join(holidays.hint(\"merge\"), calls[\"CallDate\"] == holidays[\"date\"], how=\"inner\")\n",
    " .groupby(\"date\", \"holiday\").count()).explain()"
   ]
  },
  {
   "cell_type": "code",
   "execution_count": 91,
   "id": "349c17ea-daee-4776-8bf0-f5b0d91470bf",
   "metadata": {},
   "outputs": [
    {
     "name": "stderr",
     "output_type": "stream",
     "text": [
      "[Stage 95:>                                                         (0 + 2) / 2]\r"
     ]
    },
    {
     "name": "stdout",
     "output_type": "stream",
     "text": [
      "CPU times: user 24.3 ms, sys: 0 ns, total: 24.3 ms\n",
      "Wall time: 9.06 s\n"
     ]
    },
    {
     "name": "stderr",
     "output_type": "stream",
     "text": [
      "                                                                                \r"
     ]
    },
    {
     "data": {
      "text/html": [
       "<div>\n",
       "<style scoped>\n",
       "    .dataframe tbody tr th:only-of-type {\n",
       "        vertical-align: middle;\n",
       "    }\n",
       "\n",
       "    .dataframe tbody tr th {\n",
       "        vertical-align: top;\n",
       "    }\n",
       "\n",
       "    .dataframe thead th {\n",
       "        text-align: right;\n",
       "    }\n",
       "</style>\n",
       "<table border=\"1\" class=\"dataframe\">\n",
       "  <thead>\n",
       "    <tr style=\"text-align: right;\">\n",
       "      <th></th>\n",
       "      <th>date</th>\n",
       "      <th>holiday</th>\n",
       "      <th>count</th>\n",
       "    </tr>\n",
       "  </thead>\n",
       "  <tbody>\n",
       "    <tr>\n",
       "      <th>0</th>\n",
       "      <td>01/01/2013</td>\n",
       "      <td>New Year's Day</td>\n",
       "      <td>1047</td>\n",
       "    </tr>\n",
       "    <tr>\n",
       "      <th>1</th>\n",
       "      <td>01/01/2014</td>\n",
       "      <td>New Year's Day</td>\n",
       "      <td>1218</td>\n",
       "    </tr>\n",
       "    <tr>\n",
       "      <th>2</th>\n",
       "      <td>01/01/2018</td>\n",
       "      <td>New Year's Day</td>\n",
       "      <td>1136</td>\n",
       "    </tr>\n",
       "    <tr>\n",
       "      <th>3</th>\n",
       "      <td>01/01/2020</td>\n",
       "      <td>New Year's Day</td>\n",
       "      <td>1057</td>\n",
       "    </tr>\n",
       "    <tr>\n",
       "      <th>4</th>\n",
       "      <td>01/01/2021</td>\n",
       "      <td>New Year's Day</td>\n",
       "      <td>795</td>\n",
       "    </tr>\n",
       "    <tr>\n",
       "      <th>...</th>\n",
       "      <td>...</td>\n",
       "      <td>...</td>\n",
       "      <td>...</td>\n",
       "    </tr>\n",
       "    <tr>\n",
       "      <th>113</th>\n",
       "      <td>12/25/2012</td>\n",
       "      <td>Christmas Day</td>\n",
       "      <td>668</td>\n",
       "    </tr>\n",
       "    <tr>\n",
       "      <th>114</th>\n",
       "      <td>12/25/2013</td>\n",
       "      <td>Christmas Day</td>\n",
       "      <td>752</td>\n",
       "    </tr>\n",
       "    <tr>\n",
       "      <th>115</th>\n",
       "      <td>12/25/2014</td>\n",
       "      <td>Christmas Day</td>\n",
       "      <td>788</td>\n",
       "    </tr>\n",
       "    <tr>\n",
       "      <th>116</th>\n",
       "      <td>12/25/2015</td>\n",
       "      <td>Christmas Day</td>\n",
       "      <td>820</td>\n",
       "    </tr>\n",
       "    <tr>\n",
       "      <th>117</th>\n",
       "      <td>12/25/2020</td>\n",
       "      <td>Christmas Day</td>\n",
       "      <td>711</td>\n",
       "    </tr>\n",
       "  </tbody>\n",
       "</table>\n",
       "<p>118 rows × 3 columns</p>\n",
       "</div>"
      ],
      "text/plain": [
       "           date         holiday  count\n",
       "0    01/01/2013  New Year's Day   1047\n",
       "1    01/01/2014  New Year's Day   1218\n",
       "2    01/01/2018  New Year's Day   1136\n",
       "3    01/01/2020  New Year's Day   1057\n",
       "4    01/01/2021  New Year's Day    795\n",
       "..          ...             ...    ...\n",
       "113  12/25/2012   Christmas Day    668\n",
       "114  12/25/2013   Christmas Day    752\n",
       "115  12/25/2014   Christmas Day    788\n",
       "116  12/25/2015   Christmas Day    820\n",
       "117  12/25/2020   Christmas Day    711\n",
       "\n",
       "[118 rows x 3 columns]"
      ]
     },
     "execution_count": 91,
     "metadata": {},
     "output_type": "execute_result"
    }
   ],
   "source": [
    "%%time\n",
    "(calls\n",
    " .join(holidays.hint(\"merge\"), calls[\"CallDate\"] == holidays[\"date\"], how=\"inner\")\n",
    " .groupby(\"date\", \"holiday\").count()).toPandas()"
   ]
  }
 ],
 "metadata": {
  "kernelspec": {
   "display_name": "Python 3 (ipykernel)",
   "language": "python",
   "name": "python3"
  },
  "language_info": {
   "codemirror_mode": {
    "name": "ipython",
    "version": 3
   },
   "file_extension": ".py",
   "mimetype": "text/x-python",
   "name": "python",
   "nbconvert_exporter": "python",
   "pygments_lexer": "ipython3",
   "version": "3.10.6"
  }
 },
 "nbformat": 4,
 "nbformat_minor": 5
}
