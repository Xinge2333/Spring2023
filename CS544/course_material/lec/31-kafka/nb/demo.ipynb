{
 "cells": [
  {
   "cell_type": "code",
   "execution_count": 1,
   "id": "411f9253-d441-43ab-99eb-e92431e2f57c",
   "metadata": {},
   "outputs": [
    {
     "name": "stdout",
     "output_type": "stream",
     "text": [
      "hi\n"
     ]
    }
   ],
   "source": [
    "# thread-safe print\n",
    "from threading import Thread, Lock\n",
    "\n",
    "lock = Lock()\n",
    "def Print(*args):\n",
    "    with lock:\n",
    "        print(*args)\n",
    "        \n",
    "Print(\"hi\")"
   ]
  },
  {
   "cell_type": "code",
   "execution_count": 2,
   "id": "56f79556-5956-4a35-b8c0-dbe76786c284",
   "metadata": {},
   "outputs": [],
   "source": [
    "from kafka import KafkaAdminClient, KafkaProducer, KafkaConsumer"
   ]
  },
  {
   "cell_type": "markdown",
   "id": "45850d37-45b1-42bf-960b-6c90aa7c578a",
   "metadata": {},
   "source": [
    "# KafkaAdminClient"
   ]
  },
  {
   "cell_type": "code",
   "execution_count": 3,
   "id": "1b4c9a6b-c667-4f52-a21b-6fb0299e07be",
   "metadata": {},
   "outputs": [
    {
     "data": {
      "text/plain": [
       "<kafka.admin.client.KafkaAdminClient at 0x7f01934b5f60>"
      ]
     },
     "execution_count": 3,
     "metadata": {},
     "output_type": "execute_result"
    }
   ],
   "source": [
    "broker = \"kafka:9092\"\n",
    "admin = KafkaAdminClient(bootstrap_servers=[broker])\n",
    "admin"
   ]
  },
  {
   "cell_type": "code",
   "execution_count": 4,
   "id": "05b07c78-5707-431f-94ae-9ff815036ef5",
   "metadata": {},
   "outputs": [
    {
     "data": {
      "text/plain": [
       "[]"
      ]
     },
     "execution_count": 4,
     "metadata": {},
     "output_type": "execute_result"
    }
   ],
   "source": [
    "admin.list_topics()"
   ]
  },
  {
   "cell_type": "code",
   "execution_count": 18,
   "id": "ae1e44d7-fc7c-438e-93ed-91566d95b530",
   "metadata": {},
   "outputs": [],
   "source": [
    "from kafka.admin import NewTopic\n",
    "from kafka.errors import TopicAlreadyExistsError"
   ]
  },
  {
   "cell_type": "code",
   "execution_count": 19,
   "id": "e74d97d8-fc60-4942-9ff7-27a8c55eefe2",
   "metadata": {},
   "outputs": [],
   "source": [
    "# admin.delete_topics([\"even_nums\", \"odd_nums\"])"
   ]
  },
  {
   "cell_type": "code",
   "execution_count": 20,
   "id": "4062459d-1297-448d-90e1-b3485f169552",
   "metadata": {},
   "outputs": [
    {
     "name": "stdout",
     "output_type": "stream",
     "text": [
      "already exists\n"
     ]
    }
   ],
   "source": [
    "try:\n",
    "    admin.create_topics([NewTopic(\"even_nums\", num_partitions=1, replication_factor=1)])\n",
    "except TopicAlreadyExistsError:\n",
    "    print(\"already exists\")"
   ]
  },
  {
   "cell_type": "code",
   "execution_count": 21,
   "id": "847ab029-0348-4f1b-8661-a2cfb3cbbd6a",
   "metadata": {},
   "outputs": [
    {
     "name": "stdout",
     "output_type": "stream",
     "text": [
      "already exists\n"
     ]
    }
   ],
   "source": [
    "try:\n",
    "    admin.create_topics([NewTopic(\"odd_nums\", num_partitions=2, replication_factor=1)])\n",
    "except TopicAlreadyExistsError:\n",
    "    print(\"already exists\")"
   ]
  },
  {
   "cell_type": "code",
   "execution_count": 22,
   "id": "2b0185c5-7151-42cf-a8c8-0155453d590a",
   "metadata": {},
   "outputs": [
    {
     "data": {
      "text/plain": [
       "['even_nums', 'odd_nums']"
      ]
     },
     "execution_count": 22,
     "metadata": {},
     "output_type": "execute_result"
    }
   ],
   "source": [
    "admin.list_topics()"
   ]
  },
  {
   "cell_type": "markdown",
   "id": "9438114f-760d-41c0-a7bf-7f0bc20b32d1",
   "metadata": {},
   "source": [
    "# KafkaProducer"
   ]
  },
  {
   "cell_type": "code",
   "execution_count": 23,
   "id": "41dcaec6-12e0-4787-90c7-3ee6a86d6344",
   "metadata": {},
   "outputs": [
    {
     "data": {
      "text/plain": [
       "<kafka.producer.kafka.KafkaProducer at 0x7f01ac20b910>"
      ]
     },
     "execution_count": 23,
     "metadata": {},
     "output_type": "execute_result"
    }
   ],
   "source": [
    "producer = KafkaProducer(bootstrap_servers=[broker])\n",
    "producer"
   ]
  },
  {
   "cell_type": "code",
   "execution_count": 25,
   "id": "658d6e36-0ea0-46e0-a53d-f7922763fec5",
   "metadata": {},
   "outputs": [],
   "source": [
    "result = producer.send(\"even_nums\", value=bytes(str(0), \"utf-8\"))"
   ]
  },
  {
   "cell_type": "code",
   "execution_count": 27,
   "id": "eed873d6-ce87-4e93-a5c2-9a5111e58917",
   "metadata": {},
   "outputs": [
    {
     "data": {
      "text/plain": [
       "RecordMetadata(topic='even_nums', partition=0, topic_partition=TopicPartition(topic='even_nums', partition=0), offset=0, timestamp=1681312260057, log_start_offset=0, checksum=None, serialized_key_size=-1, serialized_value_size=1, serialized_header_size=-1)"
      ]
     },
     "execution_count": 27,
     "metadata": {},
     "output_type": "execute_result"
    }
   ],
   "source": [
    "result.get()"
   ]
  },
  {
   "cell_type": "code",
   "execution_count": 28,
   "id": "79c35a47-ac8a-4a20-b973-b033b8dec468",
   "metadata": {},
   "outputs": [],
   "source": [
    "import time, threading"
   ]
  },
  {
   "cell_type": "code",
   "execution_count": 30,
   "id": "8581c489-82e7-4736-86c1-ecebd43c92f4",
   "metadata": {},
   "outputs": [
    {
     "name": "stdout",
     "output_type": "stream",
     "text": [
      "send 0 to even_nums\n",
      "send 1 to odd_nums\n",
      "send 2 to even_nums\n",
      "send 3 to odd_nums\n",
      "send 4 to even_nums\n",
      "send 5 to odd_nums\n",
      "send 6 to even_nums\n",
      "send 7 to odd_nums\n",
      "send 8 to even_nums\n",
      "send 9 to odd_nums\n"
     ]
    }
   ],
   "source": [
    "def num_producer(topic, start, step):\n",
    "    producer = KafkaProducer(bootstrap_servers=[broker])\n",
    "    num = start\n",
    "    while True:\n",
    "        if num < 10:\n",
    "            Print(\"send\", num, \"to\", topic)\n",
    "        producer.send(topic, value=bytes(str(num), \"utf-8\"))\n",
    "        num += step\n",
    "        time.sleep(1)\n",
    "        \n",
    "threading.Thread(target=num_producer, args=(\"even_nums\", 0, 2)).start()\n",
    "threading.Thread(target=num_producer, args=(\"odd_nums\", 1, 2)).start()"
   ]
  },
  {
   "cell_type": "markdown",
   "id": "a3aa1fd5-66e0-45ec-9e45-7d5bf5b7ddeb",
   "metadata": {},
   "source": [
    "# KafkaConsumer"
   ]
  },
  {
   "cell_type": "code",
   "execution_count": 31,
   "id": "b15fae19-2be3-4647-82da-93a49fccaced",
   "metadata": {},
   "outputs": [
    {
     "data": {
      "text/plain": [
       "<kafka.consumer.group.KafkaConsumer at 0x7f0192285b70>"
      ]
     },
     "execution_count": 31,
     "metadata": {},
     "output_type": "execute_result"
    }
   ],
   "source": [
    "consumer = KafkaConsumer(bootstrap_servers=[broker])\n",
    "consumer"
   ]
  },
  {
   "cell_type": "code",
   "execution_count": 32,
   "id": "086b0f83-5ed7-43aa-b534-7b090fe14ab8",
   "metadata": {},
   "outputs": [
    {
     "data": {
      "text/plain": [
       "{}"
      ]
     },
     "execution_count": 32,
     "metadata": {},
     "output_type": "execute_result"
    }
   ],
   "source": [
    "batch = consumer.poll(1000)\n",
    "batch"
   ]
  },
  {
   "cell_type": "code",
   "execution_count": 33,
   "id": "f36dacb3-3188-47ea-9a5d-8f2b4029223e",
   "metadata": {},
   "outputs": [
    {
     "data": {
      "text/plain": [
       "set()"
      ]
     },
     "execution_count": 33,
     "metadata": {},
     "output_type": "execute_result"
    }
   ],
   "source": [
    "consumer.assignment()"
   ]
  },
  {
   "cell_type": "code",
   "execution_count": 34,
   "id": "d6b2003f-ac2e-4cc8-bc76-367f7a9b8e48",
   "metadata": {},
   "outputs": [],
   "source": [
    "from kafka import TopicPartition"
   ]
  },
  {
   "cell_type": "code",
   "execution_count": 51,
   "id": "b4500c47-1380-48d8-8a3a-2da55ef3bdfd",
   "metadata": {},
   "outputs": [
    {
     "data": {
      "text/plain": [
       "{TopicPartition(topic='even_nums', partition=0)}"
      ]
     },
     "execution_count": 51,
     "metadata": {},
     "output_type": "execute_result"
    }
   ],
   "source": [
    "# manual assignment (use assign method)\n",
    "consumer = KafkaConsumer(bootstrap_servers=[broker])\n",
    "consumer.assign([TopicPartition(\"even_nums\", 0)])\n",
    "consumer.seek_to_beginning()\n",
    "consumer.assignment()"
   ]
  },
  {
   "cell_type": "code",
   "execution_count": 56,
   "id": "71d871ee-1fcd-42ae-a33f-84b072e7763c",
   "metadata": {},
   "outputs": [
    {
     "name": "stdout",
     "output_type": "stream",
     "text": [
      "898\n",
      "900\n"
     ]
    }
   ],
   "source": [
    "# TODO: put all the following in an infinite loop\n",
    "batch = consumer.poll(1000)\n",
    "for topicpartition, messages in batch.items():\n",
    "    for msg in messages:\n",
    "        print(int(str(msg.value, \"utf-8\")))"
   ]
  },
  {
   "cell_type": "code",
   "execution_count": 71,
   "id": "1f2ccf68-917f-4c2c-b382-d74da8a988af",
   "metadata": {},
   "outputs": [
    {
     "name": "stdout",
     "output_type": "stream",
     "text": [
      "set()\n",
      "{TopicPartition(topic='odd_nums', partition=0), TopicPartition(topic='odd_nums', partition=1), TopicPartition(topic='even_nums', partition=0)}\n"
     ]
    }
   ],
   "source": [
    "# automatic assignment (use subscribe method)\n",
    "consumer = KafkaConsumer(bootstrap_servers=[broker])\n",
    "#consumer.subscribe([\"odd_nums\", \"even_nums\"])\n",
    "consumer.subscribe(pattern=r\".*_nums$\")\n",
    "print(consumer.assignment())\n",
    "_ = consumer.poll(1000)\n",
    "print(consumer.assignment())\n",
    "consumer.seek_to_beginning()"
   ]
  },
  {
   "cell_type": "code",
   "execution_count": 92,
   "id": "09536f0b-d4b1-44d7-a159-e059d19a14d1",
   "metadata": {},
   "outputs": [
    {
     "name": "stdout",
     "output_type": "stream",
     "text": [
      "2465 odd_nums 0\n",
      "2467 odd_nums 0\n",
      "2469 odd_nums 0\n",
      "2471 odd_nums 1\n",
      "2473 odd_nums 1\n",
      "2464 even_nums 0\n",
      "2466 even_nums 0\n",
      "2468 even_nums 0\n",
      "2470 even_nums 0\n",
      "2472 even_nums 0\n"
     ]
    }
   ],
   "source": [
    "batch = consumer.poll(1000)\n",
    "for tp, messages in batch.items():\n",
    "    for msg in messages:\n",
    "        print(int(str(msg.value, \"utf-8\")), tp.topic, tp.partition)"
   ]
  },
  {
   "cell_type": "code",
   "execution_count": 93,
   "id": "e9b8bcf7-7510-4388-8209-3a7c89391678",
   "metadata": {},
   "outputs": [
    {
     "name": "stdout",
     "output_type": "stream",
     "text": [
      "634\n",
      "603\n",
      "1238\n"
     ]
    },
    {
     "data": {
      "text/plain": [
       "{TopicPartition(topic='odd_nums', partition=0): 634,\n",
       " TopicPartition(topic='odd_nums', partition=1): 603,\n",
       " TopicPartition(topic='even_nums', partition=0): 1238}"
      ]
     },
     "execution_count": 93,
     "metadata": {},
     "output_type": "execute_result"
    }
   ],
   "source": [
    "# lookup position\n",
    "positions = {}  # key=TopicPartition, value=offset\n",
    "for tp in consumer.assignment():\n",
    "    print(consumer.position(tp))\n",
    "    positions[tp] = consumer.position(tp)\n",
    "positions # TODO: save in file or DB"
   ]
  },
  {
   "cell_type": "code",
   "execution_count": 94,
   "id": "b6ea190c-929e-43c3-a89a-d7c4aeef8b59",
   "metadata": {},
   "outputs": [],
   "source": [
    "# have a new consumer take over!\n",
    "consumer2 = KafkaConsumer(bootstrap_servers=[broker])\n",
    "consumer2.assign(positions.keys())\n",
    "for tp, offset in positions.items():\n",
    "    consumer2.seek(tp, offset)"
   ]
  },
  {
   "cell_type": "code",
   "execution_count": 95,
   "id": "9b5c877f-b5f8-497f-9fc6-f538bdce0d75",
   "metadata": {},
   "outputs": [
    {
     "name": "stdout",
     "output_type": "stream",
     "text": [
      "2475 odd_nums 0\n",
      "2481 odd_nums 0\n",
      "2477 odd_nums 1\n",
      "2479 odd_nums 1\n",
      "2474 even_nums 0\n",
      "2476 even_nums 0\n",
      "2478 even_nums 0\n",
      "2480 even_nums 0\n"
     ]
    }
   ],
   "source": [
    "batch = consumer2.poll(1000)\n",
    "for tp, messages in batch.items():\n",
    "    for msg in messages:\n",
    "        print(int(str(msg.value, \"utf-8\")), tp.topic, tp.partition)"
   ]
  },
  {
   "cell_type": "code",
   "execution_count": 96,
   "id": "e45f8528-febb-48e5-a10e-5c0fae861758",
   "metadata": {},
   "outputs": [
    {
     "name": "stdout",
     "output_type": "stream",
     "text": [
      "3014 group1\n",
      "3014 group2\n",
      "3016 group1\n",
      "3016 group2\n",
      "3018 group2\n",
      "3018 group1\n",
      "3020 group1\n",
      "3020 group2\n",
      "3022 group1\n",
      "3022 group2\n",
      "3024 group2\n",
      "3024 group1\n",
      "3026 group1\n",
      "3028 group1\n"
     ]
    }
   ],
   "source": [
    "# consumer groups\n",
    "def consume_evens(group):\n",
    "    consumer = KafkaConsumer(bootstrap_servers=[broker], group_id=group)\n",
    "    consumer.subscribe(\"even_nums\")\n",
    "    #while True:\n",
    "    for i in range(10): # TODO: use infinite loop\n",
    "        batch = consumer.poll(1000)\n",
    "        for tp, messages in batch.items():\n",
    "            for msg in messages:\n",
    "                Print(int(str(msg.value, \"utf-8\")), group)\n",
    "                \n",
    "threading.Thread(target=consume_evens, args=(\"group1\",)).start()\n",
    "threading.Thread(target=consume_evens, args=(\"group2\",)).start()"
   ]
  },
  {
   "cell_type": "markdown",
   "id": "4acb1c92-b0e9-45d3-a997-2ca6a5618d4b",
   "metadata": {},
   "source": [
    "# Beach Animals"
   ]
  },
  {
   "cell_type": "code",
   "execution_count": 97,
   "id": "1097dfca-0d65-4570-8126-cd5aa26cf8f7",
   "metadata": {},
   "outputs": [],
   "source": [
    "! python3 -m grpc_tools.protoc -I=. --python_out=. animals.proto"
   ]
  },
  {
   "cell_type": "code",
   "execution_count": 98,
   "id": "0013092d-8400-405e-83d7-4c257e2ea0f0",
   "metadata": {},
   "outputs": [],
   "source": [
    "from animals_pb2 import *"
   ]
  },
  {
   "cell_type": "code",
   "execution_count": 101,
   "id": "daf129df-f23d-4983-95ad-cd5b3ae77599",
   "metadata": {},
   "outputs": [
    {
     "data": {
      "text/plain": [
       "b'\\n\\x01A\\x12\\x05Shark'"
      ]
     },
     "execution_count": 101,
     "metadata": {},
     "output_type": "execute_result"
    }
   ],
   "source": [
    "s = Sighting(beach=\"A\", animal=\"Shark\")\n",
    "s.SerializeToString()"
   ]
  },
  {
   "cell_type": "code",
   "execution_count": 102,
   "id": "cb532087-acbb-43d0-b873-3f8c17065028",
   "metadata": {},
   "outputs": [
    {
     "data": {
      "text/plain": [
       "'ABCDEFGHIJKLMNOPQRSTUVWXYZ'"
      ]
     },
     "execution_count": 102,
     "metadata": {},
     "output_type": "execute_result"
    }
   ],
   "source": [
    "import string, random\n",
    "string.ascii_uppercase"
   ]
  },
  {
   "cell_type": "code",
   "execution_count": null,
   "id": "0da6aeb7-0b05-4aa9-99ac-ceb28ecbb131",
   "metadata": {},
   "outputs": [],
   "source": [
    "def animal_gen():\n",
    "    Print(\"generating animals\")\n",
    "    producer = KafkaProducer(bootstrap_servers=[broker])\n",
    "    while True:\n",
    "        beach = ????\n",
    "        animal = ????\n",
    "        s = Sighting(beach=beach, animal=animal)\n",
    "        value = s.SerializeToString()\n",
    "        key = beach\n",
    "        producer.send(\"anmials\", value=value, key=key)"
   ]
  }
 ],
 "metadata": {
  "kernelspec": {
   "display_name": "Python 3 (ipykernel)",
   "language": "python",
   "name": "python3"
  },
  "language_info": {
   "codemirror_mode": {
    "name": "ipython",
    "version": 3
   },
   "file_extension": ".py",
   "mimetype": "text/x-python",
   "name": "python",
   "nbconvert_exporter": "python",
   "pygments_lexer": "ipython3",
   "version": "3.10.6"
  }
 },
 "nbformat": 4,
 "nbformat_minor": 5
}
