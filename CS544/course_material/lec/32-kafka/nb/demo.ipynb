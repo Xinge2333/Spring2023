{
 "cells": [
  {
   "cell_type": "code",
   "execution_count": 1,
   "id": "b15fae19-2be3-4647-82da-93a49fccaced",
   "metadata": {},
   "outputs": [
    {
     "name": "stdout",
     "output_type": "stream",
     "text": [
      "hi\n"
     ]
    }
   ],
   "source": [
    "# thread-safe print\n",
    "from threading import Thread, Lock\n",
    "\n",
    "lock = Lock()\n",
    "def Print(*args):\n",
    "    with lock:\n",
    "        print(*args)\n",
    "        \n",
    "Print(\"hi\")"
   ]
  },
  {
   "cell_type": "code",
   "execution_count": 2,
   "id": "945fc647-2397-4314-a83c-9a5123506c9a",
   "metadata": {},
   "outputs": [
    {
     "data": {
      "text/plain": [
       "CreateTopicsResponse_v3(throttle_time_ms=0, topic_errors=[(topic='animals', error_code=0, error_message=None)])"
      ]
     },
     "execution_count": 2,
     "metadata": {},
     "output_type": "execute_result"
    }
   ],
   "source": [
    "# topic creation\n",
    "from kafka import KafkaAdminClient, KafkaProducer\n",
    "from kafka.admin import NewTopic\n",
    "broker = \"kafka:9092\"\n",
    "admin = KafkaAdminClient(bootstrap_servers=[broker])\n",
    "admin.create_topics([NewTopic(\"animals\", 4, 1)])"
   ]
  },
  {
   "cell_type": "markdown",
   "id": "a9573417-1ca0-4eb5-8faa-5be10ca66ecf",
   "metadata": {},
   "source": [
    "# Producer"
   ]
  },
  {
   "cell_type": "code",
   "execution_count": 4,
   "id": "c7fc6f4b-4f35-49b5-b441-15bc3902ed14",
   "metadata": {},
   "outputs": [
    {
     "data": {
      "text/plain": [
       "'ABCDEFGHIJ'"
      ]
     },
     "execution_count": 4,
     "metadata": {},
     "output_type": "execute_result"
    }
   ],
   "source": [
    "import string, random, threading, json, time\n",
    "string.ascii_uppercase[:10]"
   ]
  },
  {
   "cell_type": "code",
   "execution_count": 7,
   "id": "e34b03a0-233f-43a7-bf1b-a666755a2cf7",
   "metadata": {},
   "outputs": [],
   "source": [
    "from animals_pb2 import *"
   ]
  },
  {
   "cell_type": "code",
   "execution_count": 8,
   "id": "99aa099f-4449-4c82-ae7e-0d222fe9c18f",
   "metadata": {},
   "outputs": [
    {
     "name": "stdout",
     "output_type": "stream",
     "text": [
      "generating animals\n"
     ]
    }
   ],
   "source": [
    "# producer\n",
    "def animal_gen():\n",
    "    Print(\"generating animals\")\n",
    "    producer = KafkaProducer(bootstrap_servers=[broker])\n",
    "    while True:\n",
    "        beach = random.choice(list(string.ascii_uppercase[:10]))\n",
    "        animal = random.choice([\"dolphin\", \"shark\", \"seagull\"])\n",
    "        s = Sighting(beach=beach, animal=animal)\n",
    "        value = s.SerializeToString()\n",
    "        key = bytes(beach, \"utf-8\")\n",
    "        producer.send(\"animals\", value=value, key=key)\n",
    "        time.sleep(1)\n",
    "threading.Thread(target=animal_gen).start()"
   ]
  },
  {
   "cell_type": "markdown",
   "id": "8062c230-1f16-4a4d-aa9e-d97887c84362",
   "metadata": {},
   "source": [
    "# Python Consumer"
   ]
  },
  {
   "cell_type": "markdown",
   "id": "a336f27b-b166-4117-a2fe-808daded48af",
   "metadata": {},
   "source": [
    "## Streaming Group By on Beach"
   ]
  },
  {
   "cell_type": "code",
   "execution_count": 12,
   "id": "e699bb95-e9d1-4836-88ca-a6a945c6aa4c",
   "metadata": {},
   "outputs": [
    {
     "name": "stdout",
     "output_type": "stream",
     "text": [
      "{'J': 60, 'A': 81, 'F': 68, 'I': 75, 'B': 77, 'C': 61, 'D': 44, 'E': 34}\n",
      "{'J': 60, 'A': 81, 'F': 68, 'I': 75, 'B': 77, 'C': 61, 'D': 79, 'E': 69, 'H': 81, 'G': 66}\n",
      "{'J': 60, 'A': 82, 'F': 68, 'I': 75, 'B': 77, 'C': 61, 'D': 79, 'E': 69, 'H': 81, 'G': 66}\n",
      "{'J': 60, 'A': 82, 'F': 68, 'I': 75, 'B': 77, 'C': 61, 'D': 80, 'E': 69, 'H': 81, 'G': 66}\n",
      "{'J': 60, 'A': 83, 'F': 68, 'I': 75, 'B': 77, 'C': 61, 'D': 80, 'E': 69, 'H': 81, 'G': 66}\n",
      "{'J': 60, 'A': 83, 'F': 68, 'I': 75, 'B': 77, 'C': 61, 'D': 80, 'E': 69, 'H': 81, 'G': 66}\n",
      "{'J': 60, 'A': 83, 'F': 68, 'I': 75, 'B': 77, 'C': 61, 'D': 81, 'E': 69, 'H': 81, 'G': 66}\n",
      "{'J': 60, 'A': 83, 'F': 68, 'I': 75, 'B': 77, 'C': 61, 'D': 81, 'E': 69, 'H': 81, 'G': 66}\n",
      "{'J': 60, 'A': 83, 'F': 68, 'I': 76, 'B': 77, 'C': 61, 'D': 81, 'E': 69, 'H': 81, 'G': 66}\n",
      "{'J': 60, 'A': 84, 'F': 68, 'I': 76, 'B': 77, 'C': 61, 'D': 81, 'E': 69, 'H': 81, 'G': 66}\n"
     ]
    }
   ],
   "source": [
    "from kafka import KafkaConsumer, TopicPartition\n",
    "\n",
    "def beach_counter(partitions=[]):\n",
    "    consumer = KafkaConsumer(bootstrap_servers=[broker])\n",
    "    consumer.assign([TopicPartition(\"animals\", part_num) for part_num in partitions])\n",
    "    consumer.seek_to_beginning()\n",
    "    \n",
    "    counts = {}\n",
    "    \n",
    "    #TODO: while True:\n",
    "    for i in range(10):\n",
    "        batch = consumer.poll(1000)\n",
    "        for tp, messages in batch.items():\n",
    "            for msg in messages:\n",
    "                s = Sighting.FromString(msg.value)\n",
    "                if s.beach not in counts:\n",
    "                    counts[s.beach] = 0\n",
    "                counts[s.beach] += 1\n",
    "        Print(counts)\n",
    "        \n",
    "beach_counter([0,1,2,3])\n"
   ]
  },
  {
   "cell_type": "markdown",
   "id": "1d69f8b5-c089-47b4-bd0f-b22457879f35",
   "metadata": {},
   "source": [
    "## Stream Group By on Animal"
   ]
  },
  {
   "cell_type": "code",
   "execution_count": null,
   "id": "3da5ee66-5e26-46ad-8ddc-81569b84d20e",
   "metadata": {},
   "outputs": [],
   "source": []
  },
  {
   "cell_type": "markdown",
   "id": "b56947fe-f7cf-4215-8e8f-92127891a54e",
   "metadata": {},
   "source": [
    "# Spark Consumer"
   ]
  },
  {
   "cell_type": "code",
   "execution_count": null,
   "id": "29b0b43a-79b1-4ca1-abc6-77dcc6e44e14",
   "metadata": {},
   "outputs": [],
   "source": []
  }
 ],
 "metadata": {
  "kernelspec": {
   "display_name": "Python 3 (ipykernel)",
   "language": "python",
   "name": "python3"
  },
  "language_info": {
   "codemirror_mode": {
    "name": "ipython",
    "version": 3
   },
   "file_extension": ".py",
   "mimetype": "text/x-python",
   "name": "python",
   "nbconvert_exporter": "python",
   "pygments_lexer": "ipython3",
   "version": "3.10.6"
  }
 },
 "nbformat": 4,
 "nbformat_minor": 5
}
