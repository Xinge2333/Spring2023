{
 "cells": [
  {
   "cell_type": "code",
   "execution_count": 1,
   "id": "317b92a6-bd10-40af-b5df-36f8cec188e4",
   "metadata": {},
   "outputs": [],
   "source": [
    "# project: p1\n",
    "# submitter: xlu323@wisc.edu\n",
    "# partner: none\n",
    "# hours: 6"
   ]
  },
  {
   "cell_type": "code",
   "execution_count": 2,
   "id": "95c5fedb-c120-419a-b083-f4a48ca96e6c",
   "metadata": {},
   "outputs": [],
   "source": [
    "import pandas as pd\n",
    "import torch\n",
    "import time\n",
    "import matplotlib.pyplot as plt"
   ]
  },
  {
   "cell_type": "code",
   "execution_count": 3,
   "id": "cc483da2-bf1a-4ba9-820c-afebfc7f44a6",
   "metadata": {},
   "outputs": [
    {
     "name": "stdout",
     "output_type": "stream",
     "text": [
      "9.844\n"
     ]
    }
   ],
   "source": [
    "#q1\n",
    "\n",
    "def read_csv_to_tensor(file_name, mode):\n",
    "    with open(file_name,encoding='utf-8') as f:\n",
    "        train_file = pd.read_csv(f)\n",
    "    f.close()\n",
    "    \n",
    "    DTH_CUM_CP = train_file.columns[-1]\n",
    "    \n",
    "    if mode == 'el':\n",
    "        trian_file_to_torch = train_file.loc[:, train_file.columns != DTH_CUM_CP]\n",
    "        torch_file = torch.tensor(trian_file_to_torch.values, dtype=torch.float64)\n",
    "    if mode == 'ol':\n",
    "        trian_file_to_torch = train_file.loc[:,train_file.columns == DTH_CUM_CP]\n",
    "        torch_file = torch.tensor(trian_file_to_torch.values, dtype=torch.float64)\n",
    "\n",
    "    return torch_file\n",
    "\n",
    "trainX = read_csv_to_tensor('train.csv','el')\n",
    "trainY = read_csv_to_tensor('train.csv','ol')\n",
    "testX = read_csv_to_tensor('test.csv','el')\n",
    "testY = read_csv_to_tensor('test.csv','ol')\n",
    "coef = torch.tensor([\n",
    "        [0.0040],\n",
    "        [0.0040],\n",
    "        [0.0040],\n",
    "        [0.0040],\n",
    "        [0.0040],\n",
    "        [0.0040], # POS_50_59_CP\n",
    "        [0.0300], # POS_60_69_CP\n",
    "        [0.0300],\n",
    "        [0.0300],\n",
    "        [0.0300]\n",
    "], dtype=testX.dtype)\n",
    "\n",
    "\n",
    "if torch.cuda.is_available(): \n",
    "    print(\"on GPU\")\n",
    "    trainX = trainX.to(\"cuda\")\n",
    "    trainY = trainY.to(\"cuda\")\n",
    "    testX = testX.to(\"cuda\")\n",
    "    testY = testY.to(\"cuda\")\n",
    "    first_testX = testX[0]@coef\n",
    "    print(first_testX.item())\n",
    "else:\n",
    "    first_testX = testX[0]@coef\n",
    "    print(first_testX.item())\n",
    "    \n"
   ]
  },
  {
   "cell_type": "code",
   "execution_count": 4,
   "id": "c15fd739-f67c-42e4-93ef-ab14bd729fcb",
   "metadata": {},
   "outputs": [
    {
     "data": {
      "text/plain": [
       "tensor(0.4110, dtype=torch.float64)"
      ]
     },
     "execution_count": 4,
     "metadata": {},
     "output_type": "execute_result"
    }
   ],
   "source": [
    "#q2\n",
    "def r2_score(trueY, predictedY):\n",
    "    trueY_mean = torch.mean(trueY)\n",
    "    SStot = torch.sum((trueY-trueY_mean)**2)\n",
    "    SSreg = torch.sum((trueY-predictedY)**2)\n",
    "    \n",
    "    improvement = SStot - SSreg\n",
    "    r2_score = improvement/SStot\n",
    "    \n",
    "    return r2_score\n",
    "predictedY = testX@coef\n",
    "testY_r2_score = r2_score(testY, predictedY)\n",
    "testY_r2_score"
   ]
  },
  {
   "cell_type": "code",
   "execution_count": 5,
   "id": "c19f1498-3ea4-4b81-8f96-37a4b661ca84",
   "metadata": {},
   "outputs": [
    {
     "name": "stdout",
     "output_type": "stream",
     "text": [
      "tensor([0.8000], requires_grad=True) tensor([19.], grad_fn=<AddBackward0>)\n",
      "tensor([1.4400], requires_grad=True) tensor([13.2400], grad_fn=<AddBackward0>)\n",
      "tensor([1.9520], requires_grad=True) tensor([9.5536], grad_fn=<AddBackward0>)\n",
      "tensor([2.3616], requires_grad=True) tensor([7.1943], grad_fn=<AddBackward0>)\n",
      "tensor([2.6893], requires_grad=True) tensor([5.6844], grad_fn=<AddBackward0>)\n",
      "tensor([2.9514], requires_grad=True) tensor([4.7180], grad_fn=<AddBackward0>)\n",
      "tensor([3.1611], requires_grad=True) tensor([4.0995], grad_fn=<AddBackward0>)\n",
      "tensor([3.3289], requires_grad=True) tensor([3.7037], grad_fn=<AddBackward0>)\n",
      "tensor([3.4631], requires_grad=True) tensor([3.4504], grad_fn=<AddBackward0>)\n",
      "tensor([3.5705], requires_grad=True) tensor([3.2882], grad_fn=<AddBackward0>)\n",
      "tensor([3.6564], requires_grad=True) tensor([3.1845], grad_fn=<AddBackward0>)\n",
      "tensor([3.7251], requires_grad=True) tensor([3.1181], grad_fn=<AddBackward0>)\n",
      "tensor([3.7801], requires_grad=True) tensor([3.0756], grad_fn=<AddBackward0>)\n",
      "tensor([3.8241], requires_grad=True) tensor([3.0484], grad_fn=<AddBackward0>)\n",
      "tensor([3.8593], requires_grad=True) tensor([3.0309], grad_fn=<AddBackward0>)\n",
      "tensor([3.8874], requires_grad=True) tensor([3.0198], grad_fn=<AddBackward0>)\n",
      "tensor([3.9099], requires_grad=True) tensor([3.0127], grad_fn=<AddBackward0>)\n",
      "tensor([3.9279], requires_grad=True) tensor([3.0081], grad_fn=<AddBackward0>)\n",
      "tensor([3.9424], requires_grad=True) tensor([3.0052], grad_fn=<AddBackward0>)\n",
      "tensor([3.9539], requires_grad=True) tensor([3.0033], grad_fn=<AddBackward0>)\n",
      "tensor([3.9631], requires_grad=True) tensor([3.0021], grad_fn=<AddBackward0>)\n",
      "tensor([3.9705], requires_grad=True) tensor([3.0014], grad_fn=<AddBackward0>)\n",
      "tensor([3.9764], requires_grad=True) tensor([3.0009], grad_fn=<AddBackward0>)\n",
      "tensor([3.9811], requires_grad=True) tensor([3.0006], grad_fn=<AddBackward0>)\n",
      "tensor([3.9849], requires_grad=True) tensor([3.0004], grad_fn=<AddBackward0>)\n",
      "tensor([3.9879], requires_grad=True) tensor([3.0002], grad_fn=<AddBackward0>)\n",
      "tensor([3.9903], requires_grad=True) tensor([3.0001], grad_fn=<AddBackward0>)\n",
      "tensor([3.9923], requires_grad=True) tensor([3.0001], grad_fn=<AddBackward0>)\n",
      "tensor([3.9938], requires_grad=True) tensor([3.0001], grad_fn=<AddBackward0>)\n",
      "tensor([3.9950], requires_grad=True) tensor([3.0000], grad_fn=<AddBackward0>)\n"
     ]
    }
   ],
   "source": [
    "#q3\n",
    "\n",
    "x = torch.tensor([0.0], requires_grad=True)\n",
    "optimizer = torch.optim.SGD([x], lr=0.1)\n",
    "\n",
    "for a in range(30):\n",
    "    optimizer.zero_grad()\n",
    "    y = x**2 - 8*x + 19\n",
    "    y.backward()\n",
    "    optimizer.step()\n",
    "    print(x, y)\n",
    "\n",
    "\n",
    "    \n",
    "    "
   ]
  },
  {
   "cell_type": "code",
   "execution_count": 6,
   "id": "8522fb09-25a7-4af1-9161-56b5cce83fb4",
   "metadata": {},
   "outputs": [
    {
     "name": "stderr",
     "output_type": "stream",
     "text": [
      "/tmp/ipykernel_149970/639546544.py:2: UserWarning: To copy construct from a tensor, it is recommended to use sourceTensor.clone().detach() or sourceTensor.clone().detach().requires_grad_(True), rather than torch.tensor(sourceTensor).\n",
      "  trainX= torch.tensor(trainX, dtype=torch.float32)\n",
      "/tmp/ipykernel_149970/639546544.py:3: UserWarning: To copy construct from a tensor, it is recommended to use sourceTensor.clone().detach() or sourceTensor.clone().detach().requires_grad_(True), rather than torch.tensor(sourceTensor).\n",
      "  trainY= torch.tensor(trainY, dtype=torch.float32)\n"
     ]
    },
    {
     "name": "stdout",
     "output_type": "stream",
     "text": [
      "Loss: 27.11383056640625\n",
      "R2 score: 0.5418499708175659\n",
      "Time: 6.8926842212677\n"
     ]
    },
    {
     "data": {
      "image/png": "[encoded data removed]",
      "text/plain": [
       "<Figure size 640x480 with 1 Axes>"
      ]
     },
     "metadata": {},
     "output_type": "display_data"
    }
   ],
   "source": [
    "#q4\n",
    "trainX= torch.tensor(trainX, dtype=torch.float32)\n",
    "trainY= torch.tensor(trainY, dtype=torch.float32)\n",
    "\n",
    "ds = torch.utils.data.TensorDataset(trainX,trainY)\n",
    "dl = torch.utils.data.DataLoader(ds, shuffle=True, batch_size=32)\n",
    "\n",
    "model = torch.nn.Linear(trainX.shape[-1], trainY.shape[-1])\n",
    "optimizer = torch.optim.SGD([model.weight, model.bias], lr=0.000001)\n",
    "loss_fn = torch.nn.MSELoss()\n",
    "\n",
    "begin = time.time()\n",
    "for epoch in range(400):\n",
    "    # getting from the lecture\n",
    "    for batchx, batchy in dl:\n",
    "        predictedy = model(batchx)\n",
    "        loss = loss_fn(batchy, predictedy)\n",
    "        loss.backward()         # update weight.grad and bias.grad\n",
    "        optimizer.step()        # update weight and bias based on the gradients\n",
    "        optimizer.zero_grad()   # weight.grad = 0 and bias.grad = 0\n",
    "end = time.time()    \n",
    "all_time = end-begin\n",
    "lostfn = loss_fn(trainY, model(trainX)).item()\n",
    "r2score = r2_score(model(trainX), trainY).item()\n",
    "print('Loss:', lostfn)\n",
    "print('R2 score:',r2score)\n",
    "print('Time:',all_time)\n",
    "\n",
    "x_name = pd.read_csv('train.csv').columns.values.tolist()[0:-1]\n",
    "y_weight = model.weight.tolist()[0]\n",
    "plt.plot(x_name,y_weight)\n",
    "plt.xticks(rotation = 45)\n",
    "plt.show()"
   ]
  },
  {
   "cell_type": "code",
   "execution_count": null,
   "id": "ed51b0f8-3dd8-49ec-8dff-bc0f696f7a48",
   "metadata": {},
   "outputs": [],
   "source": []
  }
 ],
 "metadata": {
  "kernelspec": {
   "display_name": "Python 3 (ipykernel)",
   "language": "python",
   "name": "python3"
  },
  "language_info": {
   "codemirror_mode": {
    "name": "ipython",
    "version": 3
   },
   "file_extension": ".py",
   "mimetype": "text/x-python",
   "name": "python",
   "nbconvert_exporter": "python",
   "pygments_lexer": "ipython3",
   "version": "3.10.6"
  }
 },
 "nbformat": 4,
 "nbformat_minor": 5
}
